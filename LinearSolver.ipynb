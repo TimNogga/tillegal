{
 "cells": [
  {
   "cell_type": "code",
   "execution_count": 44,
   "id": "67d1dcb2-e1e0-421a-963c-7d39ea614076",
   "metadata": {
    "ExecuteTime": {
     "end_time": "2023-11-06T08:35:47.358674Z",
     "start_time": "2023-11-06T08:35:47.353738Z"
    }
   },
   "outputs": [],
   "source": [
    "import numpy as np\n",
    "from numpy.linalg import eig\n",
    "from math import sqrt\n",
    "\n",
    "import numpy as np\n",
    "\n",
    "def ComputeSVD(A):\n",
    "    \"\"\" \n",
    "    Compute SVD decomposition of matrix A. Returns tuple (U, Sigma, V) of np.matrix objects.\n",
    "    \"\"\"\n",
    "    ATA = A.T @ A\n",
    "    eigen_values_V, V = np.linalg.eig(ATA)\n",
    "\n",
    "    # Sort eigenvalues and eigenvectors in descending order\n",
    "    idx = np.argsort(eigen_values_V)[::-1]\n",
    "    eigen_values_V = eigen_values_V[idx]\n",
    "    V = V[:, idx]\n",
    "\n",
    "    Sigma = np.diag(np.sqrt(eigen_values_V))\n",
    "\n",
    "    # Compute U using A, V and Sigma\n",
    "    U = A @ V @ np.linalg.inv(Sigma)\n",
    "\n",
    "    return U, Sigma, V\n",
    "\n",
    "def PseudoInverse(A):\n",
    "    \"\"\" \n",
    "    Compute the pseudo inverse of matrix A using its SVD.\n",
    "    \"\"\"\n",
    "    U, Sigma, V = ComputeSVD(A)\n",
    "    diagvalues = np.diag(Sigma)\n",
    "    diagvalues = diagvalues**-1\n",
    "    Sigma_plus = np.diag(diagvalues)\n",
    "\n",
    "    for i in range(min(A.shape[0], A.shape[1])):\n",
    "        if Sigma[i, i] != 0:\n",
    "            Sigma_plus[i, i] = 1 / Sigma[i, i]\n",
    "\n",
    "    print(V.shape)\n",
    "    print(Sigma_plus.shape)\n",
    "    print(U.H.shape)\n",
    "\n",
    "    A_plus = V @ Sigma_plus @ U.H\n",
    "    return A_plus\n",
    "\n",
    "\n",
    "def LinearSolve(A, b):\n",
    "    \"\"\" \n",
    "    Given a matrix A and a vector b this function solves the linear\n",
    "    equations A*x=b by solving the least squares problem of minimizing\n",
    "    |A*x-b| and returns the optimal x.\n",
    "    \"\"\"\n",
    "    A_plus = PseudoInverse(A)\n",
    "    x = A_plus @ b\n",
    "    #x = 0\n",
    "    return x\n"
   ]
  },
  {
   "cell_type": "code",
   "execution_count": 45,
   "id": "f703a484-5f63-4d69-95b8-37acfbe68c90",
   "metadata": {
    "ExecuteTime": {
     "end_time": "2023-11-06T08:35:54.098178Z",
     "start_time": "2023-11-06T08:35:54.091811Z"
    }
   },
   "outputs": [
    {
     "name": "stdout",
     "output_type": "stream",
     "text": [
      "U:\n",
      "[[-0.04328203 -0.50635895 -0.74576154]\n",
      " [-0.1166556  -0.6007988  -0.0414841 ]\n",
      " [-0.32673486 -0.546948    0.63915977]\n",
      " [-0.93688978  0.28894516 -0.18328554]]\n",
      "Sigma:\n",
      "[[30.0685691   0.          0.        ]\n",
      " [ 0.          2.16759711  0.        ]\n",
      " [ 0.          0.          0.42740494]]\n",
      "V:\n",
      "[[-0.04734386 -0.62980366 -0.7753102 ]\n",
      " [-0.30193159 -0.73084951  0.61212442]\n",
      " [-0.95215328  0.26307098 -0.15555638]]\n",
      "\n",
      "If the following numbers are nearly zero, SVD seems to be working.\n",
      "2.100669880799093e-14\n",
      "2.0906809392281362e-14\n",
      "5.4541403277016055e-15\n",
      "\n",
      "(3, 3)\n",
      "(3, 3)\n",
      "(3, 4)\n",
      "If the following number is nearly zero, linear solving seems to be working: 1.172633466287674e-13\n",
      "✔️ The solution is close to the numpy least squares result.\n"
     ]
    }
   ],
   "source": [
    "# Try the SVD decomposition\n",
    "A = np.matrix([[1.0, 1.0, 1.0], [1.0, 2.0, 3.0], [1.0, 4.0, 9.0], [1.0, 8.0, 27.0]])\n",
    "U, Sigma, V = ComputeSVD(A)\n",
    "print(\"U:\")\n",
    "print(U)\n",
    "print(\"Sigma:\")\n",
    "print(Sigma)\n",
    "print(\"V:\")\n",
    "print(V)\n",
    "print()\n",
    "print(\"If the following numbers are nearly zero, SVD seems to be working.\")\n",
    "print(np.linalg.norm(U * Sigma * V.H - A))\n",
    "print(np.linalg.norm(U.H * U - np.eye(3)))\n",
    "print(np.linalg.norm(V.H * V - np.eye(3)))\n",
    "print()\n",
    "\n",
    "# Try solving a least squares system\n",
    "b = np.matrix([1.0, 2.0, 3.0, 4.0]).T\n",
    "x = LinearSolve(A, b)\n",
    "\n",
    "difference = np.linalg.norm(x - np.linalg.lstsq(A, b, rcond=None)[0])\n",
    "print(\"If the following number is nearly zero, \" \"linear solving seems to be working:\", difference)\n",
    "if np.isclose(difference, 0.0):\n",
    "    print(\"✔️ The solution is close to the numpy least squares result.\")\n",
    "else:\n",
    "    print(\"❌ The solution seems to be wrong.\")"
   ]
  },
  {
   "cell_type": "code",
   "execution_count": null,
   "id": "179a98ececf96849",
   "metadata": {
    "ExecuteTime": {
     "start_time": "2023-11-06T08:32:53.005912Z"
    },
    "collapsed": false,
    "jupyter": {
     "outputs_hidden": false
    }
   },
   "outputs": [],
   "source": []
  }
 ],
 "metadata": {
  "kernelspec": {
   "display_name": "Python 3 (ipykernel)",
   "language": "python",
   "name": "python3"
  },
  "language_info": {
   "codemirror_mode": {
    "name": "ipython",
    "version": 3
   },
   "file_extension": ".py",
   "mimetype": "text/x-python",
   "name": "python",
   "nbconvert_exporter": "python",
   "pygments_lexer": "ipython3",
   "version": "3.10.9"
  }
 },
 "nbformat": 4,
 "nbformat_minor": 5
}
