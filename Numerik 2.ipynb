{
 "cells": [
  {
   "cell_type": "markdown",
   "source": [
    "### Arbeitsblatt 2 Numerik ###\n",
    "- Tim Nogga\n",
    "- Kolja von der Twer"
   ],
   "metadata": {
    "collapsed": false
   },
   "id": "e49478c29278a3a6"
  },
  {
   "cell_type": "markdown",
   "source": [
    "### Nr.1 ###\n",
    "\n",
    "- a) $$ \\parallel B \\parallel _{1} = max\\{3+1+8, 0+2+4, 2+1+6\\} = 12$$ \\\\  $$ \\parallel B \\parallel _{\\infty} = max\\{3+0+2, 1+2+1, 8+4+6\\} = 18$$\n",
    "- ## Frobenius Norm ##\n",
    "$$ \\parallel B \\parallel _{\\text{F}} = \\sqrt{3^{2}  + 2^{2} + 6^{2}} =\\sqrt{49} = 7 $$"
   ],
   "metadata": {
    "collapsed": false
   },
   "id": "7221fb494c9266ff"
  },
  {
   "cell_type": "code",
   "execution_count": null,
   "outputs": [],
   "source": [
    "  "
   ],
   "metadata": {
    "collapsed": false
   },
   "id": "414f50165240df9"
  },
  {
   "cell_type": "code",
   "execution_count": null,
   "outputs": [],
   "source": [],
   "metadata": {
    "collapsed": false
   },
   "id": "cde50e3090a5cb8e"
  }
 ],
 "metadata": {
  "kernelspec": {
   "display_name": "Python 3",
   "language": "python",
   "name": "python3"
  },
  "language_info": {
   "codemirror_mode": {
    "name": "ipython",
    "version": 2
   },
   "file_extension": ".py",
   "mimetype": "text/x-python",
   "name": "python",
   "nbconvert_exporter": "python",
   "pygments_lexer": "ipython2",
   "version": "2.7.6"
  }
 },
 "nbformat": 4,
 "nbformat_minor": 5
}
