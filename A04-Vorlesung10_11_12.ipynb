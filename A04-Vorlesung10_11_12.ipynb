{
 "cells": [
  {
   "cell_type": "markdown",
   "id": "f5a78643",
   "metadata": {
    "pycharm": {
     "name": "#%% md\n"
    }
   },
   "source": [
    "Before you turn this problem in, make sure everything runs as expected. First, **restart the kernel** (in the menubar, select Kernel$\\rightarrow$Restart) and then **run all cells** (in the menubar, select Cell$\\rightarrow$Run All).\n",
    "\n",
    "Make sure you fill in any place that says `YOUR CODE HERE` or \"YOUR ANSWER HERE\", as well as your name and collaborators below:"
   ]
  },
  {
   "cell_type": "code",
   "execution_count": null,
   "id": "5454df7f",
   "metadata": {
    "pycharm": {
     "name": "#%%\n"
    }
   },
   "outputs": [],
   "source": [
    "NAME = \"\"\n",
    "COLLABORATORS = \"\""
   ]
  },
  {
   "cell_type": "markdown",
   "id": "6317d395",
   "metadata": {
    "pycharm": {
     "name": "#%% md\n"
    }
   },
   "source": [
    "---"
   ]
  },
  {
   "cell_type": "markdown",
   "id": "1759e2b9",
   "metadata": {
    "collapsed": false,
    "jupyter": {
     "outputs_hidden": false
    },
    "pycharm": {
     "name": "#%% md\n"
    }
   },
   "source": [
    "# Vorlesung 10: Einführung in Data Science & Maschinelles Lernen"
   ]
  },
  {
   "cell_type": "markdown",
   "id": "323bc127",
   "metadata": {
    "deletable": false,
    "editable": false,
    "nbgrader": {
     "cell_type": "markdown",
     "checksum": "1dcc31591862c655d06b6ee0d5c8b756",
     "grade": false,
     "grade_id": "cell-d52de1117cbee904",
     "locked": true,
     "schema_version": 3,
     "solution": false,
     "task": false
    },
    "pycharm": {
     "name": "#%% md\n"
    }
   },
   "source": [
    "    1. Bitte beschreiben Sie in eigenen Worten: Was sind die zwei zentralen Aspekte, um sicherzustellen, dass die Input-Daten für einen ML-Algorithmus zugänglich und für die Problemstellung repräsenativ sind (und nicht nur Spezialfälle abdecken)? (2 Punkte)"
   ]
  },
  {
   "cell_type": "markdown",
   "id": "5dd2c962",
   "metadata": {
    "deletable": false,
    "nbgrader": {
     "cell_type": "markdown",
     "checksum": "6d2d2d13fbefaf4007c1e5e0a44e5d15",
     "grade": true,
     "grade_id": "cell-b6724bfdbb4a3a75",
     "locked": false,
     "points": 2,
     "schema_version": 3,
     "solution": true,
     "task": false
    },
    "pycharm": {
     "name": "#%% md\n"
    }
   },
   "source": [
    "YOUR ANSWER HERE"
   ]
  },
  {
   "cell_type": "markdown",
   "id": "a1293d3b",
   "metadata": {
    "deletable": false,
    "editable": false,
    "nbgrader": {
     "cell_type": "markdown",
     "checksum": "60ed6edb5ac6159c81fec53f08cc7646",
     "grade": false,
     "grade_id": "cell-5330da72c5cbcc34",
     "locked": true,
     "schema_version": 3,
     "solution": false,
     "task": false
    },
    "pycharm": {
     "name": "#%% md\n"
    }
   },
   "source": [
    "    2. Welche Schritte hinsichtlich der Datenrepräsentation können unternommen werden, um die Speicher- und Laufzeitkomlexität (bezogen auf einen ML-Algorithmus) zu reduzieren? Nennen Sie neben den einzelnen Verfahren jeweils grob die Idee/die Vorgehensweise, die ihnen zugrunde liegen. (2 Punkte)"
   ]
  },
  {
   "cell_type": "markdown",
   "id": "8f41a226",
   "metadata": {
    "deletable": false,
    "nbgrader": {
     "cell_type": "markdown",
     "checksum": "b5695134756fdb35e8332a23b6d3147b",
     "grade": true,
     "grade_id": "cell-cd905e3080f3ac12",
     "locked": false,
     "points": 2,
     "schema_version": 3,
     "solution": true,
     "task": false
    },
    "pycharm": {
     "name": "#%% md\n"
    }
   },
   "source": [
    "YOUR ANSWER HERE"
   ]
  },
  {
   "cell_type": "markdown",
   "id": "9dc2bcd7",
   "metadata": {
    "deletable": false,
    "editable": false,
    "nbgrader": {
     "cell_type": "markdown",
     "checksum": "7695d6c2441e19e6af69d30ae3ab7e12",
     "grade": false,
     "grade_id": "cell-1c728a35fc3d20e2",
     "locked": true,
     "schema_version": 3,
     "solution": false,
     "task": false
    },
    "pycharm": {
     "name": "#%% md\n"
    }
   },
   "source": [
    "    3. Nennen Sie die konzeptionellen Unterschiede hinsichtlich Anwendungsfall, Methodik und Ergebnisse zwischen Supervised und Unsupervised Learning (3P) "
   ]
  },
  {
   "cell_type": "markdown",
   "id": "6b6db196",
   "metadata": {
    "deletable": false,
    "nbgrader": {
     "cell_type": "markdown",
     "checksum": "bc43a0310c1906423b3749a6b9b387a2",
     "grade": true,
     "grade_id": "cell-b8bd46ec3817f06b",
     "locked": false,
     "points": 3,
     "schema_version": 3,
     "solution": true,
     "task": false
    },
    "pycharm": {
     "name": "#%% md\n"
    }
   },
   "source": [
    "YOUR ANSWER HERE"
   ]
  },
  {
   "cell_type": "markdown",
   "id": "f0ae939e",
   "metadata": {
    "deletable": false,
    "editable": false,
    "nbgrader": {
     "cell_type": "markdown",
     "checksum": "5d43e6ec58ec4dc8faeac807a0a1f202",
     "grade": false,
     "grade_id": "cell-56507f10912da525",
     "locked": true,
     "schema_version": 3,
     "solution": false,
     "task": false
    },
    "pycharm": {
     "name": "#%% md\n"
    }
   },
   "source": [
    "    4.1 Beschreiben Sie, was man unter Klassifikation und Regression versteht. (2 Punkte)"
   ]
  },
  {
   "cell_type": "markdown",
   "id": "63620cd0",
   "metadata": {
    "deletable": false,
    "nbgrader": {
     "cell_type": "markdown",
     "checksum": "a37927fac103e3ffc541eb153748b3d2",
     "grade": true,
     "grade_id": "cell-59f04308362b886b",
     "locked": false,
     "points": 2,
     "schema_version": 3,
     "solution": true,
     "task": false
    },
    "pycharm": {
     "name": "#%% md\n"
    }
   },
   "source": [
    "YOUR ANSWER HERE"
   ]
  },
  {
   "cell_type": "markdown",
   "id": "a21487e9",
   "metadata": {
    "deletable": false,
    "editable": false,
    "nbgrader": {
     "cell_type": "markdown",
     "checksum": "4e2e71d719f08dbd6602de69843fb755",
     "grade": false,
     "grade_id": "cell-0783fcf2d8e2eb69",
     "locked": true,
     "schema_version": 3,
     "solution": false,
     "task": false
    },
    "pycharm": {
     "name": "#%% md\n"
    }
   },
   "source": [
    "    4.2 Bitte geben Sie alle nachfolgenden Aufgaben an, die in den Bereich des Supervised Learning fallen.  (3 Punkte)\n",
    "\n",
    "        a. Vorhersage eines Warenpreises aufgrund von vergangenen Handelsdaten \n",
    "        b. Clustering von DNA-Sequenzen, um evolutionäre Prozesse nachzuvollziehen\n",
    "        c. Klassifikation von Hunden- und Katzenbildern\n",
    "        d. Vorhersage der Tageshöchsttemperatur für einen bestimmten Ort am nächsten Tag\n",
    "        e. Anordnung einer Sammlung von Textdokumenten in 10 Gruppen basierend auf ihrer textuellen/semantischen Ähnlichkeit.\n",
    "        f. Vorhersage der allgemeinen Zufriedenheit (positiv bzw. negativ) einer Produktrezension"
   ]
  },
  {
   "cell_type": "markdown",
   "id": "8cf92324",
   "metadata": {
    "deletable": false,
    "nbgrader": {
     "cell_type": "markdown",
     "checksum": "36f7eead50e86a31783d603b9593a439",
     "grade": true,
     "grade_id": "cell-d14d6576d60d26dd",
     "locked": false,
     "points": 3,
     "schema_version": 3,
     "solution": true,
     "task": false
    },
    "pycharm": {
     "name": "#%% md\n"
    }
   },
   "source": [
    "YOUR ANSWER HERE"
   ]
  },
  {
   "cell_type": "markdown",
   "id": "349fe583",
   "metadata": {
    "deletable": false,
    "editable": false,
    "nbgrader": {
     "cell_type": "markdown",
     "checksum": "15073f9683504fe704a28cd9b42c8135",
     "grade": false,
     "grade_id": "cell-e12b0fd1628863e1",
     "locked": true,
     "schema_version": 3,
     "solution": false,
     "task": false
    },
    "pycharm": {
     "name": "#%% md\n"
    }
   },
   "source": [
    "    4.3 Von der Liste der Aufgaben aus 4.2, die in den Bereich des Supervised Learning fallen, ordnen Sie jeweils zu, ob es sich um eine Klassifikation oder eine Regression handelt. (2 Punkte)"
   ]
  },
  {
   "cell_type": "markdown",
   "id": "8246bfca",
   "metadata": {
    "deletable": false,
    "nbgrader": {
     "cell_type": "markdown",
     "checksum": "7f8940a7b3ed28766ba2b73deae2a721",
     "grade": true,
     "grade_id": "cell-ace02833cd5b628c",
     "locked": false,
     "points": 2,
     "schema_version": 3,
     "solution": true,
     "task": false
    },
    "pycharm": {
     "name": "#%% md\n"
    }
   },
   "source": [
    "YOUR ANSWER HERE"
   ]
  },
  {
   "cell_type": "markdown",
   "id": "88bd4bc7",
   "metadata": {
    "deletable": false,
    "editable": false,
    "nbgrader": {
     "cell_type": "markdown",
     "checksum": "7873af2f71a68328493977f895ea1dfb",
     "grade": false,
     "grade_id": "cell-1362c57668f3e8a1",
     "locked": true,
     "schema_version": 3,
     "solution": false,
     "task": false
    },
    "pycharm": {
     "name": "#%% md\n"
    }
   },
   "source": [
    "    5. Was ist das Lernziel eines Reinforcement-Algorithmus? (1 point)"
   ]
  },
  {
   "cell_type": "markdown",
   "id": "949d6445",
   "metadata": {
    "deletable": false,
    "nbgrader": {
     "cell_type": "markdown",
     "checksum": "1e34053b9fc8faa6243158b24d9331d0",
     "grade": true,
     "grade_id": "cell-30684ee5eaaaa878",
     "locked": false,
     "points": 1,
     "schema_version": 3,
     "solution": true,
     "task": false
    },
    "pycharm": {
     "name": "#%% md\n"
    }
   },
   "source": [
    "YOUR ANSWER HERE"
   ]
  },
  {
   "cell_type": "markdown",
   "id": "cd92746c",
   "metadata": {
    "deletable": false,
    "editable": false,
    "nbgrader": {
     "cell_type": "markdown",
     "checksum": "3a615305adb8cb75644718889da1cd8a",
     "grade": false,
     "grade_id": "cell-0a314e26c7438ef4",
     "locked": true,
     "schema_version": 3,
     "solution": false,
     "task": false
    },
    "pycharm": {
     "name": "#%% md\n"
    }
   },
   "source": [
    "# Vorlesung 11: Elemente der Statistik"
   ]
  },
  {
   "cell_type": "markdown",
   "id": "ef0888ae",
   "metadata": {
    "deletable": false,
    "editable": false,
    "nbgrader": {
     "cell_type": "markdown",
     "checksum": "13008ae050aaebab766d3b3d2ed72686",
     "grade": false,
     "grade_id": "cell-7e0d2311ae658221",
     "locked": true,
     "schema_version": 3,
     "solution": false,
     "task": false
    },
    "pycharm": {
     "name": "#%% md\n"
    }
   },
   "source": [
    "    1. Geben Sie an, welche der folgenden Aussagen über Machine Learning Modelle ***richtig*** sind. (4 Punkte)\n",
    "\n",
    "        a. Die Komplexität von ML-Modellen ist in der Regel unabängig von der Anzahl der Eingaben.\n",
    "        b. Ein ML-Algorithmus soll lernen, auf neue/zukünftige Eingaben, die während des Lernprozesses nicht zugänglich sind, richtig zu reagieren.\n",
    "        c. Die Modelle, welche mithilfe einer Stichprobe erstellt wurden, sollen auf die Grundgesamtheit generalisieren.\n",
    "        d. Die Wahrscheinlichkeit eines Zufallsereignisses liegt im Bereich [-1,1].\n",
    "        e. Zufallsvariablen können nur diskret sein.\n",
    "        f. Bei stetigen Zufallsvariablen umfasst die Menge der Elementarereignisse unendlich viele Elemente.\n",
    "        g. Nicht-probabilistische Stichproben sind für Inferenz-statistische Auswertungen und Generalisierung nicht geeignet.\n",
    "        h. Die Varianz der Mittelwertverteilung ist mit der Populationsvarianz nicht identisch"
   ]
  },
  {
   "cell_type": "markdown",
   "id": "9e46d3f4",
   "metadata": {
    "deletable": false,
    "nbgrader": {
     "cell_type": "markdown",
     "checksum": "14149b9d8fa8a2a03362256b4093d87c",
     "grade": true,
     "grade_id": "cell-6d610423f0e2472a",
     "locked": false,
     "points": 4,
     "schema_version": 3,
     "solution": true,
     "task": false
    },
    "pycharm": {
     "name": "#%% md\n"
    }
   },
   "source": [
    "YOUR ANSWER HERE"
   ]
  },
  {
   "cell_type": "markdown",
   "id": "269fa9d8",
   "metadata": {
    "deletable": false,
    "editable": false,
    "nbgrader": {
     "cell_type": "markdown",
     "checksum": "2af3a4472c3f45fe914478741edceca2",
     "grade": false,
     "grade_id": "cell-f06fb5709a309db2",
     "locked": true,
     "schema_version": 3,
     "solution": false,
     "task": false
    },
    "pycharm": {
     "name": "#%% md\n"
    }
   },
   "source": [
    "    2.1 Nennen sie die drei Arten von Zufallsstichproben und wie sie durchgeführt werden. (4 Punkte)"
   ]
  },
  {
   "cell_type": "markdown",
   "id": "930c95c0",
   "metadata": {
    "deletable": false,
    "nbgrader": {
     "cell_type": "markdown",
     "checksum": "d7144c5ec0aa3f79cd6e9236f037dbae",
     "grade": true,
     "grade_id": "cell-369761875fa96f46",
     "locked": false,
     "points": 4,
     "schema_version": 3,
     "solution": true,
     "task": false
    },
    "pycharm": {
     "name": "#%% md\n"
    }
   },
   "source": [
    "YOUR ANSWER HERE"
   ]
  },
  {
   "cell_type": "markdown",
   "id": "2206fd58",
   "metadata": {
    "deletable": false,
    "editable": false,
    "nbgrader": {
     "cell_type": "markdown",
     "checksum": "9773514b08a20b01ae308a474c5bfd67",
     "grade": false,
     "grade_id": "cell-04495898fa2c2171",
     "locked": true,
     "schema_version": 3,
     "solution": false,
     "task": false
    },
    "pycharm": {
     "name": "#%% md\n"
    }
   },
   "source": [
    "    2.2 Warum eignen sich Nicht-probabilistische Stichproben in der Realität nicht für statistische Inferenz? (1 Punkt) \n",
    "\n",
    "    Begründen Sie mit Hilfe folgenden Beispieles:  \n",
    "    Es werden alle Studierenden dieser Vorlesung nach ihrer politischen Orientierung gefragt. Anhand dieser Stichprobe soll auf die politische Orientierung der gesamten deutschen Gesellschaft geschlossen werden."
   ]
  },
  {
   "cell_type": "markdown",
   "id": "dda8a79b",
   "metadata": {
    "deletable": false,
    "nbgrader": {
     "cell_type": "markdown",
     "checksum": "47d10311c331bb06f3b9e732b6e8c55c",
     "grade": true,
     "grade_id": "cell-96d12c768e41562f",
     "locked": false,
     "points": 1,
     "schema_version": 3,
     "solution": true,
     "task": false
    },
    "pycharm": {
     "name": "#%% md\n"
    }
   },
   "source": [
    "YOUR ANSWER HERE"
   ]
  },
  {
   "cell_type": "markdown",
   "id": "aa43bbb8",
   "metadata": {
    "deletable": false,
    "editable": false,
    "nbgrader": {
     "cell_type": "markdown",
     "checksum": "fea7a2cb7299382ed30482269e74596e",
     "grade": false,
     "grade_id": "cell-781cfec21376f359",
     "locked": true,
     "schema_version": 3,
     "solution": false,
     "task": false
    },
    "pycharm": {
     "name": "#%% md\n"
    }
   },
   "source": [
    "***3. Statistische Kennwerte***\n",
    "\n",
    "Der folgende Datensatz besteht aus Preisen (gerundet zum nächsten Cent), welche für eine Gallone Benzin in der San Francisco Bay Gegend im Mai 1991 verlangt wurden:\n",
    "\n",
    "121, 119, 117, 121, 120, 120, 118, 124, 123, 139, 120, 115, 117, 121, 123, 120, 123, 118, 117, 122, 122, 119"
   ]
  },
  {
   "cell_type": "markdown",
   "id": "2d75ed5b",
   "metadata": {
    "deletable": false,
    "editable": false,
    "nbgrader": {
     "cell_type": "markdown",
     "checksum": "45a3bb21ca5315d4a7f698deda4b80b3",
     "grade": false,
     "grade_id": "cell-8d8ab50909e539df",
     "locked": true,
     "schema_version": 3,
     "solution": false,
     "task": false
    },
    "pycharm": {
     "name": "#%% md\n"
    }
   },
   "source": [
    "3.1. Berechnen Sie bitte den ***Mittelwert ($\\mu$)***, den ***Median*** und den ***Modalwert*** des Datensatzes. Runden Sie auf 4 Nachkommastellen genau. (4 Punkte)"
   ]
  },
  {
   "cell_type": "markdown",
   "id": "4112dd25",
   "metadata": {
    "deletable": false,
    "nbgrader": {
     "cell_type": "markdown",
     "checksum": "f4fc42ad53720d185d033fb1e291228e",
     "grade": true,
     "grade_id": "cell-efae8749106dbfb0",
     "locked": false,
     "points": 4,
     "schema_version": 3,
     "solution": true,
     "task": false
    },
    "pycharm": {
     "name": "#%% md\n"
    }
   },
   "source": [
    "YOUR ANSWER HERE"
   ]
  },
  {
   "cell_type": "markdown",
   "id": "2ea5224a",
   "metadata": {
    "deletable": false,
    "editable": false,
    "nbgrader": {
     "cell_type": "markdown",
     "checksum": "f1f437b8aa0768b282edfb17bc71f309",
     "grade": false,
     "grade_id": "cell-5626b995dfda716d",
     "locked": true,
     "schema_version": 3,
     "solution": false,
     "task": false
    },
    "pycharm": {
     "name": "#%% md\n"
    }
   },
   "source": [
    "3.2. Berechnen Sie die Standardabweichung ($\\sigma$). Runden Sie wieder auf 4 Nachkommastellen genau. (5 Punkte)"
   ]
  },
  {
   "cell_type": "markdown",
   "id": "bea194cb",
   "metadata": {
    "deletable": false,
    "nbgrader": {
     "cell_type": "markdown",
     "checksum": "1e13a05eb96623b485fdc4358993744b",
     "grade": true,
     "grade_id": "cell-549bd941e43dc35b",
     "locked": false,
     "points": 5,
     "schema_version": 3,
     "solution": true,
     "task": false
    },
    "pycharm": {
     "name": "#%% md\n"
    }
   },
   "source": [
    "YOUR ANSWER HERE"
   ]
  },
  {
   "cell_type": "markdown",
   "id": "5d1a9c7f",
   "metadata": {
    "deletable": false,
    "editable": false,
    "nbgrader": {
     "cell_type": "markdown",
     "checksum": "68042fce1184725d55475f4ed110e96f",
     "grade": false,
     "grade_id": "cell-3b65395bafbc80e1",
     "locked": true,
     "schema_version": 3,
     "solution": false,
     "task": false
    },
    "pycharm": {
     "name": "#%% md\n"
    }
   },
   "source": [
    "3.3. Berechnen Sie den Anteil an Datenpunkten, die innerhalb des Bereiches $\\mu \\pm \\sigma$ liegen. Runden Sie wieder auf 4 Nachkommastellen genau. (2 Punkte)"
   ]
  },
  {
   "cell_type": "markdown",
   "id": "d20f19a7",
   "metadata": {
    "deletable": false,
    "nbgrader": {
     "cell_type": "markdown",
     "checksum": "6256a6abd4b72336c1d58c816c6c8834",
     "grade": true,
     "grade_id": "cell-cdaa5f2dd8c9cc7e",
     "locked": false,
     "points": 2,
     "schema_version": 3,
     "solution": true,
     "task": false
    },
    "pycharm": {
     "name": "#%% md\n"
    }
   },
   "source": [
    "YOUR ANSWER HERE"
   ]
  },
  {
   "cell_type": "markdown",
   "id": "cc907e85",
   "metadata": {
    "deletable": false,
    "editable": false,
    "nbgrader": {
     "cell_type": "markdown",
     "checksum": "b3bea570a1d4ec7e08a4a8d448de75f2",
     "grade": false,
     "grade_id": "cell-fa23ed8825410e05",
     "locked": true,
     "schema_version": 3,
     "solution": false,
     "task": false
    },
    "pycharm": {
     "name": "#%% md\n"
    }
   },
   "source": [
    "   3.4. Bestimmen Sie den Interquartilbereich des Datensatzes. (2 Punkte)"
   ]
  },
  {
   "cell_type": "markdown",
   "id": "b37f9bf5",
   "metadata": {
    "deletable": false,
    "nbgrader": {
     "cell_type": "markdown",
     "checksum": "286aaf7fd126431e0667035e96a834b0",
     "grade": true,
     "grade_id": "cell-e668244028e285fe",
     "locked": false,
     "points": 2,
     "schema_version": 3,
     "solution": true,
     "task": false
    },
    "pycharm": {
     "name": "#%% md\n"
    }
   },
   "source": [
    "YOUR ANSWER HERE"
   ]
  },
  {
   "cell_type": "markdown",
   "id": "fc594427",
   "metadata": {
    "deletable": false,
    "editable": false,
    "nbgrader": {
     "cell_type": "markdown",
     "checksum": "787bed65fd4c698915fac08cf9b49250",
     "grade": false,
     "grade_id": "cell-ed1a0ddfa2fc0471",
     "locked": true,
     "schema_version": 3,
     "solution": false,
     "task": false
    },
    "pycharm": {
     "name": "#%% md\n"
    }
   },
   "source": [
    "4. Die Wahrscheinlichkeit dafür, dass Event A eintritt liegt bei P(A)=0.1. Die Wahrscheinlichkeit für Event B beträgt P(B)=0.3. Gegeben, dass die Events unabhängig voneinander sind, was ist die Wahrscheinlichkeit von P(A$\\cup$B)? (2 Punkte)"
   ]
  },
  {
   "cell_type": "markdown",
   "id": "5bfc2c51",
   "metadata": {
    "deletable": false,
    "nbgrader": {
     "cell_type": "markdown",
     "checksum": "aced304bb178f62eae9d1742bb9f690f",
     "grade": true,
     "grade_id": "cell-4b3f12c444c776e0",
     "locked": false,
     "points": 2,
     "schema_version": 3,
     "solution": true,
     "task": false
    },
    "pycharm": {
     "name": "#%% md\n"
    }
   },
   "source": [
    "YOUR ANSWER HERE"
   ]
  },
  {
   "cell_type": "markdown",
   "id": "1542435c",
   "metadata": {
    "deletable": false,
    "editable": false,
    "nbgrader": {
     "cell_type": "markdown",
     "checksum": "5046ee190c851384c0b74429d3ba4994",
     "grade": false,
     "grade_id": "cell-1e286f68524ba3bd",
     "locked": true,
     "schema_version": 3,
     "solution": false,
     "task": false
    },
    "pycharm": {
     "name": "#%% md\n"
    }
   },
   "source": [
    "5. F($x_i$) ist die Verteilungsfunktion. Bestimmen Sie den Wert von F(4) für einen normalen 6-seitigen Laplace Würfel. Runden Sie auf 4 Nachkommastellen genau. (2 Punkte)"
   ]
  },
  {
   "cell_type": "markdown",
   "id": "cef6d065",
   "metadata": {
    "deletable": false,
    "nbgrader": {
     "cell_type": "markdown",
     "checksum": "11620ed34a5214342bdb4a62c72b972f",
     "grade": true,
     "grade_id": "cell-850b6e298e968e97",
     "locked": false,
     "points": 2,
     "schema_version": 3,
     "solution": true,
     "task": false
    },
    "pycharm": {
     "name": "#%% md\n"
    }
   },
   "source": [
    "YOUR ANSWER HERE"
   ]
  },
  {
   "cell_type": "markdown",
   "id": "7bb034b5",
   "metadata": {
    "deletable": false,
    "editable": false,
    "nbgrader": {
     "cell_type": "markdown",
     "checksum": "45d667e6c999a5d0652d0a3c228af368",
     "grade": false,
     "grade_id": "cell-a3d73805b50b42c0",
     "locked": true,
     "schema_version": 3,
     "solution": false,
     "task": false
    },
    "pycharm": {
     "name": "#%% md\n"
    }
   },
   "source": [
    "6. Der Mittelwert $\\bar{x}$ = 44 und die Standardabweichung $\\sigma_\\bar{x}$ = 2 wurde aus 64 Stichproben aus der Population bestimmt. Bestimmen Sie den Mittelwert und die Standardabweichung der Population. (3 Punkte)"
   ]
  },
  {
   "cell_type": "markdown",
   "id": "6c0669a4",
   "metadata": {
    "deletable": false,
    "nbgrader": {
     "cell_type": "markdown",
     "checksum": "8dd100d0ca2d00221a6ebcf84c133771",
     "grade": true,
     "grade_id": "cell-b09e55fdf8944d02",
     "locked": false,
     "points": 3,
     "schema_version": 3,
     "solution": true,
     "task": false
    },
    "pycharm": {
     "name": "#%% md\n"
    }
   },
   "source": [
    "YOUR ANSWER HERE"
   ]
  },
  {
   "cell_type": "markdown",
   "id": "4a12791c",
   "metadata": {
    "deletable": false,
    "editable": false,
    "nbgrader": {
     "cell_type": "markdown",
     "checksum": "5dae1b83c14417aebd0c9e01c4f0c0f2",
     "grade": false,
     "grade_id": "cell-2d323905d30899e2",
     "locked": true,
     "schema_version": 3,
     "solution": false,
     "task": false
    },
    "pycharm": {
     "name": "#%% md\n"
    }
   },
   "source": [
    "7. Es sei X eine Zufallsvariable mit Standardnormalverteilung, also X ist normalverteilt mit Mittelwert 0 und Standardabweichung von 1. Welche der folgenden Auswahlmöglichkeiten ist die beste Approximation für P{-2$\\leq$X$\\leq$2}? (2 Punkte)\n",
    "\n",
    "    a. 0.5\n",
    "    \n",
    "    b. 0.86\n",
    "    \n",
    "    c. 0.95\n",
    "    \n",
    "    d. 0.975"
   ]
  },
  {
   "cell_type": "markdown",
   "id": "68f30c88",
   "metadata": {
    "deletable": false,
    "nbgrader": {
     "cell_type": "markdown",
     "checksum": "878dddf9e51f41dc91781d3116672000",
     "grade": true,
     "grade_id": "cell-0579264afa77b169",
     "locked": false,
     "points": 2,
     "schema_version": 3,
     "solution": true,
     "task": false
    },
    "pycharm": {
     "name": "#%% md\n"
    }
   },
   "source": [
    "YOUR ANSWER HERE"
   ]
  },
  {
   "cell_type": "markdown",
   "id": "a0181d6b",
   "metadata": {
    "deletable": false,
    "editable": false,
    "nbgrader": {
     "cell_type": "markdown",
     "checksum": "d6ceaf0fda6ad5031e5ca3807f036bbb",
     "grade": false,
     "grade_id": "cell-4d98b5bc099a3b04",
     "locked": true,
     "schema_version": 3,
     "solution": false,
     "task": false
    },
    "pycharm": {
     "name": "#%% md\n"
    }
   },
   "source": [
    "### Hands-On Vorbereitung auf weitere Übungen\n",
    "\n",
    "Dieser Abschnitt dient dazu, dass Sie sich damit vertraut machen, wie SQL und pandas (ein Python Paket) zusammen genutzt werden können, um einfache Statistikberechnungen mit dem Computer durchführen zu können. Besonders auch das pandas dataframe wird in den weiteren Aufgabenblättern genutzt werden. Sollten Sie pandas bereits kennen, dann können Sie die folgenden Zellen einfach als Widerholung betrachten. Wenn Sie pandas noch nciht kennen, dann helfen Ihnen die folgenden Zellen sicherlich einen groben Überblick über pandas zu bekommen."
   ]
  },
  {
   "cell_type": "code",
   "execution_count": null,
   "id": "83314161",
   "metadata": {
    "deletable": false,
    "editable": false,
    "nbgrader": {
     "cell_type": "code",
     "checksum": "ed9f58d621191caa33747aae1fe7cc0e",
     "grade": false,
     "grade_id": "cell-3510bbaf08ddacd1",
     "locked": true,
     "schema_version": 3,
     "solution": false,
     "task": false
    },
    "pycharm": {
     "name": "#%%\n"
    }
   },
   "outputs": [],
   "source": [
    "import sqlite3\n",
    "import pandas as pd\n",
    "\n",
    "# Erstellen der Datenbankverbindung\n",
    "# conn = sqlite3.connect(\":memory:\")\n",
    "# c = conn.cursor()\n",
    "db = sqlite3.connect(\"data/portal_mammals.sqlite\")\n",
    "cursor = db.cursor()"
   ]
  },
  {
   "cell_type": "code",
   "execution_count": null,
   "id": "4ff8cd77",
   "metadata": {
    "deletable": false,
    "editable": false,
    "nbgrader": {
     "cell_type": "code",
     "checksum": "cb8d81d655f490590b36908366ebb18e",
     "grade": false,
     "grade_id": "cell-2a86c1aff847bebd",
     "locked": true,
     "schema_version": 3,
     "solution": false,
     "task": false
    },
    "pycharm": {
     "name": "#%%\n"
    }
   },
   "outputs": [],
   "source": [
    "# Liste alle Tabellennamen auf\n",
    "cursor.execute(\"SELECT name FROM sqlite_master WHERE type='table';\")\n",
    "tables = cursor.fetchall()\n",
    "tables"
   ]
  },
  {
   "cell_type": "code",
   "execution_count": null,
   "id": "d4fda1c9",
   "metadata": {
    "deletable": false,
    "editable": false,
    "nbgrader": {
     "cell_type": "code",
     "checksum": "7acf79156db5c4e2e6dd84c18e54da27",
     "grade": false,
     "grade_id": "cell-ac38f1667413217e",
     "locked": true,
     "schema_version": 3,
     "solution": false,
     "task": false
    },
    "pycharm": {
     "name": "#%%\n"
    }
   },
   "outputs": [],
   "source": [
    "# Lade PortalMammals_main in ein pandas dataframe und berachte die ersten 10 Einträge\n",
    "table_main = pd.read_sql_query(\"SELECT * from PortalMammals_main\", db)\n",
    "table_main.head(10)"
   ]
  },
  {
   "cell_type": "code",
   "execution_count": null,
   "id": "eacf495e",
   "metadata": {
    "deletable": false,
    "editable": false,
    "nbgrader": {
     "cell_type": "code",
     "checksum": "9b2782720607ff1ce8eb4e6ddbc37cd5",
     "grade": false,
     "grade_id": "cell-846ea7cdb0c23875",
     "locked": true,
     "schema_version": 3,
     "solution": false,
     "task": false
    },
    "pycharm": {
     "name": "#%%\n"
    }
   },
   "outputs": [],
   "source": [
    "# Bestimmes des Durchschnitts-stakes der Spezies DM mit SQL\n",
    "cursor.execute(\"SELECT avg(stake) from PortalMammals_main where species='DM'\")\n",
    "assert cursor.fetchall() == [(45.05039637599094,)]"
   ]
  },
  {
   "cell_type": "code",
   "execution_count": null,
   "id": "9f10570c",
   "metadata": {
    "deletable": false,
    "editable": false,
    "nbgrader": {
     "cell_type": "code",
     "checksum": "bf2bf47488e3dad435b65a1217ec51d4",
     "grade": false,
     "grade_id": "cell-67f447db7500c75b",
     "locked": true,
     "schema_version": 3,
     "solution": false,
     "task": false
    },
    "pycharm": {
     "name": "#%%\n"
    }
   },
   "outputs": [],
   "source": [
    "# Bestimmen des Durschnitts-stakes der Spezies DM mit pandas\n",
    "# Version 1\n",
    "average = table_main[table_main.species=='DM']['stake'].mean()\n",
    "print(average)\n",
    "# Version 2\n",
    "average = table_main[table_main.species=='DM'].stake.mean()\n",
    "print(average)"
   ]
  },
  {
   "cell_type": "markdown",
   "id": "81137fe3",
   "metadata": {
    "deletable": false,
    "editable": false,
    "nbgrader": {
     "cell_type": "markdown",
     "checksum": "f276903f469e0a3aca55f99acb69ac95",
     "grade": false,
     "grade_id": "cell-b261cdc8d4006e78",
     "locked": true,
     "schema_version": 3,
     "solution": false,
     "task": false
    },
    "pycharm": {
     "name": "#%% md\n"
    }
   },
   "source": [
    "Der Zugriff auf bestimmte Werte in einer Zeile gibt auch ein Dataframe zurück. Auf eine Spalte in einem Dataframe kann man dann mit ['name'] oder mit .name zugreifen. Mittels loc[Name] könnt ihr auf Zeilen mit dem entsprechenden Namen zugreifen. Nutzt ihr iloc[Wert], dann ruft ihr die entsprechende Zeilennummer auf und nicht mehr nach Name. loc und iloc sind für Tabellen mit 0-Index austauschbar benutzbar. Pandas bietet sehr viele Möglichkeiten, Tabellen zu verändern und anzupassen, was zu viel ist, um es hier vorzustellen. Wer sich dafür begeistert, kann gerne in der Dokumentation nachschlagen (https://pandas.pydata.org/ oder auch hier https://pandas.pydata.org/pandas-docs/stable/user_guide/10min.html). In den folgenden zwei Zellen haben wir noch zwei weitere Beispiel von hilfreichen Funktionen."
   ]
  },
  {
   "cell_type": "code",
   "execution_count": null,
   "id": "86d315a3",
   "metadata": {
    "deletable": false,
    "editable": false,
    "nbgrader": {
     "cell_type": "code",
     "checksum": "858316f0bf4af4075a68f85d651cb72b",
     "grade": false,
     "grade_id": "cell-db343cc910117f72",
     "locked": true,
     "schema_version": 3,
     "solution": false,
     "task": false
    },
    "pycharm": {
     "name": "#%%\n"
    }
   },
   "outputs": [],
   "source": [
    "# Berechnen der Standardabweichung in stake\n",
    "std_stake = table_main['stake'].std()\n",
    "assert std_stake == 23.453326284343234"
   ]
  },
  {
   "cell_type": "code",
   "execution_count": null,
   "id": "5218589a",
   "metadata": {
    "deletable": false,
    "editable": false,
    "nbgrader": {
     "cell_type": "code",
     "checksum": "4c9702a4293978249c0ed70b819876ab",
     "grade": false,
     "grade_id": "cell-1c2caf27145c75c2",
     "locked": true,
     "schema_version": 3,
     "solution": false,
     "task": false
    },
    "pycharm": {
     "name": "#%%\n"
    }
   },
   "outputs": [],
   "source": [
    "# Bestimmen der Standardabweichung des Mittelwertes von stake sortiert nach Geschlecht\n",
    "# Das Geschlecht ist hierbei gleichgewichtet und nicht prozentual nach Anteil im Datensatz\n",
    "res = table_main.groupby(['sex'])['stake'].mean().std()\n",
    "print(res)\n",
    "\n",
    "# Wer das genau nachrechnen möchte, kann zuerst .std() weglassen und dann per Hand einmal\n",
    "# die Standardabweichung bestimmen."
   ]
  },
  {
   "cell_type": "markdown",
   "id": "e92853df",
   "metadata": {
    "deletable": false,
    "editable": false,
    "nbgrader": {
     "cell_type": "markdown",
     "checksum": "c16ee15beebeb1edf7f06fcab2ef3e9c",
     "grade": false,
     "grade_id": "cell-aa5521d0b3589c52",
     "locked": true,
     "schema_version": 3,
     "solution": false,
     "task": false
    },
    "pycharm": {
     "name": "#%% md\n"
    }
   },
   "source": [
    "# Vorlesung 12: Einführung in Data-Science-Workflows"
   ]
  },
  {
   "cell_type": "markdown",
   "id": "3ec4ebed",
   "metadata": {
    "deletable": false,
    "editable": false,
    "nbgrader": {
     "cell_type": "markdown",
     "checksum": "21e5868bb22b3cb5f8c0aca7c0b4c016",
     "grade": false,
     "grade_id": "cell-f1b70972471a2051",
     "locked": true,
     "schema_version": 3,
     "solution": false,
     "task": false
    },
    "pycharm": {
     "name": "#%% md\n"
    }
   },
   "source": [
    "1. Nennen Sie 4 typische Aufgaben in der Planung & Design-Phase eines Data-Science-Workflows (2 Punkte)"
   ]
  },
  {
   "cell_type": "markdown",
   "id": "8580b396",
   "metadata": {
    "deletable": false,
    "nbgrader": {
     "cell_type": "markdown",
     "checksum": "ced0b28bfa0f9f725124092e1c9b0af3",
     "grade": true,
     "grade_id": "cell-c270040114e93453",
     "locked": false,
     "points": 2,
     "schema_version": 3,
     "solution": true,
     "task": false
    },
    "pycharm": {
     "name": "#%% md\n"
    }
   },
   "source": [
    "YOUR ANSWER HERE"
   ]
  },
  {
   "cell_type": "markdown",
   "id": "bdcd3f11",
   "metadata": {
    "deletable": false,
    "editable": false,
    "nbgrader": {
     "cell_type": "markdown",
     "checksum": "8e538e5654303d98a56d26bf4bfde222",
     "grade": false,
     "grade_id": "cell-49717310d99265a7",
     "locked": true,
     "schema_version": 3,
     "solution": false,
     "task": false
    },
    "pycharm": {
     "name": "#%% md\n"
    }
   },
   "source": [
    "2. Ordnen Sie die Attribute in ***List 1*** der entsprechenden Skala in ***List 2*** zu. (4 Punkte)\n",
    "\n",
    "***List 1***\n",
    "\n",
    "    a. Familienstand, gespeichert als \"ledig\"= 1; \"verheiratet\"= 2\n",
    "    b. Hotelbewertung: 1 Stern, 2 Sterne, 3 Sterne, 4 Sterne, 5 Sterne\n",
    "    c. Monatliches Einkommen in EUR\n",
    "    d. Kundenzufriedenheit eines Produkts, Sehr Unzufrieden– 1, Unzufrieden– 2, Neutral– 3, Zufrieden– 4, Sehr Zufrieden– 5\n",
    "    e. Temperatur in Bonn in Celsius\n",
    "    f. Art vom Wohngebiet, z.B. 1- Vorstadt, 2- Stadt, 3- Zentrum\n",
    "    g. Kalendarjahr\n",
    "    h. Körpergewicht\n",
    "\n",
    "***List 2***\n",
    "\n",
    "    1) Nominalskala (engl. nominal scale)\n",
    "    2) Ordinalskala (engl. ordinal scale)\n",
    "    3) Intervallskala (engl. interval scale)\n",
    "    4) Verhältnisskala (engl. ratio scale)"
   ]
  },
  {
   "cell_type": "markdown",
   "id": "edc1a95a",
   "metadata": {
    "deletable": false,
    "nbgrader": {
     "cell_type": "markdown",
     "checksum": "8c4d4c6d05aea4ad9568ff2a059bbb52",
     "grade": true,
     "grade_id": "cell-a39d54c39f7bc4ad",
     "locked": false,
     "points": 4,
     "schema_version": 3,
     "solution": true,
     "task": false
    },
    "pycharm": {
     "name": "#%% md\n"
    }
   },
   "source": [
    "YOUR ANSWER HERE"
   ]
  },
  {
   "cell_type": "markdown",
   "id": "e60ca447",
   "metadata": {
    "deletable": false,
    "editable": false,
    "nbgrader": {
     "cell_type": "markdown",
     "checksum": "1debe717097931be2b7778c853613761",
     "grade": false,
     "grade_id": "cell-43528d38ea07c904",
     "locked": true,
     "schema_version": 3,
     "solution": false,
     "task": false
    },
    "pycharm": {
     "name": "#%% md\n"
    }
   },
   "source": [
    "3. Ordnen Sie die Attribute in Frage 2 ***List 1*** dem entsprechenden Datentyp in ***List 3*** zu. (2 points)\n",
    "\n",
    "***List 3***\n",
    "\n",
    "    1) Diskrete Variablen (engl. discrete variables)\n",
    "    2) Stetige Variablen (engl. continuous variables)"
   ]
  },
  {
   "cell_type": "markdown",
   "id": "f06ad32c",
   "metadata": {
    "deletable": false,
    "nbgrader": {
     "cell_type": "markdown",
     "checksum": "2fcac078176433d082f0ab403811c38a",
     "grade": true,
     "grade_id": "cell-5cabedbfe40b1f91",
     "locked": false,
     "points": 2,
     "schema_version": 3,
     "solution": true,
     "task": false
    },
    "pycharm": {
     "name": "#%% md\n"
    }
   },
   "source": [
    "YOUR ANSWER HERE"
   ]
  },
  {
   "cell_type": "markdown",
   "id": "83afedae",
   "metadata": {
    "deletable": false,
    "editable": false,
    "nbgrader": {
     "cell_type": "markdown",
     "checksum": "dbee6243bf215bf890c93c2ac2193700",
     "grade": false,
     "grade_id": "cell-e66fdf6387cceb65",
     "locked": true,
     "schema_version": 3,
     "solution": false,
     "task": false
    },
    "pycharm": {
     "name": "#%% md\n"
    }
   },
   "source": [
    "4. Der folgenden Programmcode visualisiert die Attribute im Diamant Datenset. Nutzen Sie das Diagramm um die Fragen 4.1, 4.2 und 4.3 zu beantworten"
   ]
  },
  {
   "cell_type": "code",
   "execution_count": null,
   "id": "ba8ebbdf",
   "metadata": {
    "deletable": false,
    "editable": false,
    "nbgrader": {
     "cell_type": "code",
     "checksum": "537a314a13116230afe1ca9f59f7a97e",
     "grade": false,
     "grade_id": "cell-52d15f78decf0859",
     "locked": true,
     "schema_version": 3,
     "solution": false,
     "task": false
    },
    "pycharm": {
     "name": "#%%\n"
    }
   },
   "outputs": [],
   "source": [
    "import pandas as pd\n",
    "\n",
    "# load data from csv file\n",
    "data = pd.read_csv('./data/diamonds.csv',index_col=0)\n",
    "#view first 5 rows of the dataset\n",
    "data.head() "
   ]
  },
  {
   "attachments": {
    "a685890b-1fb5-4608-abf9-b1b9a5c9270c.png": {
     "image/png": "[encoded data removed]"
    },
    "image.png": {
     "image/png": "[encoded data removed]"
    }
   },
   "cell_type": "markdown",
   "id": "8d41d415",
   "metadata": {
    "deletable": false,
    "editable": false,
    "nbgrader": {
     "cell_type": "markdown",
     "checksum": "dbd84df2e72a2f4e2d82ffd3a289dc65",
     "grade": false,
     "grade_id": "cell-a9810f8c28df4f81",
     "locked": true,
     "schema_version": 3,
     "solution": false,
     "task": false
    },
    "pycharm": {
     "name": "#%% md\n"
    }
   },
   "source": [
    "4.1 Bitte erklären Sie, was die Höhe der Säulen im Diagramm in der nächsten Zelle angeben. (2 Punkte)\n",
    "\n",
    "*für den Fall, dass der Code nicht richtig funktioniert, ist das Diagramm auch hier angegeben:  \n",
    "\n",
    "![image.png](attachment:a685890b-1fb5-4608-abf9-b1b9a5c9270c.png)"
   ]
  },
  {
   "cell_type": "code",
   "execution_count": null,
   "id": "dc89e0ef",
   "metadata": {
    "deletable": false,
    "editable": false,
    "nbgrader": {
     "cell_type": "code",
     "checksum": "0172dd8e7304b25d91606742aa37331b",
     "grade": false,
     "grade_id": "cell-fb055d5595103268",
     "locked": true,
     "schema_version": 3,
     "solution": false,
     "task": false
    },
    "pycharm": {
     "name": "#%%\n"
    }
   },
   "outputs": [],
   "source": [
    "# install library if needed: https://anaconda.org/conda-forge/matplotlib\n",
    "import matplotlib.pyplot as plt\n",
    "\n",
    "plt.figure(figsize=[12,12])\n",
    "\n",
    "plt.subplot(223)\n",
    "plt.hist(data['price'],bins=20,color='g')\n",
    "plt.xlabel('Price in USD')\n",
    "plt.ylabel('Frequency')\n",
    "plt.title('Distribution of Diamond Price')"
   ]
  },
  {
   "cell_type": "markdown",
   "id": "c1cff16f",
   "metadata": {
    "deletable": false,
    "nbgrader": {
     "cell_type": "markdown",
     "checksum": "77599209c398e484d62398d8d3191c4f",
     "grade": true,
     "grade_id": "cell-25346ca366b340d1",
     "locked": false,
     "points": 2,
     "schema_version": 3,
     "solution": true,
     "task": false
    },
    "pycharm": {
     "name": "#%% md\n"
    }
   },
   "source": [
    "YOUR ANSWER HERE"
   ]
  },
  {
   "attachments": {
    "75573236-7f70-4aac-a6f9-47c8987f6843.png": {
     "image/png": "[encoded data removed]"
    }
   },
   "cell_type": "markdown",
   "id": "0acb3690",
   "metadata": {
    "deletable": false,
    "editable": false,
    "nbgrader": {
     "cell_type": "markdown",
     "checksum": "8bc2cb72c777babff8bb504b50577d47",
     "grade": false,
     "grade_id": "cell-7f520326fb23384f",
     "locked": true,
     "schema_version": 3,
     "solution": false,
     "task": false
    },
    "pycharm": {
     "name": "#%% md\n"
    }
   },
   "source": [
    "4.2 Beantworten Sie bitte die folgenden Fragen basierend auf dem von der nächsten Zelle erzeugten Box-Plot.\n",
    "\n",
    "    1) Was stellt eine Box im Diagram dar? (2 Punkte)\n",
    "    2) Welche Farbe hat den höchsten Preis im Median? (2 Punkte)\n",
    "    \n",
    "*für den Fall dass der Code nicht richtig funktioniert ist das Diagramm auch hier angegeben:  \n",
    "\n",
    "![download.png](attachment:75573236-7f70-4aac-a6f9-47c8987f6843.png)"
   ]
  },
  {
   "cell_type": "code",
   "execution_count": null,
   "id": "4c1f4ddd",
   "metadata": {
    "deletable": false,
    "editable": false,
    "nbgrader": {
     "cell_type": "code",
     "checksum": "6c76bc8c9be5f6d6b9498909df2468f2",
     "grade": false,
     "grade_id": "cell-84bf55f894f0e040",
     "locked": true,
     "schema_version": 3,
     "solution": false,
     "task": false
    },
    "pycharm": {
     "name": "#%%\n"
    }
   },
   "outputs": [],
   "source": [
    "data.boxplot(column='price', by='color')\n",
    "plt.ylabel('Price in USD')\n",
    "plt.title( 'Price distribution of different colors')\n",
    "plt.suptitle('') # that's what you're after\n",
    "plt.grid(True, linestyle='--')\n",
    "plt.show()"
   ]
  },
  {
   "cell_type": "markdown",
   "id": "ffb0b26a",
   "metadata": {
    "deletable": false,
    "nbgrader": {
     "cell_type": "markdown",
     "checksum": "bff39b1193a09c02edaf1169d6148b2d",
     "grade": true,
     "grade_id": "cell-20b3e5a0db1404c2",
     "locked": false,
     "points": 4,
     "schema_version": 3,
     "solution": true,
     "task": false
    },
    "pycharm": {
     "name": "#%% md\n"
    }
   },
   "source": [
    "YOUR ANSWER HERE"
   ]
  },
  {
   "cell_type": "markdown",
   "id": "2769b6fd",
   "metadata": {
    "deletable": false,
    "editable": false,
    "nbgrader": {
     "cell_type": "markdown",
     "checksum": "59ea1941364467ce264f9d6b3bf68bfb",
     "grade": false,
     "grade_id": "cell-c2679144ffab79dc",
     "locked": true,
     "schema_version": 3,
     "solution": false,
     "task": false
    },
    "pycharm": {
     "name": "#%% md\n"
    }
   },
   "source": [
    "5. Welche verschiedene Bedeutungen können Nullwerte in relationalen Datenbanken haben? Nennen Sie zusätzlich noch 2 mögliche Gründe für die Entstehung solcher fehlenden Werte. (2 Punkte)"
   ]
  },
  {
   "cell_type": "markdown",
   "id": "17355e30",
   "metadata": {
    "deletable": false,
    "nbgrader": {
     "cell_type": "markdown",
     "checksum": "3251c3feec79189aaeac15e731835535",
     "grade": true,
     "grade_id": "cell-48ee8fa582fe8083",
     "locked": false,
     "points": 2,
     "schema_version": 3,
     "solution": true,
     "task": false
    },
    "pycharm": {
     "name": "#%% md\n"
    }
   },
   "source": [
    "YOUR ANSWER HERE"
   ]
  },
  {
   "cell_type": "markdown",
   "id": "298ab917",
   "metadata": {
    "deletable": false,
    "editable": false,
    "nbgrader": {
     "cell_type": "markdown",
     "checksum": "09e862a191f1914567d204f4529d0071",
     "grade": false,
     "grade_id": "cell-84a89db27793f680",
     "locked": true,
     "schema_version": 3,
     "solution": false,
     "task": false
    },
    "pycharm": {
     "name": "#%% md\n"
    }
   },
   "source": [
    "6. Nennen und erklären Sie die 3 Arten mit fehlenden Daten umzugehen. (3 Punkte)"
   ]
  },
  {
   "cell_type": "markdown",
   "id": "942edf29",
   "metadata": {
    "deletable": false,
    "nbgrader": {
     "cell_type": "markdown",
     "checksum": "9224a95f183bcda2144e314e3552e960",
     "grade": true,
     "grade_id": "cell-eea2a0c5ffdf11f7",
     "locked": false,
     "points": 3,
     "schema_version": 3,
     "solution": true,
     "task": false
    },
    "pycharm": {
     "name": "#%% md\n"
    }
   },
   "source": [
    "YOUR ANSWER HERE"
   ]
  },
  {
   "cell_type": "markdown",
   "id": "ddc9d421",
   "metadata": {
    "deletable": false,
    "editable": false,
    "nbgrader": {
     "cell_type": "markdown",
     "checksum": "768c4a27818161b8638a0ec08f59c762",
     "grade": false,
     "grade_id": "cell-902be9c4a4dde776",
     "locked": true,
     "schema_version": 3,
     "solution": false,
     "task": false
    },
    "pycharm": {
     "name": "#%% md\n"
    }
   },
   "source": [
    "7. Gegeben sei der folgende Datensatz:\n",
    "\n",
    "1, 2, 3, 4, 4, 5, 6, 9, 23, 50\n",
    "\n",
    "Beantworten Sie die folgenden Fragen:"
   ]
  },
  {
   "cell_type": "markdown",
   "id": "23aacd92",
   "metadata": {
    "deletable": false,
    "editable": false,
    "nbgrader": {
     "cell_type": "markdown",
     "checksum": "02f7861201146a7f0182333944cdb21e",
     "grade": false,
     "grade_id": "cell-81e0ff234d144e30",
     "locked": true,
     "schema_version": 3,
     "solution": false,
     "task": false
    },
    "pycharm": {
     "name": "#%% md\n"
    }
   },
   "source": [
    "    7.1 Bestimmen Sie den Q1, Q2, Q3 und IQR des Datensatzes. (2 points)"
   ]
  },
  {
   "cell_type": "markdown",
   "id": "df7d6615",
   "metadata": {
    "deletable": false,
    "nbgrader": {
     "cell_type": "markdown",
     "checksum": "97852a07ddaa6875c4f3684037496054",
     "grade": true,
     "grade_id": "cell-dbebd17323c3fd79",
     "locked": false,
     "points": 2,
     "schema_version": 3,
     "solution": true,
     "task": false
    },
    "pycharm": {
     "name": "#%% md\n"
    }
   },
   "source": [
    "YOUR ANSWER HERE"
   ]
  },
  {
   "cell_type": "markdown",
   "id": "b7e942c2",
   "metadata": {
    "deletable": false,
    "editable": false,
    "nbgrader": {
     "cell_type": "markdown",
     "checksum": "74f1037dcc6635563e6872488bbd459d",
     "grade": false,
     "grade_id": "cell-7bab3b6cfbaf1ad1",
     "locked": true,
     "schema_version": 3,
     "solution": false,
     "task": false
    },
    "pycharm": {
     "name": "#%% md\n"
    }
   },
   "source": [
    "    7.2 Bestimmen Sie den Bereich (untere und obere Grenze) zum Erkennen von Ausreißern mithilfe der IQR-Regel. (2 Punkte)"
   ]
  },
  {
   "cell_type": "markdown",
   "id": "888c048d",
   "metadata": {
    "deletable": false,
    "nbgrader": {
     "cell_type": "markdown",
     "checksum": "76b15aac96bb3dd651a1e6eb453bdd2c",
     "grade": true,
     "grade_id": "cell-06c7156390b2f172",
     "locked": false,
     "points": 2,
     "schema_version": 3,
     "solution": true,
     "task": false
    },
    "pycharm": {
     "name": "#%% md\n"
    }
   },
   "source": [
    "YOUR ANSWER HERE"
   ]
  },
  {
   "cell_type": "markdown",
   "id": "8cf7757e",
   "metadata": {
    "deletable": false,
    "editable": false,
    "nbgrader": {
     "cell_type": "markdown",
     "checksum": "1421c047d16094115c43fba3dbacf086",
     "grade": false,
     "grade_id": "cell-451ad1ffd6c1082e",
     "locked": true,
     "schema_version": 3,
     "solution": false,
     "task": false
    },
    "pycharm": {
     "name": "#%% md\n"
    }
   },
   "source": [
    "    7.3 Gibt es Ausreißer in dem Datensatz? Falls ja, geben Sie diese an. (1 Punkt)"
   ]
  },
  {
   "cell_type": "markdown",
   "id": "01203c42",
   "metadata": {
    "deletable": false,
    "nbgrader": {
     "cell_type": "markdown",
     "checksum": "be4dd60d9f3bc3a6810ee6566d71596b",
     "grade": true,
     "grade_id": "cell-176a600b4b9e16c1",
     "locked": false,
     "points": 1,
     "schema_version": 3,
     "solution": true,
     "task": false
    },
    "pycharm": {
     "name": "#%% md\n"
    }
   },
   "source": [
    "YOUR ANSWER HERE"
   ]
  },
  {
   "cell_type": "markdown",
   "id": "acc9e4fb",
   "metadata": {
    "deletable": false,
    "editable": false,
    "nbgrader": {
     "cell_type": "markdown",
     "checksum": "ecfe9cd669d772d37f90b45b85f5e4c5",
     "grade": false,
     "grade_id": "cell-9a32f444bdb436a7",
     "locked": true,
     "schema_version": 3,
     "solution": false,
     "task": false
    },
    "pycharm": {
     "name": "#%% md\n"
    }
   },
   "source": [
    "8. Bitte ordnen Sie die Schritte in ***List 1*** den Datenvorverarbeitungsmethoden in ***List 2*** zu. (2 Punkte)\n",
    "\n",
    "***List 1***\n",
    "\n",
    "    a. Einordnen der Preise von Diamanten in verschiedene Kategorien\n",
    "    b. Zusammenführen der Schemata zweier Datenbanken, z.B. A.student $\\equiv$ B.participant\n",
    "    c. Entfernen von Ausreißern mit der IQR-Regel\n",
    "    d. Auswählen einer Teilmenge von Merkmalen der Diamanten\n",
    "\n",
    "***List 2***\n",
    "\n",
    "    1) Datenbereinigung \n",
    "    2) Datenintegration & Datenfusion \n",
    "    3) Diskretisierung\n",
    "    4) Datenreduktion"
   ]
  },
  {
   "cell_type": "markdown",
   "id": "b84d8a0d",
   "metadata": {
    "deletable": false,
    "nbgrader": {
     "cell_type": "markdown",
     "checksum": "11f8d93b965eba223d0ba66f699ae903",
     "grade": true,
     "grade_id": "cell-5a8daf7d36fc51a6",
     "locked": false,
     "points": 2,
     "schema_version": 3,
     "solution": true,
     "task": false
    },
    "pycharm": {
     "name": "#%% md\n"
    }
   },
   "source": [
    "YOUR ANSWER HERE"
   ]
  }
 ],
 "metadata": {
  "kernelspec": {
   "display_name": "Python 3 (ipykernel)",
   "language": "python",
   "name": "python3"
  },
  "language_info": {
   "codemirror_mode": {
    "name": "ipython",
    "version": 3
   },
   "file_extension": ".py",
   "mimetype": "text/x-python",
   "name": "python",
   "nbconvert_exporter": "python",
   "pygments_lexer": "ipython3",
   "version": "3.8.10"
  }
 },
 "nbformat": 4,
 "nbformat_minor": 5
}
