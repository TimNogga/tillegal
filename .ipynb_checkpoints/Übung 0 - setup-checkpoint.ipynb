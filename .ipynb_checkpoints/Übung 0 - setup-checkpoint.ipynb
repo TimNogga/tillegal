{
 "cells": [
  {
   "cell_type": "markdown",
   "id": "2aab3981",
   "metadata": {},
   "source": [
    "***Keine Abgabe für diese Aufgaben benötigt***\n",
    "\n",
    "# Programmierumgebung-Setup\n",
    "Das Ziel dieser praktischen Übung ist es, dass Sie sich Ihre Programmierumgebung einrichten und kennenlernen. Dafür werden Sie typsiche Tools für Data Science Aufgaben und für diesen Kurs kennenlernen und installieren. Vor allem werden Sie die folgenden Programme installieren:\n",
    "\n",
    "* Anaconda oder Miniconda\n",
    "* Jupyter Notebook"
   ]
  },
  {
   "cell_type": "markdown",
   "id": "94935932",
   "metadata": {},
   "source": [
    "## Installation von Anaconda oder Miniconda\n",
    "In diesem Schritt werden wir einen Paketmanager installieren, welcher uns hilft Jupyter Notebooks schnell und einfach aufzusetzen und zu verwalten. Für diese Aufgaben gibt es ein paar Optionen, wobei wir uns für das bekannte und in der Data Science Welt weitverbreitete [Anaconda](http://anaconda.org) aufgrund seiner vorinstallierten Bibliotheken und effizienten Tools entschieden haben.\n",
    "\n",
    "Der Installationsguide auf der [Download Seite](https://www.anaconda.com/download) ist sehr ausführlich und ohne Probleme nachvollziehbar. Bei Fragen könnt Ihr Euch gerne melden. Bereits Standard kommt Anaconda mit den meistgenutzten Data Science Paketen, von denen auch viele dabei sind, die wir hier im Kurs nicht nutzen werden. Wir können auch die minimalistische Version [Miniconda](https://conda.io/miniconda.html) nutzen. Sowohl Anaconda als auch Miniconda kommen standardmäßig mit  `conda` - einem Paket Management System sowie `python` und `pip` - auch ein Paket Management System. Generell ist es aber empfehlenswert bei der Anaconda/Miniconda Installation  `conda` zu nutzen. Manchmal kann es bei der Nutzung von  `conda` und  `pip` parallel zu kleinen Problemen kommen. Am Besten versuchen Sie bei der Installation zuerst `conda` aus und sollte `conda` das entsprechende Paket nicht finden, können Sie dann mit `pip` arbeiten. So sollte es zu keinen Problemen kommen.\n",
    "\n",
    "**Aufgabe:** Laden Sie sich die minimalistische Version von `conda` herunter. Nach dem Herunterladen machen Sie einen Doppelklick auf den Installer um Miniconda auf Windows zu installieren. Für Linux/MacOS Benutzer tippen Sie das Folgende:\n",
    "\n",
    "    $ chmod +x Miniconda3-latest-Linux-x86_64.sh\n",
    "    \n",
    "    $ ./Miniconda3-latest-Linux-x86_64.sh\n",
    "    \n",
    "und folgen im Anschluss den Instruktionen des Installers."
   ]
  },
  {
   "cell_type": "markdown",
   "id": "63450c12",
   "metadata": {},
   "source": [
    "## Jupyter Notebook\n",
    "\n",
    "[Jupyter Notebook](http://jupyter.org/) ist eine Open Source Web-basierte interaktive Umgebung, welches es erlaubt, Dokumente zu erstellen und zu teilen, welche Code, Berechnungen, Visualisierungen und Erklärungen enthalten. Um ein Paket zu installieren, benutzen Sie einfach folgenden Befehl: \\\n",
    "`$ conda install <package-name>`\n",
    "\n",
    "**Aufgabe:** Installieren Sie Jupyter mit `conda` . Haben Sie sich in der vorigen Aufgabe bereits für Anaconda entschieden, dann können Sie diesen Schritt überspringen oder stellen beim Ausführen dieses Befehls fest, dass Jupyter bereits installiert ist.\n",
    "    \n",
    "    $ conda install jupyter\n",
    "    \n",
    "**Aufgabe:** Mit dem folgenden Befehl können Sie das Web-Interface von jupyter aufrufen und hier dann neue Notebooks erstellen oder bearbeiten.\n",
    "    \n",
    "    $ jupyter notebook\n",
    "    \n",
    "    \n",
    "**Weitere Info:** Lesen Sie diesen [Blog](https://towardsdatascience.com/a-beginners-tutorial-to-jupyter-notebooks-1b2f8705888a) für eine Schritt-für-Schritt Anleitung."
   ]
  },
  {
   "cell_type": "markdown",
   "id": "482a79bf",
   "metadata": {},
   "source": [
    "# Test Installation\n",
    "\n",
    "Führen Sie die unteren Zellen aus, um die Python Umgebung sowie das Jupyter Notebook zu testen. Um eine Zelle auszuführen haben Sie folgende Möglichkeiten:\n",
    "\n",
    "* Klicken Sie den \"Run\" Knopf im Quick-Menü\n",
    "* Nutzen Sie das Dropdown-Menü von \"Cell\" im Hauptmenü\n",
    "* Tastenkürzel \"Shift + Enter\", um die aktuelle Zelle auszuführen und in die nächste Zelle zu kommen\n",
    "* Tastenkürzel \"Ctrl + Enter\", um die aktuelle Zelle auszuführen und in dieser Zellen zu bleiben\n",
    "\n",
    "Wenn ein Python Paket nicht installiert sein sollte, wenn Sie Ihr Skript laufen lassen, dann versuchen Sie mittels des (Conda-)Terminals das fehlende Paket zu installieren. Beispielsweise können Sie wie folgt tensorflow (ein Deep-Learning Framework von Google) installieren:\n",
    "\n",
    "    $ conda install -c conda-forge tensorflow \n",
    "    \n",
    "oder via pip:\n",
    "\n",
    "    $ pip3 install --upgrade tensorflow\n",
    "    \n",
    "PS: `--upgrade` updatet das genannte Paket. Sollten Sie zudem gerade keinen Zugriff auf das Terminal haben, so können Sie mittels einem ! (Bsp.: !conda install tensorflow) auch eine Zelle nutzen, um ein Paket zu installieren. Für good practice löschen Sie diese Zelle bzw die Zeile dann wieder aus Ihrem notebook nachdem Sie das Paket installiert haben."
   ]
  },
  {
   "cell_type": "code",
   "execution_count": 1,
   "id": "f6cc02c1",
   "metadata": {},
   "outputs": [],
   "source": [
    "import IPython\n",
    "assert IPython.version_info[0] >= 3, \"Ihre IPython Version ist veraltet. Bitte nutzen Sie Version >=3 von IPython/Jupyer notebook, damit nbgrader korrekt funktioniert.\""
   ]
  },
  {
   "cell_type": "markdown",
   "id": "b104346c",
   "metadata": {},
   "source": [
    "### Test 1: Erstellen Sie eine Datenbank und führen Sie eine Datenbankabfrage mittels SQLite durch\n",
    "\n",
    "Für mehr Information yu diesem Beispiel und weiteren Erklärungen schauen Sie bitte dieses [YouTube tutorial](https://www.youtube.com/watch?v=pd-0G0MigUA) or schauen Sie auf [Github](https://github.com/CoreyMSchafer/code_snippets/tree/master/Python-SQLite)."
   ]
  },
  {
   "cell_type": "code",
   "execution_count": 1,
   "id": "8a778ca7",
   "metadata": {
    "ExecuteTime": {
     "end_time": "2023-10-16T10:57:35.938502Z",
     "start_time": "2023-10-16T10:57:35.936316Z"
    }
   },
   "outputs": [],
   "source": [
    "import sqlite3"
   ]
  },
  {
   "cell_type": "code",
   "execution_count": 2,
   "id": "8fe76861",
   "metadata": {
    "ExecuteTime": {
     "end_time": "2023-10-16T10:57:36.800261Z",
     "start_time": "2023-10-16T10:57:36.796036Z"
    }
   },
   "outputs": [],
   "source": [
    "# create in-memory databases\n",
    "conn = sqlite3.connect(':memory:')\n",
    "\n",
    "c = conn.cursor()\n",
    "\n",
    "#create table\n",
    "c.execute(\"\"\"CREATE TABLE employees (\n",
    "            first text,\n",
    "            last text,\n",
    "            pay integer\n",
    "            )\"\"\")\n",
    "\n",
    "# insert a data record\n",
    "c.execute(\"INSERT INTO employees VALUES ('John', 'Doe', 80000)\")\n",
    "c.execute(\"INSERT INTO employees VALUES ('Jane', 'Doe', 90000)\")\n",
    "\n",
    "conn.commit()"
   ]
  },
  {
   "cell_type": "code",
   "execution_count": 3,
   "id": "c9094d5c",
   "metadata": {
    "ExecuteTime": {
     "end_time": "2023-10-16T10:57:38.378707Z",
     "start_time": "2023-10-16T10:57:38.369215Z"
    }
   },
   "outputs": [
    {
     "data": {
      "text/plain": "[('John', 'Doe', 80000), ('Jane', 'Doe', 90000)]"
     },
     "execution_count": 3,
     "metadata": {},
     "output_type": "execute_result"
    }
   ],
   "source": [
    "c.execute(\"SELECT * FROM employees WHERE last='Doe'\")\n",
    "c.fetchall()"
   ]
  },
  {
   "cell_type": "code",
   "execution_count": 4,
   "id": "ebfaeb8b",
   "metadata": {
    "ExecuteTime": {
     "end_time": "2023-10-16T10:57:39.737274Z",
     "start_time": "2023-10-16T10:57:39.728637Z"
    }
   },
   "outputs": [],
   "source": [
    "c.execute(\"Drop TABLE employees\")\n",
    "conn.commit()\n",
    "conn.close()"
   ]
  },
  {
   "cell_type": "markdown",
   "id": "76745255",
   "metadata": {},
   "source": [
    "### Test 2: pandas series and dataframe\n",
    "Pandas ist ein Python Paket, welches vor allem für Datenmanipulation und -analyse genutzt wird."
   ]
  },
  {
   "cell_type": "code",
   "execution_count": 5,
   "id": "8aa6719d",
   "metadata": {
    "ExecuteTime": {
     "end_time": "2023-10-16T10:57:43.563162Z",
     "start_time": "2023-10-16T10:57:43.296216Z"
    }
   },
   "outputs": [],
   "source": [
    "import pandas as pd"
   ]
  },
  {
   "cell_type": "code",
   "execution_count": 6,
   "id": "8275f4a5",
   "metadata": {
    "ExecuteTime": {
     "end_time": "2023-10-16T10:57:45.015368Z",
     "start_time": "2023-10-16T10:57:45.011112Z"
    }
   },
   "outputs": [
    {
     "name": "stderr",
     "output_type": "stream",
     "text": [
      "/var/folders/_2/gc7byvz138l33xdz9c98ydd00000gn/T/ipykernel_34071/1730486632.py:13: FutureWarning: The series.append method is deprecated and will be removed from pandas in a future version. Use pandas.concat instead.\n",
      "  all_countries = original_sports.append(cricket_loving_countries)\n"
     ]
    }
   ],
   "source": [
    "original_sports = pd.Series({'Archery': 'Bhutan',\n",
    "                             'Golf': 'Scotland',\n",
    "                             'Sumo': 'Japan',\n",
    "                             'Taekwondo': 'South Korea'})\n",
    "cricket_loving_countries = pd.Series(['Australia',\n",
    "                                      'Barbados',\n",
    "                                      'Pakistan',\n",
    "                                      'England'], \n",
    "                                   index=['Cricket',\n",
    "                                          'Cricket',\n",
    "                                          'Cricket',\n",
    "                                          'Cricket'])\n",
    "all_countries = original_sports.append(cricket_loving_countries)"
   ]
  },
  {
   "cell_type": "code",
   "execution_count": 7,
   "id": "eca0038d",
   "metadata": {
    "ExecuteTime": {
     "end_time": "2023-10-16T10:57:46.486565Z",
     "start_time": "2023-10-16T10:57:46.479148Z"
    }
   },
   "outputs": [
    {
     "data": {
      "text/plain": "Cricket    Australia\nCricket     Barbados\nCricket     Pakistan\nCricket      England\ndtype: object"
     },
     "execution_count": 7,
     "metadata": {},
     "output_type": "execute_result"
    }
   ],
   "source": [
    "all_countries.loc['Cricket']"
   ]
  },
  {
   "cell_type": "code",
   "execution_count": 8,
   "id": "2b72092e",
   "metadata": {
    "ExecuteTime": {
     "end_time": "2023-10-16T10:57:48.530937Z",
     "start_time": "2023-10-16T10:57:48.523794Z"
    }
   },
   "outputs": [
    {
     "data": {
      "text/plain": "          Name Item Purchased  Cost\nStore 1  Chris       Dog Food  22.5\nStore 1  Kevyn   Kitty Litter   2.5\nStore 2  Vinod      Bird Seed   5.0",
      "text/html": "<div>\n<style scoped>\n    .dataframe tbody tr th:only-of-type {\n        vertical-align: middle;\n    }\n\n    .dataframe tbody tr th {\n        vertical-align: top;\n    }\n\n    .dataframe thead th {\n        text-align: right;\n    }\n</style>\n<table border=\"1\" class=\"dataframe\">\n  <thead>\n    <tr style=\"text-align: right;\">\n      <th></th>\n      <th>Name</th>\n      <th>Item Purchased</th>\n      <th>Cost</th>\n    </tr>\n  </thead>\n  <tbody>\n    <tr>\n      <th>Store 1</th>\n      <td>Chris</td>\n      <td>Dog Food</td>\n      <td>22.5</td>\n    </tr>\n    <tr>\n      <th>Store 1</th>\n      <td>Kevyn</td>\n      <td>Kitty Litter</td>\n      <td>2.5</td>\n    </tr>\n    <tr>\n      <th>Store 2</th>\n      <td>Vinod</td>\n      <td>Bird Seed</td>\n      <td>5.0</td>\n    </tr>\n  </tbody>\n</table>\n</div>"
     },
     "execution_count": 8,
     "metadata": {},
     "output_type": "execute_result"
    }
   ],
   "source": [
    "purchase_1 = pd.Series({'Name': 'Chris',\n",
    "                        'Item Purchased': 'Dog Food',\n",
    "                        'Cost': 22.50})\n",
    "purchase_2 = pd.Series({'Name': 'Kevyn',\n",
    "                        'Item Purchased': 'Kitty Litter',\n",
    "                        'Cost': 2.50})\n",
    "purchase_3 = pd.Series({'Name': 'Vinod',\n",
    "                        'Item Purchased': 'Bird Seed',\n",
    "                        'Cost': 5.00})\n",
    "df = pd.DataFrame([purchase_1, purchase_2, purchase_3], index=['Store 1', 'Store 1', 'Store 2'])\n",
    "df.head()"
   ]
  },
  {
   "cell_type": "code",
   "execution_count": 9,
   "id": "b95ba8da",
   "metadata": {
    "ExecuteTime": {
     "end_time": "2023-10-16T10:57:49.511880Z",
     "start_time": "2023-10-16T10:57:49.491050Z"
    }
   },
   "outputs": [
    {
     "data": {
      "text/plain": "Store 1    22.5\nStore 1     2.5\nStore 2     5.0\nName: Cost, dtype: object"
     },
     "execution_count": 9,
     "metadata": {},
     "output_type": "execute_result"
    }
   ],
   "source": [
    "df.T.loc['Cost']"
   ]
  },
  {
   "cell_type": "code",
   "execution_count": null,
   "outputs": [],
   "source": [],
   "metadata": {
    "collapsed": false
   },
   "id": "4f3640008290a8"
  }
 ],
 "metadata": {
  "kernelspec": {
   "display_name": "Python 3",
   "language": "python",
   "name": "python3"
  },
  "language_info": {
   "codemirror_mode": {
    "name": "ipython",
    "version": 3
   },
   "file_extension": ".py",
   "mimetype": "text/x-python",
   "name": "python",
   "nbconvert_exporter": "python",
   "pygments_lexer": "ipython3",
   "version": "3.8.8"
  }
 },
 "nbformat": 4,
 "nbformat_minor": 5
}
