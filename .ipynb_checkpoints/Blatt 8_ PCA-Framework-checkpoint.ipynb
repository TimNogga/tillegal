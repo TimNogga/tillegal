{
 "cells": [
  {
   "cell_type": "code",
   "execution_count": null,
   "id": "c03f04e4",
   "metadata": {},
   "outputs": [],
   "source": [
    "import numpy as np\n",
    "from matplotlib import pyplot as plt"
   ]
  },
  {
   "cell_type": "markdown",
   "id": "30bef09c-04b3-4bab-8fcf-75c01478a98a",
   "metadata": {},
   "source": [
    "Erzeugt eine Punktwolke mit Verzerrung `y_factor`, Drehung `angle` und Translation `shift`."
   ]
  },
  {
   "cell_type": "code",
   "execution_count": null,
   "id": "6d668f52",
   "metadata": {},
   "outputs": [],
   "source": [
    "y_factor = 0.2\n",
    "angle = np.pi * 0.2\n",
    "rotation_mat = np.array([[np.cos(angle), np.sin(angle)],[-np.sin(angle), np.cos(angle)]])\n",
    "shift = [0.5, 2]\n",
    "\n",
    "points = np.random.randn(1000, 2) * np.sqrt(1)\n",
    "points[:,1] *= y_factor\n",
    "points = points @ rotation_mat\n",
    "points += shift\n",
    "plt.xlim(-4, 5)\n",
    "plt.ylim(-2, 5)\n",
    "plt.scatter(points[:,0], points[:,1]);"
   ]
  },
  {
   "cell_type": "code",
   "execution_count": null,
   "id": "ad15479b",
   "metadata": {},
   "outputs": [],
   "source": [
    "# Analytische Lösung\n",
    "plt.xlim(-4, 5)\n",
    "plt.ylim(-2, 5)\n",
    "plt.scatter(points[:,0], points[:,1])\n",
    "exact_origins = np.array([[shift[0], shift[0]], [shift[1], shift[1]]])\n",
    "exact_basis = np.array([[1, 0], [0, 1]]) @ rotation_mat\n",
    "exact_basis[[1,0]] = exact_basis[[0,1]] # Vertauscht fuer matplotlib\n",
    "plt.quiver(exact_origins[0,:], exact_origins[1,:], exact_basis[:,0], exact_basis[:,1], scale=np.array([30, 30 * y_factor]), color=\"red\");\n",
    "\n",
    "# TODO:\n",
    "# - Berechne die zwei Hauptrichtungen aus der Punktwolke und plotte sie über der analytischen Lösung\n",
    "# - Berechne das Verhältnis der Hauptrichtungen und vergleiche es mit y_factor\n",
    "# Gespiegelte Vektoren stellen keinen Fehler dar."
   ]
  }
 ],
 "metadata": {
  "kernelspec": {
   "display_name": "Python 3 (ipykernel)",
   "language": "python",
   "name": "python3"
  },
  "language_info": {
   "codemirror_mode": {
    "name": "ipython",
    "version": 3
   },
   "file_extension": ".py",
   "mimetype": "text/x-python",
   "name": "python",
   "nbconvert_exporter": "python",
   "pygments_lexer": "ipython3",
   "version": "3.11.6"
  }
 },
 "nbformat": 4,
 "nbformat_minor": 5
}
