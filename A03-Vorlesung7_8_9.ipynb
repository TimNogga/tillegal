{
 "cells": [
  {
   "cell_type": "markdown",
   "id": "6fe03a07",
   "metadata": {
    "pycharm": {
     "name": "#%% md\n"
    }
   },
   "source": [
    "Before you turn this problem in, make sure everything runs as expected. First, **restart the kernel** (in the menubar, select Kernel$\\rightarrow$Restart) and then **run all cells** (in the menubar, select Cell$\\rightarrow$Run All).\n",
    "\n",
    "Make sure you fill in any place that says `YOUR CODE HERE` or \"YOUR ANSWER HERE\", as well as your name and collaborators below:"
   ]
  },
  {
   "cell_type": "code",
   "execution_count": 8,
   "id": "3fbe3b1b",
   "metadata": {
    "pycharm": {
     "name": "#%%\n"
    }
   },
   "outputs": [],
   "source": [
    "NAME = \"Marcel Kämpchen, Tim Nogga, Jan Höchst, Amelie Artmann, Kolja von der Twer\"\n",
    "COLLABORATORS = \"\""
   ]
  },
  {
   "cell_type": "markdown",
   "id": "37a173ca",
   "metadata": {
    "pycharm": {
     "name": "#%% md\n"
    }
   },
   "source": [
    "---"
   ]
  },
  {
   "cell_type": "markdown",
   "id": "0e6e04c1",
   "metadata": {
    "deletable": false,
    "editable": false,
    "nbgrader": {
     "cell_type": "markdown",
     "checksum": "674dbd4204b2e92e1a3c1767caa83324",
     "grade": false,
     "grade_id": "cell-9c59a9a5ea5628ac",
     "locked": true,
     "schema_version": 3,
     "solution": false,
     "task": false
    }
   },
   "source": [
    "# Vorlesung 07"
   ]
  },
  {
   "cell_type": "markdown",
   "id": "787d2db6",
   "metadata": {
    "deletable": false,
    "editable": false,
    "nbgrader": {
     "cell_type": "markdown",
     "checksum": "e59ef3e7cc8bc0ed1cc505b6acede88f",
     "grade": false,
     "grade_id": "cell-9e0a24e7c913ff5d",
     "locked": true,
     "schema_version": 3,
     "solution": false,
     "task": false
    }
   },
   "source": [
    "1. Welche der folgenden Begriffe sind Kriterien für die Evaluation eines Datenbankentwurfs? (2 Punkte) <br>\n",
    "    a. Speicherplatzbedarf\n",
    "    \n",
    "    b. Weniger Tabellen\n",
    "    \n",
    "    c. Zugriffseffizienz\n",
    "    \n",
    "    d. Änderungsfreundlichkeit"
   ]
  },
  {
   "cell_type": "markdown",
   "id": "0fa4f9c5",
   "metadata": {
    "deletable": false,
    "nbgrader": {
     "cell_type": "markdown",
     "checksum": "56c4e6b556dcb849b16fdd0fb47edda2",
     "grade": true,
     "grade_id": "cell-ddcc7df0a9d360ba",
     "locked": false,
     "points": 2,
     "schema_version": 3,
     "solution": true,
     "task": false
    }
   },
   "source": [
    "a, c, d"
   ]
  },
  {
   "cell_type": "markdown",
   "id": "53bc75ff",
   "metadata": {
    "deletable": false,
    "editable": false,
    "nbgrader": {
     "cell_type": "markdown",
     "checksum": "9c9cf5ad663aa7f74984fdb805548dda",
     "grade": false,
     "grade_id": "cell-6c5bd58f1874b05e",
     "locked": true,
     "schema_version": 3,
     "solution": false,
     "task": false
    }
   },
   "source": [
    "2. Die nachfolgenden Beziehungen und Entitätstypen gehören zu einer gemeinsamen Miniwelt und sollen nun in ein relationales Schema überführt werden:\n",
    "\n",
    "- Angestellter -arbeitet in- Abteilung\n",
    "- Abteilung -besitzt -Arbeitsgruppe-\n",
    "- Angestellter -leitet- Arbeitsgrupp-\n",
    "- Abteilung -arbeitet an- Projekt\n",
    "\n",
    "a. Geben Sie für jeden Entitätstyp die notwendigen Primär- und Fremdschlüssel (treffen bzw. wählen Sie sinnvolle Bezeichnungen) in der zugehörigen Relation an. <br> b. Geben Sie an, wie Sie die 4 obigen Beziehungen im relationalen Modell umsetzen würden. Gehen Sie insbesondere eventuelle weitere Relationen zusätzlich zu den Entitätstypen an, die gebraucht werden (8 Punkte)\n"
   ]
  },
  {
   "cell_type": "markdown",
   "id": "5dda36e6",
   "metadata": {
    "deletable": false,
    "nbgrader": {
     "cell_type": "markdown",
     "checksum": "880b9c8244f434229368555bf77b50f2",
     "grade": true,
     "grade_id": "cell-6b1f9edae3c771e3",
     "locked": false,
     "points": 8,
     "schema_version": 3,
     "solution": true,
     "task": false
    }
   },
   "source": [
    "a) Angestellter Primärschlüssel: A_Nummer <br>\n",
    "Abteilung Primärschlüssel: Abt_Nummer <br>\n",
    "Arbeitsgruppe Primärschlüssel: AG_Nummer <br>\n",
    "Projekt Primätschlüssel: P_Nummer <br>\n",
    "\n",
    "Fremdschlüssel: Angestellter hat Fremdschlüssel auf Abt_Nummer(Abt), AG_Nummer(AG) und P_Nummer (P) <br>\n",
    "Arbeitsgruppe hat Fremdschlüssel auf Abt_Nummer (Abt_Num) und A_Nummer (A_Num) <br>\n",
    "Projekt hat Fremdschlüssel auf Arbeitsgruppe (AG_N) und auf Abteilung (Abt_N) <br>\n",
    "\n",
    "b) Man braucht die Relationen Angestellter, Abteilung, Arbeitsgruppe und Projekt. Zusätzlich dazu braucht man noch die Relationen Arbeitet an und Besitzt."
   ]
  },
  {
   "cell_type": "markdown",
   "id": "9a196b65",
   "metadata": {
    "deletable": false,
    "editable": false,
    "nbgrader": {
     "cell_type": "markdown",
     "checksum": "4ce222935b919500df180478f161eca2",
     "grade": false,
     "grade_id": "cell-f74d87915bd50eed",
     "locked": true,
     "schema_version": 3,
     "solution": false,
     "task": false
    }
   },
   "source": [
    "3. Ordnen sie die Konzepte des ER-Modells den Konzepten des relationalen Modells zu  (4 Punkte)\n",
    "\n",
    "ER-Modell\n",
    "\n",
    "1. Entitätentyp\n",
    "2. (1:1) oder (1:N)-Beziehungstyp\n",
    "3. (M:N)-Beziehungstyp\n",
    "4. n-ärer Beziehungstyp\n",
    "5. Einfaches Attribut\n",
    "6. Zusammengesetztes Attribut\n",
    "7. Mehrwertiges Attribut\n",
    "8. Schlüsselattribut\n",
    "\n",
    "\n",
    "Relationales Modell\n",
    "\n",
    "a. Attribut <br>\n",
    "b. Primär- (oder Sekundär)schlüssel <br>\n",
    "c. Fremdschlüssel oder Relation <br>\n",
    "d. Relation mit n Fremdschlüsseln <br>\n",
    "e. Menge der Komponentenatribute <br>\n",
    "f. Relation und Fremdschlüssel <br>\n",
    "g. Relation <br>\n",
    "h. Relation mit zwei Fremdschlüsseln <br>\n"
   ]
  },
  {
   "cell_type": "markdown",
   "id": "83be87bc",
   "metadata": {
    "deletable": false,
    "nbgrader": {
     "cell_type": "markdown",
     "checksum": "6620b5a226102b4f43745d4277d7f10d",
     "grade": true,
     "grade_id": "cell-30bfee92a56c7749",
     "locked": false,
     "points": 4,
     "schema_version": 3,
     "solution": true,
     "task": false
    }
   },
   "source": [
    "1g, 2c, 3h, 4d, 5a, 6e, 7f, 8b"
   ]
  },
  {
   "attachments": {
    "ER_to_relation_exmaple.PNG": {
     "image/png": "[encoded data removed]"
    }
   },
   "cell_type": "markdown",
   "id": "aee6b877",
   "metadata": {
    "deletable": false,
    "editable": false,
    "nbgrader": {
     "cell_type": "markdown",
     "checksum": "50cb010968f07142ef4fb8315bf6110c",
     "grade": false,
     "grade_id": "cell-015af30d3452f3f8",
     "locked": true,
     "schema_version": 3,
     "solution": false,
     "task": false
    }
   },
   "source": [
    "4. Überführen eines ER-Diagramms in ein relationales Schema\n",
    "\n",
    "Beispiel:\n",
    "\n",
    "<!-- ![ER_to_relation_exmaple.PNG](attachment:ER_to_relation_exmaple.PNG) -->\n",
    "\n",
    "<div>\n",
    "<img src=\"attachment:ER_to_relation_exmaple.PNG\" width=\"350\" align=\"left\"/>\n",
    "</div>"
   ]
  },
  {
   "attachments": {
    "ER.PNG": {
     "image/png": "[encoded data removed]"
    }
   },
   "cell_type": "markdown",
   "id": "1cf7832a",
   "metadata": {
    "deletable": false,
    "editable": false,
    "nbgrader": {
     "cell_type": "markdown",
     "checksum": "b2c6a6f8160d07111199fc3bac8e169e",
     "grade": false,
     "grade_id": "cell-a4efffc6eca92bec",
     "locked": true,
     "schema_version": 3,
     "solution": false,
     "task": false
    }
   },
   "source": [
    "- Unten ist ein ER-Diagramm gegeben. Zeichnen Sie die dazugehörige Tabellen <b>hier im Notebook</b>, indem Sie das Bild einfügen oder die Tabellen per HTML im Markdown modellieren (siehe Codebsp. unten) (7 Punkte) \n",
    "- Nennen Sie für jede Tabelle den Prmär- sowie alle Fremdschlüssel. (3 Punkte)\n",
    "\n",
    "| <u>Beispiel</u> | Tabelle |\n",
    "| --- | --- |\n",
    "| | \n",
    "\n",
    "<div>\n",
    "<img src=\"attachment:ER.PNG\" width=\"600\"/>\n",
    "</div>"
   ]
  },
  {
   "cell_type": "markdown",
   "id": "213def95",
   "metadata": {
    "deletable": false,
    "nbgrader": {
     "cell_type": "markdown",
     "checksum": "66908c3f4cf14fd4cfe50190cfce5531",
     "grade": true,
     "grade_id": "cell-77cc3a759f22a613",
     "locked": false,
     "points": 10,
     "schema_version": 3,
     "solution": true,
     "task": false
    }
   },
   "source": [
    "Relation: CUSTOMER\n",
    "|<u>CustomerID</u>| Name | Adress |ZIP_Code|Discount |Order_num |\n",
    "| --- | --- |--- |---|---|---|\n",
    "| | |||||\n",
    "\n",
    "Relation: ORDER\n",
    "|<u>Order_Number</u>| Order_date | Due_Date |C_ID|\n",
    "| --- | --- |--- |---|\n",
    "| | |||\n",
    "\n",
    "Customer_ID ist der Primärschlüssel von CUSTOMER <br>\n",
    "Order_Number ist der Primärschlüssel von ORDER <br>\n",
    "Order_num ist der Fremdschlüssel zu Order_Number <br>\n",
    "C_ID ist der Fremdschlüssel für Customer_ID\n"
   ]
  },
  {
   "cell_type": "markdown",
   "id": "c57f3419",
   "metadata": {
    "deletable": false,
    "editable": false,
    "nbgrader": {
     "cell_type": "markdown",
     "checksum": "90eda0d3ff7899754b01e27d87b47858",
     "grade": false,
     "grade_id": "cell-dec92202c382525e",
     "locked": true,
     "schema_version": 3,
     "solution": false,
     "task": false
    }
   },
   "source": [
    "5. Schreiben Sie das SQL-Statement, weleches zur Erzeugung der Tabelle ORDER notwendig ist. Nutzen Sie dabei insbesondere sinnvolle Datentypen für die Attribute und modellieren Sie die Primär- und Fremdschlüssel (4 Punkte)"
   ]
  },
  {
   "cell_type": "markdown",
   "id": "44e8c469",
   "metadata": {
    "deletable": false,
    "nbgrader": {
     "cell_type": "markdown",
     "checksum": "7b931727c37ac1ce848cf6584d6f8c5c",
     "grade": true,
     "grade_id": "cell-e641f976be750cf4",
     "locked": false,
     "points": 4,
     "schema_version": 3,
     "solution": true,
     "task": false
    }
   },
   "source": [
    "CREATE TABLE ORDER (\n",
    "  Order_Number INT PRIMARY KEY,\n",
    "  Order_date DATE,\n",
    "  Due_Date DATE,\n",
    "  C_ID INT,\n",
    "  FOREIGN KEY (C_ID) REFERENCES CUSTOMER(Customer_ID)\n",
    ");"
   ]
  },
  {
   "cell_type": "markdown",
   "id": "6863c4c6",
   "metadata": {
    "deletable": false,
    "editable": false,
    "nbgrader": {
     "cell_type": "markdown",
     "checksum": "904025e971dbaf1065a64b601e250887",
     "grade": false,
     "grade_id": "cell-13ee5767b945f2c1",
     "locked": true,
     "schema_version": 3,
     "solution": false,
     "task": false
    }
   },
   "source": [
    "6. Ordnen Sie die folgenden Varianten jeweils dem Vorteil oder Nachteil zu, den die gegebene Variante der Datenbankmodellierung mit sich bringt. (4 Punkte)\n",
    "\n",
    "Varianten:\n",
    "+ Variante 1: Relationen für Ober- und Untertypen mit redundanten Attributen\n",
    "+ Variante 2: Untertyp-Relation besitzt Primärschlüssel des Obertyps und spezifische (lokale) Attribute\n",
    "+ Variante 3: Obertyp wird als Sicht realisiert\n",
    "+ Variante 4: Einzelrelation für die Darstellung des Obertyps und dessen Untertypen\n",
    "\n",
    "Vorteil: \n",
    "\n",
    "    a. keine Duplizierung von Attributwerten\n",
    "    b. nur Schlüsselattribute werden redundant gespeichert\n",
    "    c. schnelle Zugriffszeit (keine Tabellenverknüpfung notwendig)\n",
    "    d. schnelle Zugriffszeit (keine Tabellenverknüpfung notwendig)\n",
    "    \n",
    "Nachteil:\n",
    "\n",
    "    e. Zugriff auf Untertyp-Attribute ist langsamer (wegen Join)\n",
    "    f. erhöhter Platzbedarf, ggf. Inkonsistenzen (redundante Speicherung)\n",
    "    g. Nullwerte in Attributen, die Untertyp-spezifisch sind\n",
    "    h. Zugriff auf Obertyp-Attribute ist langsamer (wegen Projektion und Vereinigung)"
   ]
  },
  {
   "cell_type": "markdown",
   "id": "95e40076",
   "metadata": {
    "deletable": false,
    "nbgrader": {
     "cell_type": "markdown",
     "checksum": "f8d7c141866a0bdaaecfd5e30848ab1b",
     "grade": true,
     "grade_id": "cell-d25f21aa274c329d",
     "locked": false,
     "points": 4,
     "schema_version": 3,
     "solution": true,
     "task": false
    }
   },
   "source": [
    "Variante 1: c, f <br>\n",
    "Variante 2: b, e <br>\n",
    "Variante 3: a, h <br>\n",
    "Variante 4: d, g"
   ]
  },
  {
   "cell_type": "markdown",
   "id": "40149c46",
   "metadata": {
    "deletable": false,
    "editable": false,
    "nbgrader": {
     "cell_type": "markdown",
     "checksum": "8c5721f02b7bb834599062215c58eabc",
     "grade": false,
     "grade_id": "cell-7c4b07363713af52",
     "locked": true,
     "schema_version": 3,
     "solution": false,
     "task": false
    }
   },
   "source": [
    "# Vorlesung 08: Funktionale Abhängigkeiten und Normalisierung"
   ]
  },
  {
   "cell_type": "markdown",
   "id": "02db4d53",
   "metadata": {
    "deletable": false,
    "editable": false,
    "nbgrader": {
     "cell_type": "markdown",
     "checksum": "7ea887dfe5bef5579f9b68d2c33aee74",
     "grade": false,
     "grade_id": "cell-1ab52d154a8d3c15",
     "locked": true,
     "schema_version": 3,
     "solution": false,
     "task": false
    }
   },
   "source": [
    "1. Welche der folgenden Kriterien können genutzt werden um zu beurteilen, ob ein Entwurf “besser” ist als ein anderer? (3 Punkte)\n",
    "\n",
    "    a. Klare Semantik (Bedeutung) der Relationen und Attribute\n",
    "    \n",
    "    b. Zunahme von Nullwerten in Tupeln\n",
    "    \n",
    "    c. Die Semantik der Beziehung und der Attribute kann einfacher erklärt werden\n",
    "    \n",
    "    d. Reduzierung der redundanten Werte in Tupeln\n",
    "    \n",
    "    e. Geben die Möglichkeit, falsche Tupel zu erzeugen\n",
    "    \n",
    "    f. Attribute eines Relationsschemas sind mit einer bestimmten Bedeutung/Semantik assoziiert"
   ]
  },
  {
   "cell_type": "markdown",
   "id": "dd2ae01d",
   "metadata": {
    "deletable": false,
    "nbgrader": {
     "cell_type": "markdown",
     "checksum": "6a36c53a7ab5f3fd9e334545905113fd",
     "grade": true,
     "grade_id": "cell-c36f3c51e767efdb",
     "locked": false,
     "points": 3,
     "schema_version": 3,
     "solution": true,
     "task": false
    }
   },
   "source": [
    "a, c, d, f"
   ]
  },
  {
   "cell_type": "markdown",
   "id": "c8532b1c",
   "metadata": {
    "deletable": false,
    "editable": false,
    "nbgrader": {
     "cell_type": "markdown",
     "checksum": "ee5720157b252f665a4b514c3231cb25",
     "grade": false,
     "grade_id": "cell-14ee392f6e411f24",
     "locked": true,
     "schema_version": 3,
     "solution": false,
     "task": false
    }
   },
   "source": [
    "2. Erklären Sie warum die folgende Tabelle auf einen schlechten Entwurf hinweist. Gehen Sie dabei auch auf die Folgen ein. (3 Punkte)\n",
    "\n",
    "\n",
    "Tabelle 1: \"STUDENT\"\n",
    "\n",
    "|<u> Student\\_ID </u>| Name     | Major            | MID | Faculty                                      | FID |\n",
    "| ----------- | -------- | ---------------- | --- | ------------------------------------------- | --- |\n",
    "| 1           | Egon     | Computer Science | M01 | Faculty of Mathematics and Natural Sciences | F01 |\n",
    "| 2           | Wolfgang | Biology          | M02 | Faculty of Mathematics and Natural Sciences | F01 |\n",
    "| 3           | Helmut   | Biology          | M02 | Faculty of Mathematics and Natural Sciences | F01 |\n",
    "| 4           | Heinz    | Computer Science | M01 | Faculty of Mathematics and Natural Sciences | F01 |\n",
    "| 5           | Felix    | Mathmatics       | M03 | Faculty of Mathematics and Natural Sciences | F01 |"
   ]
  },
  {
   "cell_type": "markdown",
   "id": "9484ace4",
   "metadata": {
    "deletable": false,
    "nbgrader": {
     "cell_type": "markdown",
     "checksum": "474b25d2f42ba7b55aca63b496ee453b",
     "grade": true,
     "grade_id": "cell-fb575c15f4b2dd44",
     "locked": false,
     "points": 3,
     "schema_version": 3,
     "solution": true,
     "task": false
    }
   },
   "source": [
    "- mehrere Unabhängige Entitätentypen werden zu einer Relation kombiniert (STUDENT, MAJOR, FACULTY) <br>\n",
    "-> Informationen werden redundant gespeichert (z.B. Major und MID/ Faculty und FID) <br>\n",
    "-Speicherplatzverlust <br>\n",
    "-durch die Redundanz kann es bei Updates zu Unstimmigkeiten/Anomalien kommen"
   ]
  },
  {
   "cell_type": "markdown",
   "id": "3d9d5fd5",
   "metadata": {
    "deletable": false,
    "editable": false,
    "nbgrader": {
     "cell_type": "markdown",
     "checksum": "83ae4b3d4fb9038265883d84ad0f5d19",
     "grade": false,
     "grade_id": "cell-e294ba6ed94cd87f",
     "locked": true,
     "schema_version": 3,
     "solution": false,
     "task": false
    }
   },
   "source": [
    "2.5 (NEW) Welche Anomalie-Arten gibt es? Nennen sie diese beim Namen und beschreiben sie kurz die Art der Situationen, in denen sie Auftreten. (3 Punkte)"
   ]
  },
  {
   "cell_type": "markdown",
   "id": "3dca4773",
   "metadata": {
    "deletable": false,
    "editable": false,
    "nbgrader": {
     "cell_type": "markdown",
     "checksum": "940883bf7724dd792f0bb8e469e064d3",
     "grade": false,
     "grade_id": "cell-602117843117c2f8",
     "locked": true,
     "points": 3,
     "schema_version": 3,
     "solution": false,
     "task": true
    }
   },
   "source": [
    "- Einfügeanomalie: beim Einfügen neuer Tupeln müssen entweder redundante Attributwerte, oder Nullwerte eingefügt werden\n",
    "- Löschanomalie: beim Löschen der Tupeln können Informationen verloren gehen, obwohl dies nicht beabsichtigt war\n",
    "- Modifikationsanomalie: mehrfaches Ändern der Tupel wegen Redundanzen erforderlich\n",
    "\n",
    "grading:\n",
    "- 0.5 Punkte pro korrekte Namensnennung\n",
    "- 0.5 Punkte pro korrekter Beschreibung"
   ]
  },
  {
   "cell_type": "markdown",
   "id": "da533fde",
   "metadata": {
    "deletable": false,
    "editable": false,
    "nbgrader": {
     "cell_type": "markdown",
     "checksum": "bd5ba3c235107f1a50ee4eb01d291ffd",
     "grade": false,
     "grade_id": "cell-02676917f3a613a5",
     "locked": true,
     "schema_version": 3,
     "solution": false,
     "task": false
    }
   },
   "source": [
    "3. Ist es möglich in der Datenbank aus Frage 2 (Tabelle 1: \"STUDENT\"), eine neue Fakultät \"Kunst\" (F02) einzufügen, die noch keinen Studierenden hat? Wenn ja, geben Sie die neue Zeile an, die in die Tabelle eingefügt werden soll. Wenn nein, erklären Sie warum dies nicht möglich ist. (2 Punkte)\n"
   ]
  },
  {
   "cell_type": "markdown",
   "id": "340d74b9",
   "metadata": {
    "deletable": false,
    "nbgrader": {
     "cell_type": "markdown",
     "checksum": "44fdb0f7f9273c4bc04d691c3400b9b9",
     "grade": true,
     "grade_id": "cell-d558ebc581f1b87c",
     "locked": false,
     "points": 2,
     "schema_version": 3,
     "solution": true,
     "task": false
    }
   },
   "source": [
    "Jede Fakultät braucht mindestens einen Studierenden, da die Student_ID der Primärschlüssel der Relation ist. Ohne Student_ID kann also auch keine neue Fakultät in die Tabelle eingefügt werden."
   ]
  },
  {
   "cell_type": "markdown",
   "id": "5bae36bf",
   "metadata": {
    "deletable": false,
    "editable": false,
    "nbgrader": {
     "cell_type": "markdown",
     "checksum": "1c860fda985296559564fef73804bb6f",
     "grade": false,
     "grade_id": "cell-469a02010b03ccce",
     "locked": true,
     "schema_version": 3,
     "solution": false,
     "task": false
    }
   },
   "source": [
    "4. Führen Sie eine verlustlose Zerlegung der Relation \"STUDENT\" gemäß Tabelle 1 durch. (4 Punkte)\n"
   ]
  },
  {
   "cell_type": "markdown",
   "id": "4e204479",
   "metadata": {
    "deletable": false,
    "nbgrader": {
     "cell_type": "markdown",
     "checksum": "f95ed9831f5b695719e148114ecfd123",
     "grade": true,
     "grade_id": "cell-99f1b6271bd229ee",
     "locked": false,
     "points": 4,
     "schema_version": 3,
     "solution": true,
     "task": false
    }
   },
   "source": [
    "Relation: STUDENT\n",
    "|<u>Student_ID</u>| Name| MID |\n",
    "| --- | --- |--- |\n",
    "|1 | Egon|M01|\n",
    "| 2| Wolfgang|M02|\n",
    "|3 | Helmut|M02|\n",
    "| 4| Heinz|M01|\n",
    "| 5| Felix|M03|\n",
    "\n",
    "Relation: MAJOR\n",
    "|<u>MID</u>| Major| FID |\n",
    "| --- | --- |--- |\n",
    "| M01|Computer Science |F01|\n",
    "| M02 | Biology|F01|\n",
    "| M03| Mathmatics|F01|\n",
    "\n",
    "Relation: FACULTY\n",
    "|<u>FID</u>|Faculty| \n",
    "| --- | --- |\n",
    "|F01 |Faculty of Mathematics and Natural Sciences |"
   ]
  },
  {
   "cell_type": "markdown",
   "id": "6ae1214c",
   "metadata": {
    "deletable": false,
    "editable": false,
    "nbgrader": {
     "cell_type": "markdown",
     "checksum": "81614982ccbc644a419ef95385dc4b95",
     "grade": false,
     "grade_id": "cell-7635b3068f84959e",
     "locked": true,
     "schema_version": 3,
     "solution": false,
     "task": false
    }
   },
   "source": [
    "5. Wenn {A1, A2, A3} ein minimaler Superschlüssel ist, kann {A1, A3} ein Superschlüssel sein? Geben Sie eine Ja/Nein Antwort und begründen Sie ihre Antwort. (2 Punkte)\n"
   ]
  },
  {
   "cell_type": "markdown",
   "id": "38925b81",
   "metadata": {
    "deletable": false,
    "nbgrader": {
     "cell_type": "markdown",
     "checksum": "5d90118286c0be25ba3d7d36d90c67e1",
     "grade": true,
     "grade_id": "cell-5b3fda6592b61c26",
     "locked": false,
     "points": 2,
     "schema_version": 3,
     "solution": true,
     "task": false
    }
   },
   "source": [
    "Nein, da {A1, A2, A3} bereits minimal ist. Es darf also kein Attribut mehr weggelassen werden, ohne, dass die Superschlüsseleigenschaft verloren geht."
   ]
  },
  {
   "cell_type": "markdown",
   "id": "1cf46c2f",
   "metadata": {
    "deletable": false,
    "editable": false,
    "nbgrader": {
     "cell_type": "markdown",
     "checksum": "45c0ca3dfc3aef8659394a1e6fd930bc",
     "grade": false,
     "grade_id": "cell-b5f740d228258213",
     "locked": true,
     "schema_version": 3,
     "solution": false,
     "task": false
    }
   },
   "source": [
    "6. Ist die in Tabelle 2 (GRADE) gegebene Relation, <br>\n",
    "        {Student_Number, Course_Number } -> Grade \n",
    "   eine volle FD (volle funktionale Abhängigkeit)? Geben Sie eine Ja/Nein Antwort und begründen Sie warum. (2 Punkte)\n",
    "        \n",
    "\n",
    "Tabelle 2: GRADE\n",
    "\n",
    "| Student_Number | Course_Number   | Grade |\n",
    "| --- | ----- | ----- |\n",
    "| 001 | 3-245 | 86    |\n",
    "| 002 | 3-245 | 75    |\n",
    "| 003 | 3-245 | 68    |\n",
    "| 001 | 3-105 | 92    |"
   ]
  },
  {
   "cell_type": "markdown",
   "id": "26fb9b72",
   "metadata": {
    "deletable": false,
    "nbgrader": {
     "cell_type": "markdown",
     "checksum": "37c8ed158776e59dc66cc8b4fbd3b41f",
     "grade": true,
     "grade_id": "cell-97224635c42895a8",
     "locked": false,
     "points": 2,
     "schema_version": 3,
     "solution": true,
     "task": false
    }
   },
   "source": [
    "Ja, da sowohl Student_Number als auch Course_Number erforderlich sind, um die entsprechende Grade zu erfahren.  {Student_Number, Course_Number } ist also nicht weiter reduzierbar."
   ]
  },
  {
   "cell_type": "markdown",
   "id": "36d887a6",
   "metadata": {
    "deletable": false,
    "editable": false,
    "nbgrader": {
     "cell_type": "markdown",
     "checksum": "176bcfd453dccfe4f4f83a6ec146acb4",
     "grade": false,
     "grade_id": "cell-4d65bdf2e4352626",
     "locked": true,
     "schema_version": 3,
     "solution": false,
     "task": false
    }
   },
   "source": [
    "7. Identifizieren Sie eine ***transitive FD*** der Tabelle 1 (STUDENT), zum Beispiel: A->B, es existiert Y, sodass A->Y und Y->B. Geben Sie A, B und Y in den von Ihnen identifizierten Abhängigkeiten an. (2 Punkte)\n"
   ]
  },
  {
   "cell_type": "markdown",
   "id": "f1d11d38",
   "metadata": {
    "deletable": false,
    "nbgrader": {
     "cell_type": "markdown",
     "checksum": "7d56877ceb7af433e3f5d302245cee71",
     "grade": true,
     "grade_id": "cell-389e4b1b367a7120",
     "locked": false,
     "points": 2,
     "schema_version": 3,
     "solution": true,
     "task": false
    }
   },
   "source": [
    "Student_ID -> Major <br>\n",
    "Major -> Faculty <br>\n",
    "Student_ID -> Faculty <br>\n",
    "A: Student_ID <br>\n",
    "B: Faculty <br>\n",
    "Y: Major"
   ]
  },
  {
   "cell_type": "markdown",
   "id": "ff005a96",
   "metadata": {
    "deletable": false,
    "editable": false,
    "nbgrader": {
     "cell_type": "markdown",
     "checksum": "eefb6d915d7eacd8586c595df298ee91",
     "grade": false,
     "grade_id": "cell-2e381496405b4777",
     "locked": true,
     "schema_version": 3,
     "solution": false,
     "task": false
    }
   },
   "source": [
    "8. (NEU - MOD) Überführen Sie Tabelle 3 (REGISTRATION) in die erste Normalform (1NF). (3 Punkte)\n",
    "\n",
    "Tabelle 3: REGISTRATION\n",
    "\n",
    "| Student\\_ID | Courses                                    |\n",
    "| ----------- | ------------------------------------------ |\n",
    "| 1           | Data Science, Computational Intelligence   |\n",
    "| 2           | Computational Intelligence, Linear Algebra |\n",
    "| 3           | Analysis, Linear Algebra, Astronomy        |\n",
    "| 4           | Astronomy, Data Science, Economics         |"
   ]
  },
  {
   "cell_type": "markdown",
   "id": "bd7141d0",
   "metadata": {
    "deletable": false,
    "nbgrader": {
     "cell_type": "markdown",
     "checksum": "3d9a4fff813356fe89bf53dad2e7e5bd",
     "grade": true,
     "grade_id": "cell-cd6b211a8184861f",
     "locked": false,
     "points": 3,
     "schema_version": 3,
     "solution": true,
     "task": false
    }
   },
   "source": [
    "| Student\\_ID | Courses                                    |\n",
    "| ----------- | ------------------------------------------ |\n",
    "| 1           | Data Science|\n",
    "| 1           | Computational Intelligence   |\n",
    "| 2           | Computational Intelligence|\n",
    "| 2           | Linear Algebra |\n",
    "| 3           | Analysis     |\n",
    "| 3           | Linear Algebra     |\n",
    "| 3           | Astronomy        |\n",
    "| 4           | Astronomy      |\n",
    "| 4           | Data Science        |\n",
    "| 4           | Economics         |\n"
   ]
  },
  {
   "cell_type": "markdown",
   "id": "b039fb1f",
   "metadata": {
    "deletable": false,
    "editable": false,
    "nbgrader": {
     "cell_type": "markdown",
     "checksum": "7f04f683a72faeb1c1b1ae54ac601d61",
     "grade": false,
     "grade_id": "cell-16aeb287d5b4fe76",
     "locked": true,
     "schema_version": 3,
     "solution": false,
     "task": false
    }
   },
   "source": [
    "9. Betrachten Sie die Relation TEACH mit den folgenden Abhängigkeiten:\n",
    "        - FD1: {Student_ID, Course_ID} → Teacher_ID\n",
    "        - FD2: Teacher_ID  → Course_ID\n",
    "Erstellen Sie das dazu passende Relationsschema in Boyce-Codd-Normalform (BCNF). (3 Punkte)\n",
    "\n",
    "Tabelle 4: TEACH\n",
    "\n",
    "| Student\\_ID | Course\\_ID | Teacher\\_ID |\n",
    "| ----------- | ---------- | --------- |\n",
    "|        |       |        |\n"
   ]
  },
  {
   "cell_type": "markdown",
   "id": "2e394729",
   "metadata": {
    "deletable": false,
    "nbgrader": {
     "cell_type": "markdown",
     "checksum": "04b83fb66088394d12891f8a2846ca31",
     "grade": true,
     "grade_id": "cell-90206440d6d15106",
     "locked": false,
     "points": 3,
     "schema_version": 3,
     "solution": true,
     "task": false
    }
   },
   "source": [
    "YOUR ANSWER HERE"
   ]
  },
  {
   "cell_type": "markdown",
   "id": "eb0222ac",
   "metadata": {
    "deletable": false,
    "editable": false,
    "nbgrader": {
     "cell_type": "markdown",
     "checksum": "1abeb9fee535f035875449547c5fa5fa",
     "grade": false,
     "grade_id": "cell-e95ca2933adc4168",
     "locked": true,
     "schema_version": 3,
     "solution": false,
     "task": false
    }
   },
   "source": [
    "# Vorlesung 09: Verteiltes Datenmanagement"
   ]
  },
  {
   "cell_type": "markdown",
   "id": "0422840d",
   "metadata": {
    "deletable": false,
    "editable": false,
    "nbgrader": {
     "cell_type": "markdown",
     "checksum": "ff74c266e9f5486f3fbdd92223ed2113",
     "grade": false,
     "grade_id": "cell-abdb0057fa028e98",
     "locked": true,
     "schema_version": 3,
     "solution": false,
     "task": false
    }
   },
   "source": [
    "    1. Geben Sie die ACID-Eigenschaften an und beschreiben Sie bitte jede Eigenschaft mit Ihren eigenen Worten. (2 Punkte)"
   ]
  },
  {
   "cell_type": "markdown",
   "id": "99c249ef",
   "metadata": {
    "deletable": false,
    "nbgrader": {
     "cell_type": "markdown",
     "checksum": "37ee379ac7468002b695501dcdd645d8",
     "grade": true,
     "grade_id": "cell-c16d2e6794ebc693",
     "locked": false,
     "points": 2,
     "schema_version": 3,
     "solution": true,
     "task": false
    }
   },
   "source": [
    "-Atomizität: Transaktionen können nicht teilweise ausgeführt werden (ganz oder gar nicht) <br>\n",
    "-Konsistenz: Transaktionen können die Datenbank nicht in einen inkonsistenen Zustand überführen <br>\n",
    "-Isolation: Transaktionen beeinflussen sich nicht gegenseitig negativ <br>\n",
    "-Dauerhaftigkeit: Änderungen, die Transaktionen herbeigeführt wurden, bleiben bestehen"
   ]
  },
  {
   "cell_type": "markdown",
   "id": "1e0627ca",
   "metadata": {
    "deletable": false,
    "editable": false,
    "nbgrader": {
     "cell_type": "markdown",
     "checksum": "506f7b84f9779f5c6f744520616ef798",
     "grade": false,
     "grade_id": "cell-fdda1adf80b9003d",
     "locked": true,
     "schema_version": 3,
     "solution": false,
     "task": false
    }
   },
   "source": [
    "    2. Welche der folgenden Aussagen sind korrekt? (3 Punkte)\n",
    "        \n",
    "        a) RDBMS konzentrieren sich auf Partitionstoleranz\n",
    "        b) NoSQL-Datenbanksysteme sind horizontal skalierbar\n",
    "        c) Die Ausführung einer Transaktion im RDBMS kann teilweise erfolgreich sein\n",
    "        d) Das Schlüssel-Werte-Datenmodell ist schnell & skalierbar\n",
    "        e) Das Wide-Column-Datenmodell ist nicht für Daten ohne klare Struktur geeignet\n",
    "        f) NoSQL steht für \"No SQL at all\""
   ]
  },
  {
   "cell_type": "markdown",
   "id": "626dead7",
   "metadata": {
    "deletable": false,
    "nbgrader": {
     "cell_type": "markdown",
     "checksum": "05ac2bc6085e4defa7203b2dd3d88bbe",
     "grade": true,
     "grade_id": "cell-15ed4cbd633872c6",
     "locked": false,
     "points": 3,
     "schema_version": 3,
     "solution": true,
     "task": false
    }
   },
   "source": [
    "b, d, e"
   ]
  },
  {
   "cell_type": "markdown",
   "id": "072d5e16",
   "metadata": {
    "deletable": false,
    "editable": false,
    "nbgrader": {
     "cell_type": "markdown",
     "checksum": "b1a57f4427e1ad7115f55e96757b02f7",
     "grade": false,
     "grade_id": "cell-515db4ec80f9b3fe",
     "locked": true,
     "schema_version": 3,
     "solution": false,
     "task": false
    }
   },
   "source": [
    "2.1 (NEW) Beschreiben sie in eigenen Worten den Unterschied zwischen vertikaler Skalierung (Scale-Up) und Horizontaler Skalierung (Scale-Out). (2 Punkte)"
   ]
  },
  {
   "cell_type": "markdown",
   "id": "58690bc1",
   "metadata": {
    "deletable": false,
    "nbgrader": {
     "cell_type": "markdown",
     "checksum": "3827887523e44b3dc54ea0209430164f",
     "grade": true,
     "grade_id": "cell-84aa9e5e03a130de",
     "locked": false,
     "points": 2,
     "schema_version": 3,
     "solution": true,
     "task": false
    }
   },
   "source": [
    "Bei vertikaler Skalierung werden neue Ressourcen zu einem bereits bestehenden Knoten hinzugefügt. Bei horizontaler Skalierung werden Ressourcen bei Bedarf zu neuen Knoten hinzugefügt."
   ]
  },
  {
   "cell_type": "markdown",
   "id": "c60cf90a",
   "metadata": {
    "deletable": false,
    "editable": false,
    "nbgrader": {
     "cell_type": "markdown",
     "checksum": "78d408d7d2fb8d0a02adc78f44267e18",
     "grade": false,
     "grade_id": "cell-50c9c103951fca58",
     "locked": true,
     "schema_version": 3,
     "solution": false,
     "task": false
    }
   },
   "source": [
    "2.2 (NEW) Geben sie das CAP-Theorems sowei seine Aspekte mit einer kurzen Beschreibung (natürlich in eigenen Worten) an. (3 Punkte)"
   ]
  },
  {
   "cell_type": "markdown",
   "id": "5c77272b",
   "metadata": {
    "deletable": false,
    "nbgrader": {
     "cell_type": "markdown",
     "checksum": "f9bbaf6cf5b516a102b2cf209be0afa6",
     "grade": true,
     "grade_id": "cell-982de236fedda8c2",
     "locked": false,
     "points": 3,
     "schema_version": 3,
     "solution": true,
     "task": false
    }
   },
   "source": [
    "Die drei Ziele Konsistenz, Verfügbarkeit und Partitionstoleranz können nicht alle gleichzeitig und vollständig erreicht werden, da sie miteiander in Wechselwirkung treten bzw. sich gegenseitig beeinflussen. Wenn beispielsweise Konsistenz und Partitionstoleranz vollständig gewährleistet sind, so kann die Verfügbarkeit nicht mehr garantiert werden."
   ]
  },
  {
   "cell_type": "markdown",
   "id": "a7c75f72",
   "metadata": {
    "deletable": false,
    "editable": false,
    "nbgrader": {
     "cell_type": "markdown",
     "checksum": "2be79f1f942a4b60fb8f49f508c30aac",
     "grade": false,
     "grade_id": "cell-a3e866ebb0b614cc",
     "locked": true,
     "schema_version": 3,
     "solution": false,
     "task": false
    }
   },
   "source": [
    "    3. Nennen Sie die 3 Schritte des MapReduce-Programmiermodells und beschreiben Sie sie in Ihren eigenen Worten. (3 Punkte)"
   ]
  },
  {
   "cell_type": "markdown",
   "id": "3473944c",
   "metadata": {
    "deletable": false,
    "nbgrader": {
     "cell_type": "markdown",
     "checksum": "8e30d241a453802a687f835e7e86ee0f",
     "grade": true,
     "grade_id": "cell-eac3bbb73cfd6b23",
     "locked": false,
     "points": 3,
     "schema_version": 3,
     "solution": true,
     "task": false
    }
   },
   "source": [
    "-Map: Berechnung wird für Datensatz angewandt <br>\n",
    "-Shuffle: Ergebnisse von Map werden gruppiert <br>\n",
    "-Reduce: Ergebnisse werden zusammengefasst <br>"
   ]
  },
  {
   "cell_type": "markdown",
   "id": "7512aaca",
   "metadata": {
    "deletable": false,
    "editable": false,
    "nbgrader": {
     "cell_type": "markdown",
     "checksum": "e425e61b18e942a7d31d2f0c26a361f4",
     "grade": false,
     "grade_id": "cell-9cb88d528b4ed433",
     "locked": true,
     "schema_version": 3,
     "solution": false,
     "task": false
    }
   },
   "source": [
    "    4. Vervollständigen Sie bitte die unten angegebenen mapper()- und reducer()-Funktionen für das häufig auftretende Problem des Wortzählens. Ihre Aufgabe ist es jetzt, den Code so zu vervollständigen, dass am Ende in einzelnen Zeilen jeweils die Wörter und ihre gesamte Häufigkeit ausgegeben werden. Als Input bekommen Sie einen String, der mehrere Zeilen enthält. Dabei steht jede Zeile für ein neues Dokument. \n",
    "  \n",
    "    Bitte schreiben Sie Ihre Lösung unter die \"# YOUR CODE HERE\"-Zeile und entfernen Sie, sofern Sie die Aufgabe gelöst haben, die Zeile \"raise NotImplementedError()\".\n",
    "    \n",
    "    Viel Erfolg! (6 Punkte)\n",
    "    \n",
    "+ Weitere Anleitungen und Hilfestellungen finden sich hier: https://www.projectpro.io/hadoop-tutorial/hadoop-mapreduce-wordcount-tutorial\n",
    "+ Bei Fragen können Sie sich gerne bei uns melden\n",
    "+ Dies hier ist eine einfache Simulation von MapReduce und soll Ihnen helfen, das Konzept besser zu verstehen. Die tatsächliche Implementierung von MapReduce in Hadoop ist anders, als die hier implementierte Variante."
   ]
  },
  {
   "cell_type": "code",
   "execution_count": 2,
   "id": "a3b73469",
   "metadata": {
    "deletable": false,
    "nbgrader": {
     "cell_type": "code",
     "checksum": "dfc5edc06883c959e346cb155d3b5094",
     "grade": false,
     "grade_id": "cell-ba0b826504a0e2ef",
     "locked": false,
     "schema_version": 3,
     "solution": true,
     "task": false
    }
   },
   "outputs": [],
   "source": [
    "# 2 Punkte\n",
    "\n",
    "def mapper(simulate_stdin):\n",
    "    res = \"\"\n",
    "    for line in simulate_stdin:\n",
    "        line = line.strip()\n",
    "        \n",
    "        # Zerteilen Sie die Zeile in einzelne Wörter\n",
    "        words = line.split()\n",
    "        \n",
    "        # Hinzufügen von Wort und Häufigkeit\n",
    "        for word in words:\n",
    "            res += word + '\\t1\\n'\n",
    "    print(res)\n",
    "    return res"
   ]
  },
  {
   "cell_type": "code",
   "execution_count": 3,
   "id": "490f7cc1",
   "metadata": {
    "deletable": false,
    "nbgrader": {
     "cell_type": "code",
     "checksum": "97c0489e881f32ee095e591381caa767",
     "grade": false,
     "grade_id": "cell-2262feefffe5b4ff",
     "locked": false,
     "schema_version": 3,
     "solution": true,
     "task": false
    }
   },
   "outputs": [],
   "source": [
    "# 4 Punkte\n",
    "\n",
    "def reducer(simulate_stdin):\n",
    "    res = \"\"\n",
    "    \n",
    "    current_word = None\n",
    "    current_count = 0\n",
    "    word = None\n",
    "\n",
    "    for line in simulate_stdin:\n",
    "        line = line.strip()\n",
    "        # Aufteilen des Inputs\n",
    "        segs = line.split('\\t')\n",
    "        \n",
    "        if len(segs) == 2:\n",
    "            word = segs[0]\n",
    "            count = int(segs[1])\n",
    "        else:\n",
    "            continue\n",
    "            \n",
    "\n",
    "        \n",
    "        if current_word == word:\n",
    "            # Erhöhen Sie den current_count\n",
    "            current_count +=1\n",
    "        else:\n",
    "            if current_word:\n",
    "                # Abspeichern im Ausgabestring\n",
    "                res += current_word+'\\t' + str(current_count) + '\\n'\n",
    "            # Updaten Sie current_word und current_count für das nächste Wort\n",
    "            #current_word = segs[count]\n",
    "            current_word = segs[0]\n",
    "            current_count = 1\n",
    "       \n",
    "    \n",
    "            \n",
    "    # Das letzte Wort bei der Ausgabe nicht vergessen!\n",
    "    if current_word == word:\n",
    "        res += current_word+'\\t' + str(current_count) + '\\n'\n",
    "    return res"
   ]
  },
  {
   "cell_type": "code",
   "execution_count": 4,
   "id": "d7144cd1",
   "metadata": {
    "deletable": false,
    "editable": false,
    "nbgrader": {
     "cell_type": "code",
     "checksum": "fe7e09d79b879378476589408460cfab",
     "grade": false,
     "grade_id": "cell-880fec732bc5047b",
     "locked": true,
     "schema_version": 3,
     "solution": false,
     "task": false
    }
   },
   "outputs": [],
   "source": [
    "docs = \"\"\"\n",
    "            Forrest Gump is a 1994 American comedy-drama film directed by Robert Zemeckis and written by Eric Roth. \\n\n",
    "            It is based on the 1986 novel of the same name by Winston Groom.\\n\n",
    "            The story depicts several decades in the life of Forrest Gump (Hanks), a slow-witted and kindhearted man from Alabama who witnesses and unwittingly influences several defining historical events in the 20th-century United States. \\n\n",
    "            The film differs substantially from the novel.\n",
    "            \"\"\""
   ]
  },
  {
   "cell_type": "code",
   "execution_count": 5,
   "id": "e18b4d32",
   "metadata": {
    "deletable": false,
    "editable": false,
    "nbgrader": {
     "cell_type": "code",
     "checksum": "1901e611c3051d6cf883ac1f585d936e",
     "grade": true,
     "grade_id": "cell-2b1d94fdbc54fb0b",
     "locked": true,
     "points": 2,
     "schema_version": 3,
     "solution": false,
     "task": false
    }
   },
   "outputs": [
    {
     "name": "stdout",
     "output_type": "stream",
     "text": [
      "Forrest\t1\n",
      "Gump\t1\n",
      "is\t1\n",
      "a\t1\n",
      "1994\t1\n",
      "American\t1\n",
      "comedy-drama\t1\n",
      "film\t1\n",
      "directed\t1\n",
      "by\t1\n",
      "Robert\t1\n",
      "Zemeckis\t1\n",
      "and\t1\n",
      "written\t1\n",
      "by\t1\n",
      "Eric\t1\n",
      "Roth.\t1\n",
      "It\t1\n",
      "is\t1\n",
      "based\t1\n",
      "on\t1\n",
      "the\t1\n",
      "1986\t1\n",
      "novel\t1\n",
      "of\t1\n",
      "the\t1\n",
      "same\t1\n",
      "name\t1\n",
      "by\t1\n",
      "Winston\t1\n",
      "Groom.\t1\n",
      "The\t1\n",
      "story\t1\n",
      "depicts\t1\n",
      "several\t1\n",
      "decades\t1\n",
      "in\t1\n",
      "the\t1\n",
      "life\t1\n",
      "of\t1\n",
      "Forrest\t1\n",
      "Gump\t1\n",
      "(Hanks),\t1\n",
      "a\t1\n",
      "slow-witted\t1\n",
      "and\t1\n",
      "kindhearted\t1\n",
      "man\t1\n",
      "from\t1\n",
      "Alabama\t1\n",
      "who\t1\n",
      "witnesses\t1\n",
      "and\t1\n",
      "unwittingly\t1\n",
      "influences\t1\n",
      "several\t1\n",
      "defining\t1\n",
      "historical\t1\n",
      "events\t1\n",
      "in\t1\n",
      "the\t1\n",
      "20th-century\t1\n",
      "United\t1\n",
      "States.\t1\n",
      "The\t1\n",
      "film\t1\n",
      "differs\t1\n",
      "substantially\t1\n",
      "from\t1\n",
      "the\t1\n",
      "novel.\t1\n",
      "\n"
     ]
    }
   ],
   "source": [
    "assert mapper(docs.split('\\n')) == 'Forrest\\t1\\nGump\\t1\\nis\\t1\\na\\t1\\n1994\\t1\\nAmerican\\t1\\ncomedy-drama\\t1\\nfilm\\t1\\ndirected\\t1\\nby\\t1\\nRobert\\t1\\nZemeckis\\t1\\nand\\t1\\nwritten\\t1\\nby\\t1\\nEric\\t1\\nRoth.\\t1\\nIt\\t1\\nis\\t1\\nbased\\t1\\non\\t1\\nthe\\t1\\n1986\\t1\\nnovel\\t1\\nof\\t1\\nthe\\t1\\nsame\\t1\\nname\\t1\\nby\\t1\\nWinston\\t1\\nGroom.\\t1\\nThe\\t1\\nstory\\t1\\ndepicts\\t1\\nseveral\\t1\\ndecades\\t1\\nin\\t1\\nthe\\t1\\nlife\\t1\\nof\\t1\\nForrest\\t1\\nGump\\t1\\n(Hanks),\\t1\\na\\t1\\nslow-witted\\t1\\nand\\t1\\nkindhearted\\t1\\nman\\t1\\nfrom\\t1\\nAlabama\\t1\\nwho\\t1\\nwitnesses\\t1\\nand\\t1\\nunwittingly\\t1\\ninfluences\\t1\\nseveral\\t1\\ndefining\\t1\\nhistorical\\t1\\nevents\\t1\\nin\\t1\\nthe\\t1\\n20th-century\\t1\\nUnited\\t1\\nStates.\\t1\\nThe\\t1\\nfilm\\t1\\ndiffers\\t1\\nsubstantially\\t1\\nfrom\\t1\\nthe\\t1\\nnovel.\\t1\\n'"
   ]
  },
  {
   "cell_type": "code",
   "execution_count": 6,
   "id": "a6d543cf",
   "metadata": {
    "deletable": false,
    "editable": false,
    "nbgrader": {
     "cell_type": "code",
     "checksum": "d312307c7bc0dcf6033150883af57256",
     "grade": true,
     "grade_id": "cell-6da2cae85ebe6509",
     "locked": true,
     "points": 4,
     "schema_version": 3,
     "solution": false,
     "task": false
    }
   },
   "outputs": [
    {
     "name": "stdout",
     "output_type": "stream",
     "text": [
      "Forrest\t1\n",
      "Gump\t1\n",
      "is\t1\n",
      "a\t1\n",
      "1994\t1\n",
      "American\t1\n",
      "comedy-drama\t1\n",
      "film\t1\n",
      "directed\t1\n",
      "by\t1\n",
      "Robert\t1\n",
      "Zemeckis\t1\n",
      "and\t1\n",
      "written\t1\n",
      "by\t1\n",
      "Eric\t1\n",
      "Roth.\t1\n",
      "It\t1\n",
      "is\t1\n",
      "based\t1\n",
      "on\t1\n",
      "the\t1\n",
      "1986\t1\n",
      "novel\t1\n",
      "of\t1\n",
      "the\t1\n",
      "same\t1\n",
      "name\t1\n",
      "by\t1\n",
      "Winston\t1\n",
      "Groom.\t1\n",
      "The\t1\n",
      "story\t1\n",
      "depicts\t1\n",
      "several\t1\n",
      "decades\t1\n",
      "in\t1\n",
      "the\t1\n",
      "life\t1\n",
      "of\t1\n",
      "Forrest\t1\n",
      "Gump\t1\n",
      "(Hanks),\t1\n",
      "a\t1\n",
      "slow-witted\t1\n",
      "and\t1\n",
      "kindhearted\t1\n",
      "man\t1\n",
      "from\t1\n",
      "Alabama\t1\n",
      "who\t1\n",
      "witnesses\t1\n",
      "and\t1\n",
      "unwittingly\t1\n",
      "influences\t1\n",
      "several\t1\n",
      "defining\t1\n",
      "historical\t1\n",
      "events\t1\n",
      "in\t1\n",
      "the\t1\n",
      "20th-century\t1\n",
      "United\t1\n",
      "States.\t1\n",
      "The\t1\n",
      "film\t1\n",
      "differs\t1\n",
      "substantially\t1\n",
      "from\t1\n",
      "the\t1\n",
      "novel.\t1\n",
      "\n"
     ]
    }
   ],
   "source": [
    "# 1. Mapping\n",
    "mapper_result = mapper(docs.split('\\n'))\n",
    "\n",
    "# 2. Shufflen\n",
    "shuffled = sorted(mapper_result.split('\\n'))\n",
    "\n",
    "\n",
    "assert reducer(shuffled) == '(Hanks),\\t1\\n1986\\t1\\n1994\\t1\\n20th-century\\t1\\nAlabama\\t1\\nAmerican\\t1\\nEric\\t1\\nForrest\\t2\\nGroom.\\t1\\nGump\\t2\\nIt\\t1\\nRobert\\t1\\nRoth.\\t1\\nStates.\\t1\\nThe\\t2\\nUnited\\t1\\nWinston\\t1\\nZemeckis\\t1\\na\\t2\\nand\\t3\\nbased\\t1\\nby\\t3\\ncomedy-drama\\t1\\ndecades\\t1\\ndefining\\t1\\ndepicts\\t1\\ndiffers\\t1\\ndirected\\t1\\nevents\\t1\\nfilm\\t2\\nfrom\\t2\\nhistorical\\t1\\nin\\t2\\ninfluences\\t1\\nis\\t2\\nkindhearted\\t1\\nlife\\t1\\nman\\t1\\nname\\t1\\nnovel\\t1\\nnovel.\\t1\\nof\\t2\\non\\t1\\nsame\\t1\\nseveral\\t2\\nslow-witted\\t1\\nstory\\t1\\nsubstantially\\t1\\nthe\\t5\\nunwittingly\\t1\\nwho\\t1\\nwitnesses\\t1\\nwritten\\t1\\n'"
   ]
  },
  {
   "cell_type": "code",
   "execution_count": 7,
   "id": "0c03f0b2",
   "metadata": {},
   "outputs": [
    {
     "name": "stdout",
     "output_type": "stream",
     "text": [
      "Wort: \u001b[1ma                   \u001b[0m Häufigkeit:  \u001b[1m2\u001b[0m -mal\n",
      "Wort: \u001b[1mIt                  \u001b[0m Häufigkeit:  \u001b[1m1\u001b[0m -mal\n",
      "Wort: \u001b[1mby                  \u001b[0m Häufigkeit:  \u001b[1m3\u001b[0m -mal\n",
      "Wort: \u001b[1min                  \u001b[0m Häufigkeit:  \u001b[1m2\u001b[0m -mal\n",
      "Wort: \u001b[1mis                  \u001b[0m Häufigkeit:  \u001b[1m2\u001b[0m -mal\n",
      "Wort: \u001b[1mof                  \u001b[0m Häufigkeit:  \u001b[1m2\u001b[0m -mal\n",
      "Wort: \u001b[1mon                  \u001b[0m Häufigkeit:  \u001b[1m1\u001b[0m -mal\n",
      "Wort: \u001b[1mThe                 \u001b[0m Häufigkeit:  \u001b[1m2\u001b[0m -mal\n",
      "Wort: \u001b[1mand                 \u001b[0m Häufigkeit:  \u001b[1m3\u001b[0m -mal\n",
      "Wort: \u001b[1mman                 \u001b[0m Häufigkeit:  \u001b[1m1\u001b[0m -mal\n",
      "Wort: \u001b[1mthe                 \u001b[0m Häufigkeit:  \u001b[1m5\u001b[0m -mal\n",
      "Wort: \u001b[1mwho                 \u001b[0m Häufigkeit:  \u001b[1m1\u001b[0m -mal\n",
      "Wort: \u001b[1m1986                \u001b[0m Häufigkeit:  \u001b[1m1\u001b[0m -mal\n",
      "Wort: \u001b[1m1994                \u001b[0m Häufigkeit:  \u001b[1m1\u001b[0m -mal\n",
      "Wort: \u001b[1mEric                \u001b[0m Häufigkeit:  \u001b[1m1\u001b[0m -mal\n",
      "Wort: \u001b[1mGump                \u001b[0m Häufigkeit:  \u001b[1m2\u001b[0m -mal\n",
      "Wort: \u001b[1mfilm                \u001b[0m Häufigkeit:  \u001b[1m2\u001b[0m -mal\n",
      "Wort: \u001b[1mfrom                \u001b[0m Häufigkeit:  \u001b[1m2\u001b[0m -mal\n",
      "Wort: \u001b[1mlife                \u001b[0m Häufigkeit:  \u001b[1m1\u001b[0m -mal\n",
      "Wort: \u001b[1mname                \u001b[0m Häufigkeit:  \u001b[1m1\u001b[0m -mal\n",
      "Wort: \u001b[1msame                \u001b[0m Häufigkeit:  \u001b[1m1\u001b[0m -mal\n",
      "Wort: \u001b[1mRoth.               \u001b[0m Häufigkeit:  \u001b[1m1\u001b[0m -mal\n",
      "Wort: \u001b[1mbased               \u001b[0m Häufigkeit:  \u001b[1m1\u001b[0m -mal\n",
      "Wort: \u001b[1mnovel               \u001b[0m Häufigkeit:  \u001b[1m1\u001b[0m -mal\n",
      "Wort: \u001b[1mstory               \u001b[0m Häufigkeit:  \u001b[1m1\u001b[0m -mal\n",
      "Wort: \u001b[1mGroom.              \u001b[0m Häufigkeit:  \u001b[1m1\u001b[0m -mal\n",
      "Wort: \u001b[1mRobert              \u001b[0m Häufigkeit:  \u001b[1m1\u001b[0m -mal\n",
      "Wort: \u001b[1mUnited              \u001b[0m Häufigkeit:  \u001b[1m1\u001b[0m -mal\n",
      "Wort: \u001b[1mevents              \u001b[0m Häufigkeit:  \u001b[1m1\u001b[0m -mal\n",
      "Wort: \u001b[1mnovel.              \u001b[0m Häufigkeit:  \u001b[1m1\u001b[0m -mal\n",
      "Wort: \u001b[1mAlabama             \u001b[0m Häufigkeit:  \u001b[1m1\u001b[0m -mal\n",
      "Wort: \u001b[1mForrest             \u001b[0m Häufigkeit:  \u001b[1m2\u001b[0m -mal\n",
      "Wort: \u001b[1mStates.             \u001b[0m Häufigkeit:  \u001b[1m1\u001b[0m -mal\n",
      "Wort: \u001b[1mWinston             \u001b[0m Häufigkeit:  \u001b[1m1\u001b[0m -mal\n",
      "Wort: \u001b[1mdecades             \u001b[0m Häufigkeit:  \u001b[1m1\u001b[0m -mal\n",
      "Wort: \u001b[1mdepicts             \u001b[0m Häufigkeit:  \u001b[1m1\u001b[0m -mal\n",
      "Wort: \u001b[1mdiffers             \u001b[0m Häufigkeit:  \u001b[1m1\u001b[0m -mal\n",
      "Wort: \u001b[1mseveral             \u001b[0m Häufigkeit:  \u001b[1m2\u001b[0m -mal\n",
      "Wort: \u001b[1mwritten             \u001b[0m Häufigkeit:  \u001b[1m1\u001b[0m -mal\n",
      "Wort: \u001b[1m(Hanks),            \u001b[0m Häufigkeit:  \u001b[1m1\u001b[0m -mal\n",
      "Wort: \u001b[1mAmerican            \u001b[0m Häufigkeit:  \u001b[1m1\u001b[0m -mal\n",
      "Wort: \u001b[1mZemeckis            \u001b[0m Häufigkeit:  \u001b[1m1\u001b[0m -mal\n",
      "Wort: \u001b[1mdefining            \u001b[0m Häufigkeit:  \u001b[1m1\u001b[0m -mal\n",
      "Wort: \u001b[1mdirected            \u001b[0m Häufigkeit:  \u001b[1m1\u001b[0m -mal\n",
      "Wort: \u001b[1mwitnesses           \u001b[0m Häufigkeit:  \u001b[1m1\u001b[0m -mal\n",
      "Wort: \u001b[1mhistorical          \u001b[0m Häufigkeit:  \u001b[1m1\u001b[0m -mal\n",
      "Wort: \u001b[1minfluences          \u001b[0m Häufigkeit:  \u001b[1m1\u001b[0m -mal\n",
      "Wort: \u001b[1mkindhearted         \u001b[0m Häufigkeit:  \u001b[1m1\u001b[0m -mal\n",
      "Wort: \u001b[1mslow-witted         \u001b[0m Häufigkeit:  \u001b[1m1\u001b[0m -mal\n",
      "Wort: \u001b[1munwittingly         \u001b[0m Häufigkeit:  \u001b[1m1\u001b[0m -mal\n",
      "Wort: \u001b[1m20th-century        \u001b[0m Häufigkeit:  \u001b[1m1\u001b[0m -mal\n",
      "Wort: \u001b[1mcomedy-drama        \u001b[0m Häufigkeit:  \u001b[1m1\u001b[0m -mal\n",
      "Wort: \u001b[1msubstantially       \u001b[0m Häufigkeit:  \u001b[1m1\u001b[0m -mal\n"
     ]
    }
   ],
   "source": [
    "import unicodedata\n",
    "\n",
    "# Ausgabe des Ergebnisses von MapReduce:\n",
    "def pretty_print(output):\n",
    "    output = sorted(output.split('\\n'), key=len)[1:]\n",
    "    for word in output:\n",
    "        word, count = word.split('\\t')\n",
    "        print('Wort: \\033[1m' + '{0:20s}'.format(word) + '\\033[0m Häufigkeit:  \\033[1m' + count + '\\033[0m -mal')\n",
    "        \n",
    "pretty_print(reducer(shuffled))\n",
    "\n",
    "# Oder diese einfachere Version:\n",
    "# print(reducer(shuffled))"
   ]
  },
  {
   "cell_type": "code",
   "execution_count": null,
   "id": "7725312e",
   "metadata": {},
   "outputs": [],
   "source": []
  },
  {
   "cell_type": "code",
   "execution_count": null,
   "id": "c565e5d0",
   "metadata": {},
   "outputs": [],
   "source": []
  }
 ],
 "metadata": {
  "kernelspec": {
   "display_name": "Python 3 (ipykernel)",
   "language": "python",
   "name": "python3"
  },
  "language_info": {
   "codemirror_mode": {
    "name": "ipython",
    "version": 3
   },
   "file_extension": ".py",
   "mimetype": "text/x-python",
   "name": "python",
   "nbconvert_exporter": "python",
   "pygments_lexer": "ipython3",
   "version": "3.10.9"
  }
 },
 "nbformat": 4,
 "nbformat_minor": 5
}
