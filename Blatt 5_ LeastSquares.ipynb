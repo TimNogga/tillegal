{
 "cells": [
  {
   "cell_type": "code",
   "execution_count": 1,
   "id": "def7c03f-8a38-410b-837b-835e926749b1",
   "metadata": {
    "ExecuteTime": {
     "end_time": "2023-11-14T15:39:54.312251Z",
     "start_time": "2023-11-14T15:39:54.254613Z"
    }
   },
   "outputs": [],
   "source": [
    "import numpy as np\n",
    "\n",
    "def QR(A):\n",
    "    \"\"\"Given a matrix A with full column rank this function uses the classical \n",
    "       Gram-Schmidt algorithm to compute a QR decomposition. It returns a tuple \n",
    "       (Q, R) of np.matrix objects with Q having shape identical to A and Q*R=A.\"\"\"\n",
    "    # TODO: Implement this function\n",
    "    n = A.shape[1]\n",
    "    Q = np.matrix(np.zeros_like(A))\n",
    "    R = np.matrix(np.zeros((n, n), dtype=A.dtype))\n",
    "    m = A.shape[0]\n",
    "    for i in range(n):\n",
    "        v = A[:,i].reshape((m,1))\n",
    "        for j in range(i):\n",
    "            R[j,i] = Q[:,j].T @ A[:,i]\n",
    "            v = v - R[j,i]*Q[:,j]\n",
    "        R[i,i] = np.linalg.norm(v)\n",
    "        Q[:,i] = v/R[i,i]\n",
    "        \n",
    "    return Q, R\n",
    "\n",
    "def BackSubstitution(R, y):\n",
    "    \"\"\"Given a square upper triangular matrix R and a vector y of same size this \n",
    "       function solves R*x=y using backward substitution and returns x.\"\"\"\n",
    "    # TODO: Implement this function\n",
    "    n = R.shape[1]\n",
    "    x = np.matrix(np.zeros((n,1),dtype=np.dtype))\n",
    "    for i in range(n-1,-1,-1):\n",
    "        x[i] = y[i]/R[i,i]\n",
    "        y[0:i]= y[0:i] - R[0:i,i]*x[i]\n",
    "    return x\n",
    "\n",
    "def LeastSquares(A, b):\n",
    "    \"\"\"Given a matrix A and a vector b this function solves the least squares \n",
    "       problem of minimizing |A*x-b| and returns the optimal x.\"\"\"\n",
    "    # TODO: Implement this function\n",
    "    Q, R = QR(A)\n",
    "    b = b.reshape((b.shape[0],1))\n",
    "    x = BackSubstitution(R,Q.H @ b)\n",
    "    return x"
   ]
  },
  {
   "cell_type": "code",
   "execution_count": 2,
   "id": "1dc17368-9035-41ef-a53f-85b642ed76c9",
   "metadata": {
    "ExecuteTime": {
     "end_time": "2023-11-14T15:39:54.330556Z",
     "start_time": "2023-11-14T15:39:54.311227Z"
    }
   },
   "outputs": [
    {
     "name": "stdout",
     "output_type": "stream",
     "text": [
      "If the following numbers are nearly zero, QR seems to be working.\n",
      "7.021666937153402e-16\n",
      "5.190540577426639e-16\n",
      "If the following number is nearly zero, least squares solving seems to be working.\n",
      "7.644825632112801e-15\n"
     ]
    }
   ],
   "source": [
    "if __name__==\"__main__\":\n",
    "    # Try the QR decomposition\n",
    "    A=np.array([\n",
    "        [1.0,1.0,1.0],\n",
    "        [1.0,2.0,3.0],\n",
    "        [1.0,4.0,9.0],\n",
    "        [1.0,8.0,27.0]\n",
    "    ])\n",
    "    Q, R = QR(A)\n",
    "    print(\"If the following numbers are nearly zero, QR seems to be working.\")\n",
    "    print(np.linalg.norm(Q @ R-A))\n",
    "    print(np.linalg.norm(np.conj(Q.T) @ Q - np.eye(3)))\n",
    "    # Try solving a least squares system\n",
    "    b=np.array([1.0,2.0,3.0,4.0]).T\n",
    "    x=LeastSquares(A, b)\n",
    "    print(\"If the following number is nearly zero, least squares solving seems to be working.\")\n",
    "    print(np.linalg.norm(x.T-np.linalg.lstsq(A, b, rcond=-1)[0]))"
   ]
  },
  {
   "cell_type": "code",
   "execution_count": null,
   "outputs": [],
   "source": [],
   "metadata": {
    "collapsed": false
   },
   "id": "ff458f4ee72301cd"
  }
 ],
 "metadata": {
  "kernelspec": {
   "display_name": "Python 3 (ipykernel)",
   "language": "python",
   "name": "python3"
  },
  "language_info": {
   "codemirror_mode": {
    "name": "ipython",
    "version": 3
   },
   "file_extension": ".py",
   "mimetype": "text/x-python",
   "name": "python",
   "nbconvert_exporter": "python",
   "pygments_lexer": "ipython3",
   "version": "3.11.4"
  }
 },
 "nbformat": 4,
 "nbformat_minor": 5
}
