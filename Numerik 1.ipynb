{
 "cells": [
  {
   "cell_type": "markdown",
   "source": [
    "### Übungsblatt 1 ###\n",
    "- Tim\n",
    "- Karla\n",
    "- Marcel\n",
    "- Lennox\n",
    "$$ \\frac{1}{2}$$"
   ],
   "metadata": {
    "collapsed": false
   },
   "id": "aa9d36c90307b4d7"
  },
  {
   "cell_type": "code",
   "execution_count": 2,
   "outputs": [
    {
     "name": "stdout",
     "output_type": "stream",
     "text": [
      "Hello World\n"
     ]
    }
   ],
   "source": [
    "print(\"Hello World\") #prints hello world"
   ],
   "metadata": {
    "collapsed": false,
    "ExecuteTime": {
     "end_time": "2023-10-13T12:59:42.323964Z",
     "start_time": "2023-10-13T12:59:42.316344Z"
    }
   },
   "id": "b31b383ba4e6a24a"
  },
  {
   "cell_type": "code",
   "execution_count": 2,
   "outputs": [
    {
     "name": "stdout",
     "output_type": "stream",
     "text": [
      "d:\n",
      "[1 2 3]\n",
      "e:\n",
      "[[1]\n",
      " [2]\n",
      " [3]\n",
      " [4]]\n",
      "f:\n",
      "[[0. 0. 0.]\n",
      " [0. 0. 0.]\n",
      " [0. 0. 0.]]\n",
      "g:\n",
      "[0 0 0]\n",
      "h:\n",
      "[1 1 1 1]\n",
      "i:\n",
      "[[0 1 0 1]\n",
      " [0 0 1 0]\n",
      " [0 1 0 0]\n",
      " [1 1 1 1]]\n"
     ]
    }
   ],
   "source": [
    "import numpy as np\n",
    "# d)\n",
    "d = np.array([1,2,3])\n",
    "print(\"d:\")\n",
    "print(d)\n",
    "# e)\n",
    "e = np.array([[1],[2],[3],[4]])\n",
    "print(\"e:\")\n",
    "print(e)\n",
    "\n",
    "# f)\n",
    "print(\"f:\")\n",
    "f = np.zeros((3,3))\n",
    "print(f)\n",
    "# g)\n",
    "print(\"g:\")\n",
    "g = np.random.randint(0, 2, (4, 3))\n",
    "print(g[2])\n",
    "# h)\n",
    "print(\"h:\")\n",
    "h = np.random.randint(0, 2, (4, 4))\n",
    "print(h[:,-1])\n",
    "#i)\n",
    "print(\"i:\")\n",
    "i = np.transpose(h)\n",
    "print(i)\n",
    "\n"
   ],
   "metadata": {
    "collapsed": false,
    "ExecuteTime": {
     "end_time": "2023-10-14T12:37:34.561512Z",
     "start_time": "2023-10-14T12:37:34.473013Z"
    }
   },
   "id": "f5c3de9abf87712e"
  },
  {
   "cell_type": "code",
   "execution_count": 37,
   "outputs": [
    {
     "name": "stdout",
     "output_type": "stream",
     "text": [
      "j:\n",
      "[[0. 2. 1.]\n",
      " [1. 1. 2.]\n",
      " [1. 0. 1.]]\n",
      "now in less ugly and more efficient:\n",
      "[[0 2 1]\n",
      " [1 1 2]\n",
      " [1 0 1]]\n",
      "k:\n",
      "h_stack:\n",
      "[[0 1 1 1 0 1]\n",
      " [1 0 1 0 1 0]\n",
      " [1 0 0 0 1 1]]\n",
      "v_stack:\n",
      "[[0 1 1]\n",
      " [1 0 1]\n",
      " [1 0 0]\n",
      " [1 0 1]\n",
      " [0 1 0]\n",
      " [0 1 1]]\n",
      "l:\n",
      "(3, 3)\n"
     ]
    }
   ],
   "source": [
    "#j)\n",
    "print(\"j:\")\n",
    "j_0 = np.random.randint(0, 2, (3, 3))\n",
    "j_1 = np.random.randint(0,2,(3,3))\n",
    "new_matrix = np.empty((3,3))\n",
    "for i in range(3):\n",
    "    for j in range(3):\n",
    "        temp_sum = 0\n",
    "        for k in range(3):\n",
    "            temp_sum += j_0[i, k] * j_1[k, j]\n",
    "        new_matrix[i, j] = temp_sum\n",
    "print(new_matrix)\n",
    "\n",
    "print(\"now with numpy dot:\")\n",
    "print(np.dot(j_0, j_1)) \n",
    "#k)\n",
    "print(\"k:\")\n",
    "h_stack = np.hstack((j_0, j_1))\n",
    "v_stack = np.vstack((j_0, j_1))\n",
    "print(\"h_stack:\")\n",
    "print (h_stack)\n",
    "print(\"v_stack:\")\n",
    "print (v_stack)\n",
    "\n",
    "#l)\n",
    "print(\"l:\")\n",
    "print(j_0.shape)\n",
    "\n"
   ],
   "metadata": {
    "collapsed": false,
    "ExecuteTime": {
     "end_time": "2023-10-13T15:15:01.245192Z",
     "start_time": "2023-10-13T15:15:01.242529Z"
    }
   },
   "id": "342c599b81214d70"
  },
  {
   "cell_type": "code",
   "execution_count": 41,
   "outputs": [
    {
     "name": "stdout",
     "output_type": "stream",
     "text": [
      "m:\n",
      "original 8x7 shape:\n",
      "[[1 1 1 1 0 0 0]\n",
      " [0 1 1 1 1 1 1]\n",
      " [0 0 0 1 1 0 1]\n",
      " [0 0 1 1 0 0 0]\n",
      " [0 0 1 0 1 1 0]\n",
      " [0 1 0 1 0 0 0]\n",
      " [1 0 0 0 0 1 0]\n",
      " [0 0 1 0 1 0 0]]\n",
      "reshaped to 14x4:\n",
      "[[1 1 1 1]\n",
      " [0 0 0 0]\n",
      " [1 1 1 1]\n",
      " [1 1 0 0]\n",
      " [0 1 1 0]\n",
      " [1 0 0 1]\n",
      " [1 0 0 0]\n",
      " [0 0 1 0]\n",
      " [1 1 0 0]\n",
      " [1 0 1 0]\n",
      " [0 0 1 0]\n",
      " [0 0 0 1]\n",
      " [0 0 0 1]\n",
      " [0 1 0 0]]\n"
     ]
    }
   ],
   "source": [
    "#m)\n",
    "print(\"m:\")\n",
    "m = np.random.randint(0, 2, (8, 7))\n",
    "print(\"original 8x7 shape:\" )\n",
    "print(m)\n",
    "print(\"reshaped to 14x4:\")\n",
    "print(m.reshape(14,4))"
   ],
   "metadata": {
    "collapsed": false,
    "ExecuteTime": {
     "end_time": "2023-10-13T15:25:32.412313Z",
     "start_time": "2023-10-13T15:25:32.408674Z"
    }
   },
   "id": "ef5d8d650269b7b4"
  },
  {
   "cell_type": "code",
   "execution_count": 45,
   "outputs": [
    {
     "name": "stdout",
     "output_type": "stream",
     "text": [
      "n:\n",
      "n:\n",
      "[[1]\n",
      " [1]\n",
      " [1]]\n",
      "n tiled 10000 times:\n",
      "[[1 1 1 ... 1 1 1]\n",
      " [1 1 1 ... 1 1 1]\n",
      " [1 1 1 ... 1 1 1]]\n"
     ]
    }
   ],
   "source": [
    "#n)\n",
    "print(\"n:\")\n",
    "n = np.random.randint(0, 2, (3, 1))\n",
    "print(\"n:\")\n",
    "print(n)\n",
    "print(\"n tiled 10000 times:\")\n",
    "print(np.tile(n, (1, 10000)))\n",
    "\n",
    "#o)\n",
    "print(\"o:\")\n"
   ],
   "metadata": {
    "collapsed": false,
    "ExecuteTime": {
     "end_time": "2023-10-13T15:38:07.351295Z",
     "start_time": "2023-10-13T15:38:07.347361Z"
    }
   },
   "id": "395e91a913910730"
  },
  {
   "cell_type": "code",
   "execution_count": 3,
   "outputs": [
    {
     "name": "stdout",
     "output_type": "stream",
     "text": [
      "Modified Matrix:\n",
      "[[1 0 3]\n",
      " [0 5 0]\n",
      " [7 0 9]]\n"
     ]
    }
   ],
   "source": [
    "#o)\n",
    "matrix = np.array([[ 1, -2,  3],\n",
    "                   [-4,  5, -6],\n",
    "                   [ 7, -8,  9]])\n",
    "\n",
    "negative_mask = matrix < 0\n",
    "\n",
    "matrix[negative_mask] = 0\n",
    "print(\"o:\")\n",
    "print(\"Modified Matrix:\")\n",
    "print(matrix)"
   ],
   "metadata": {
    "collapsed": false,
    "ExecuteTime": {
     "end_time": "2023-10-14T12:37:36.651689Z",
     "start_time": "2023-10-14T12:37:36.648589Z"
    }
   },
   "id": "e59f74cb58e5426f"
  },
  {
   "cell_type": "code",
   "execution_count": 14,
   "outputs": [
    {
     "name": "stdout",
     "output_type": "stream",
     "text": [
      "p:\n",
      "[ 1  8 15 22 29 36 43 50 57 64 71 78 85 92 99]\n",
      "q:\n",
      "[ 1  0  3  0  5  0  7  0  9  0 11  0 13  0 15  0 17  0 19  0 21  0 23  0\n",
      " 25  0 27  0 29  0 31  0 33  0 35  0 37  0 39  0 41  0 43  0 45  0 47  0\n",
      " 49  0 51  0 53  0 55  0 57  0 59  0 61  0 63  0 65  0 67  0 69  0 71  0\n",
      " 73  0 75  0 77  0 79  0 81  0 83  0 85  0 87  0 89  0 91  0 93  0 95  0\n",
      " 97  0 99  0]\n",
      "r:\n",
      "[ 1  3  5  7  9 11 13 15 17 19 21 23 25 27 29 31 33 35 37 39 41 43 45 47\n",
      " 49 51 53 55 57 59 61 63 65 67 69 71 73 75 77 79 81 83 85 87 89 91 93 95\n",
      " 97 99]\n"
     ]
    }
   ],
   "source": [
    "#p)\n",
    "print(\"p:\")\n",
    "p = np.arange(1,101,7)\n",
    "print(p)\n",
    "#q)\n",
    "print(\"q:\")\n",
    "q = np.arange(1,101)\n",
    "q[1::2] = 0\n",
    "print(q)\n",
    "#r)\n",
    "print(\"r:\")\n",
    "r = np.delete(np.arange(1,101), np.s_[1::2])\n",
    "print(r)"
   ],
   "metadata": {
    "collapsed": false,
    "ExecuteTime": {
     "end_time": "2023-10-14T12:45:18.382104Z",
     "start_time": "2023-10-14T12:45:18.377827Z"
    }
   },
   "id": "9887984ed32246c2"
  },
  {
   "cell_type": "code",
   "execution_count": 19,
   "outputs": [
    {
     "name": "stdout",
     "output_type": "stream",
     "text": [
      "s:\n",
      "[[1. 0. 0.]\n",
      " [0. 1. 0.]\n",
      " [0. 0. 1.]]\n",
      "t:\n",
      "[[0 0 0 0 0]\n",
      " [0 0 0 0 0]\n",
      " [0 1 1 1 1]\n",
      " [1 0 0 1 0]\n",
      " [0 0 0 0 1]]\n",
      "diagonal:\n",
      "[0 0 1 1 1]\n"
     ]
    }
   ],
   "source": [
    "#s)\n",
    "print(\"s:\")\n",
    "print(np.identity(3))\n",
    "#t)\n",
    "print(\"t:\")\n",
    "t = np.random.randint(0,2,(5,5))\n",
    "print(t)\n",
    "print(\"diagonal:\")\n",
    "print(np.diag(t))\n",
    "\n"
   ],
   "metadata": {
    "collapsed": false,
    "ExecuteTime": {
     "end_time": "2023-10-14T12:52:04.928828Z",
     "start_time": "2023-10-14T12:52:04.925943Z"
    }
   },
   "id": "8e2bca257b6a91e8"
  },
  {
   "cell_type": "markdown",
   "source": [
    "### Aufgabe 3 ###"
   ],
   "metadata": {
    "collapsed": false
   },
   "id": "759a2f3737b2700d"
  },
  {
   "cell_type": "code",
   "execution_count": 27,
   "outputs": [],
   "source": [
    "\n",
    "#a)\n",
    "# Erzeuge die ersten und zweiten Matrizen mit Zufallszahlen\n",
    "matrix1 = np.random.rand(1000, 3)\n",
    "matrix2 = np.random.rand(1000, 3)\n",
    "\n",
    "# Erstelle eine leere Matrix für die Skalarprodukte\n",
    "scalar_products = np.zeros((1000, 1000))\n"
   ],
   "metadata": {
    "collapsed": false,
    "ExecuteTime": {
     "end_time": "2023-10-14T13:04:24.973530Z",
     "start_time": "2023-10-14T13:04:24.968445Z"
    }
   },
   "id": "e63de50c9f5a9798"
  },
  {
   "cell_type": "code",
   "execution_count": 29,
   "outputs": [
    {
     "name": "stdout",
     "output_type": "stream",
     "text": [
      "523 ms ± 3.75 ms per loop (mean ± std. dev. of 7 runs, 1 loop each)\n"
     ]
    }
   ],
   "source": [
    "%%timeit\n",
    "for i, row1 in enumerate(matrix1):\n",
    "    for j, row2 in enumerate(matrix2):\n",
    "        scalar_products[i, j] = np.dot(row1, row2)\n"
   ],
   "metadata": {
    "collapsed": false,
    "ExecuteTime": {
     "end_time": "2023-10-14T13:04:52.031042Z",
     "start_time": "2023-10-14T13:04:47.753255Z"
    }
   },
   "id": "f8b4d3c4e11117e1"
  },
  {
   "cell_type": "code",
   "execution_count": 30,
   "outputs": [
    {
     "name": "stdout",
     "output_type": "stream",
     "text": [
      "3.72 ms ± 87.2 µs per loop (mean ± std. dev. of 7 runs, 100 loops each)\n"
     ]
    }
   ],
   "source": [
    "%%timeit\n",
    "scalar_products = np.einsum('ij,kj->ik', matrix1, matrix2)"
   ],
   "metadata": {
    "collapsed": false,
    "ExecuteTime": {
     "end_time": "2023-10-14T13:05:20.829577Z",
     "start_time": "2023-10-14T13:05:17.625475Z"
    }
   },
   "id": "5b28039d772bf0fd"
  },
  {
   "cell_type": "markdown",
   "source": [
    "### Unterschiede ###\n",
    "Es war so ca Faktor 100 schneller numpy zu nehmen. Und das obwohl ich noch np.dot genutzt hatte es ist also deutlich effizienter numpy zu nutzen.\n"
   ],
   "metadata": {
    "collapsed": false
   },
   "id": "792d07584c7a1609"
  },
  {
   "cell_type": "code",
   "execution_count": null,
   "outputs": [],
   "source": [
    "#s\n",
    "matrizen = np.random.rand(1000, 4)\n",
    "determinant = matrizen[:,0] * matrizen[:,3] - matrizen[:,1] * matrizen[:,2]\n",
    "invertierbar = np.where(determinant != 0)\n",
    "\n"
   ],
   "metadata": {
    "collapsed": false
   },
   "id": "be540984b5b245da"
  }
 ],
 "metadata": {
  "kernelspec": {
   "display_name": "Python 3",
   "language": "python",
   "name": "python3"
  },
  "language_info": {
   "codemirror_mode": {
    "name": "ipython",
    "version": 2
   },
   "file_extension": ".py",
   "mimetype": "text/x-python",
   "name": "python",
   "nbconvert_exporter": "python",
   "pygments_lexer": "ipython2",
   "version": "2.7.6"
  }
 },
 "nbformat": 4,
 "nbformat_minor": 5
}
