{
 "cells": [
  {
   "cell_type": "markdown",
   "source": [
    "### Übungsblatt 1 ###\n",
    "- Tim\n",
    "$$ \\frac{1}{2}$$"
   ],
   "metadata": {
    "collapsed": false
   },
   "id": "aa9d36c90307b4d7"
  },
  {
   "cell_type": "code",
   "execution_count": 1,
   "outputs": [
    {
     "name": "stdout",
     "output_type": "stream",
     "text": [
      "Hello World\n"
     ]
    }
   ],
   "source": [
    "print(\"Hello World\") #prints hello world"
   ],
   "metadata": {
    "collapsed": false,
    "ExecuteTime": {
     "end_time": "2023-10-18T13:51:27.789652Z",
     "start_time": "2023-10-18T13:51:27.747941Z"
    }
   },
   "id": "b31b383ba4e6a24a"
  },
  {
   "cell_type": "code",
   "execution_count": 2,
   "outputs": [
    {
     "name": "stdout",
     "output_type": "stream",
     "text": [
      "d:\n",
      "[1 2 3]\n",
      "e:\n",
      "[[1]\n",
      " [2]\n",
      " [3]\n",
      " [4]]\n",
      "f:\n",
      "[[0. 0. 0.]\n",
      " [0. 0. 0.]\n",
      " [0. 0. 0.]]\n",
      "g:\n",
      "[1 1 1]\n",
      "h:\n",
      "[1 1 0 0]\n",
      "i:\n",
      "[[0 0 1 1]\n",
      " [1 0 0 1]\n",
      " [1 0 1 0]\n",
      " [1 1 0 0]]\n"
     ]
    }
   ],
   "source": [
    "import numpy as np\n",
    "# d)\n",
    "d = np.array([1,2,3])\n",
    "print(\"d:\")\n",
    "print(d)\n",
    "# e)\n",
    "e = np.array([[1],[2],[3],[4]])\n",
    "print(\"e:\")\n",
    "print(e)\n",
    "\n",
    "# f)\n",
    "print(\"f:\")\n",
    "f = np.zeros((3,3))\n",
    "print(f)\n",
    "# g)\n",
    "print(\"g:\")\n",
    "g = np.random.randint(0, 2, (4, 3))\n",
    "print(g[2])\n",
    "# h)\n",
    "print(\"h:\")\n",
    "h = np.random.randint(0, 2, (4, 4))\n",
    "print(h[:,-1])\n",
    "#i)\n",
    "print(\"i:\")\n",
    "i = np.transpose(h)\n",
    "print(i)\n",
    "\n"
   ],
   "metadata": {
    "collapsed": false,
    "ExecuteTime": {
     "end_time": "2023-10-23T06:24:16.663027Z",
     "start_time": "2023-10-23T06:24:16.504818Z"
    }
   },
   "id": "f5c3de9abf87712e"
  },
  {
   "cell_type": "code",
   "execution_count": 3,
   "outputs": [
    {
     "name": "stdout",
     "output_type": "stream",
     "text": [
      "j:\n",
      "[[0. 0. 0.]\n",
      " [0. 1. 0.]\n",
      " [1. 2. 1.]]\n",
      "now with numpy dot:\n",
      "[[0 0 0]\n",
      " [0 1 0]\n",
      " [1 2 1]]\n",
      "k:\n",
      "h_stack:\n",
      "[[0 0 0 1 1 0]\n",
      " [0 0 1 1 1 1]\n",
      " [0 1 1 0 1 0]]\n",
      "v_stack:\n",
      "[[0 0 0]\n",
      " [0 0 1]\n",
      " [0 1 1]\n",
      " [1 1 0]\n",
      " [1 1 1]\n",
      " [0 1 0]]\n",
      "l:\n",
      "(3, 3)\n"
     ]
    }
   ],
   "source": [
    "#j)\n",
    "print(\"j:\")\n",
    "j_0 = np.random.randint(0, 2, (3, 3))\n",
    "j_1 = np.random.randint(0,2,(3,3))\n",
    "new_matrix = np.empty((3,3))\n",
    "for i in range(3):\n",
    "    for j in range(3):\n",
    "        temp_sum = 0\n",
    "        for k in range(3):\n",
    "            temp_sum += j_0[i, k] * j_1[k, j]\n",
    "        new_matrix[i, j] = temp_sum\n",
    "print(new_matrix)\n",
    "\n",
    "print(\"now with numpy dot:\")\n",
    "print(np.dot(j_0, j_1)) \n",
    "#k)\n",
    "print(\"k:\")\n",
    "h_stack = np.hstack((j_0, j_1))\n",
    "v_stack = np.vstack((j_0, j_1))\n",
    "print(\"h_stack:\")\n",
    "print (h_stack)\n",
    "print(\"v_stack:\")\n",
    "print (v_stack)\n",
    "\n",
    "#l)\n",
    "print(\"l:\")\n",
    "print(j_0.shape)\n",
    "\n"
   ],
   "metadata": {
    "collapsed": false,
    "ExecuteTime": {
     "end_time": "2023-10-18T13:51:27.906133Z",
     "start_time": "2023-10-18T13:51:27.823447Z"
    }
   },
   "id": "342c599b81214d70"
  },
  {
   "cell_type": "code",
   "execution_count": 4,
   "outputs": [
    {
     "name": "stdout",
     "output_type": "stream",
     "text": [
      "m:\n",
      "original 8x7 shape:\n",
      "[[0 1 0 1 0 0 1]\n",
      " [0 0 1 0 0 1 1]\n",
      " [0 1 0 1 0 1 0]\n",
      " [1 1 0 0 1 1 0]\n",
      " [1 1 1 0 0 1 1]\n",
      " [0 0 0 1 1 0 0]\n",
      " [0 1 0 0 0 1 1]\n",
      " [1 0 0 0 0 0 1]]\n",
      "reshaped to 14x4:\n",
      "[[0 1 0 1]\n",
      " [0 0 1 0]\n",
      " [0 1 0 0]\n",
      " [1 1 0 1]\n",
      " [0 1 0 1]\n",
      " [0 1 1 0]\n",
      " [0 1 1 0]\n",
      " [1 1 1 0]\n",
      " [0 1 1 0]\n",
      " [0 0 1 1]\n",
      " [0 0 0 1]\n",
      " [0 0 0 1]\n",
      " [1 1 0 0]\n",
      " [0 0 0 1]]\n"
     ]
    }
   ],
   "source": [
    "#m)\n",
    "print(\"m:\")\n",
    "m = np.random.randint(0, 2, (8, 7))\n",
    "print(\"original 8x7 shape:\" )\n",
    "print(m)\n",
    "print(\"reshaped to 14x4:\")\n",
    "print(m.reshape(14,4))"
   ],
   "metadata": {
    "collapsed": false,
    "ExecuteTime": {
     "end_time": "2023-10-18T13:51:27.907115Z",
     "start_time": "2023-10-18T13:51:27.829638Z"
    }
   },
   "id": "ef5d8d650269b7b4"
  },
  {
   "cell_type": "code",
   "execution_count": 5,
   "outputs": [
    {
     "name": "stdout",
     "output_type": "stream",
     "text": [
      "n:\n",
      "n:\n",
      "[[0]\n",
      " [0]\n",
      " [1]]\n",
      "n tiled 10000 times:\n",
      "[[0 0 0 ... 0 0 0]\n",
      " [0 0 0 ... 0 0 0]\n",
      " [1 1 1 ... 1 1 1]]\n",
      "o:\n"
     ]
    }
   ],
   "source": [
    "#n)\n",
    "print(\"n:\")\n",
    "n = np.random.randint(0, 2, (3, 1))\n",
    "print(\"n:\")\n",
    "print(n)\n",
    "print(\"n tiled 10000 times:\")\n",
    "print(np.tile(n, (1, 10000)))\n",
    "\n",
    "#o)\n",
    "print(\"o:\")\n"
   ],
   "metadata": {
    "collapsed": false,
    "ExecuteTime": {
     "end_time": "2023-10-18T13:51:27.908329Z",
     "start_time": "2023-10-18T13:51:27.838348Z"
    }
   },
   "id": "395e91a913910730"
  },
  {
   "cell_type": "code",
   "execution_count": 6,
   "outputs": [
    {
     "name": "stdout",
     "output_type": "stream",
     "text": [
      "o:\n",
      "Modified Matrix:\n",
      "[[1 0 3]\n",
      " [0 5 0]\n",
      " [7 0 9]]\n"
     ]
    }
   ],
   "source": [
    "#o)\n",
    "matrix = np.array([[ 1, -2,  3],\n",
    "                   [-4,  5, -6],\n",
    "                   [ 7, -8,  9]])\n",
    "\n",
    "negative_mask = matrix < 0\n",
    "\n",
    "matrix[negative_mask] = 0\n",
    "print(\"o:\")\n",
    "print(\"Modified Matrix:\")\n",
    "print(matrix)"
   ],
   "metadata": {
    "collapsed": false,
    "ExecuteTime": {
     "end_time": "2023-10-18T13:51:27.908813Z",
     "start_time": "2023-10-18T13:51:27.842601Z"
    }
   },
   "id": "e59f74cb58e5426f"
  },
  {
   "cell_type": "code",
   "execution_count": 7,
   "outputs": [
    {
     "name": "stdout",
     "output_type": "stream",
     "text": [
      "p:\n",
      "[ 1  8 15 22 29 36 43 50 57 64 71 78 85 92 99]\n",
      "q:\n",
      "[ 1  0  3  0  5  0  7  0  9  0 11  0 13  0 15  0 17  0 19  0 21  0 23  0\n",
      " 25  0 27  0 29  0 31  0 33  0 35  0 37  0 39  0 41  0 43  0 45  0 47  0\n",
      " 49  0 51  0 53  0 55  0 57  0 59  0 61  0 63  0 65  0 67  0 69  0 71  0\n",
      " 73  0 75  0 77  0 79  0 81  0 83  0 85  0 87  0 89  0 91  0 93  0 95  0\n",
      " 97  0 99  0]\n",
      "r:\n",
      "[ 1  3  5  7  9 11 13 15 17 19 21 23 25 27 29 31 33 35 37 39 41 43 45 47\n",
      " 49 51 53 55 57 59 61 63 65 67 69 71 73 75 77 79 81 83 85 87 89 91 93 95\n",
      " 97 99]\n"
     ]
    }
   ],
   "source": [
    "#p)\n",
    "print(\"p:\")\n",
    "p = np.arange(1,101,7)\n",
    "print(p)\n",
    "#q)\n",
    "print(\"q:\")\n",
    "q = np.arange(1,101)\n",
    "q[1::2] = 0\n",
    "print(q)\n",
    "#r)\n",
    "print(\"r:\")\n",
    "r = np.delete(np.arange(1,101), np.s_[1::2])\n",
    "print(r)"
   ],
   "metadata": {
    "collapsed": false,
    "ExecuteTime": {
     "end_time": "2023-10-18T13:51:27.909250Z",
     "start_time": "2023-10-18T13:51:27.848231Z"
    }
   },
   "id": "9887984ed32246c2"
  },
  {
   "cell_type": "code",
   "execution_count": 8,
   "outputs": [
    {
     "name": "stdout",
     "output_type": "stream",
     "text": [
      "s:\n",
      "[[1. 0. 0.]\n",
      " [0. 1. 0.]\n",
      " [0. 0. 1.]]\n",
      "t:\n",
      "[[1 0 0 0 1]\n",
      " [1 1 1 0 0]\n",
      " [1 0 0 1 1]\n",
      " [1 0 1 0 1]\n",
      " [1 1 0 0 1]]\n",
      "diagonal:\n",
      "[1 1 0 0 1]\n"
     ]
    }
   ],
   "source": [
    "#s)\n",
    "print(\"s:\")\n",
    "print(np.identity(3))\n",
    "#t)\n",
    "print(\"t:\")\n",
    "t = np.random.randint(0,2,(5,5))\n",
    "print(t)\n",
    "print(\"diagonal:\")\n",
    "print(np.diag(t))\n",
    "\n"
   ],
   "metadata": {
    "collapsed": false,
    "ExecuteTime": {
     "end_time": "2023-10-18T13:51:27.909666Z",
     "start_time": "2023-10-18T13:51:27.854358Z"
    }
   },
   "id": "8e2bca257b6a91e8"
  },
  {
   "cell_type": "markdown",
   "source": [
    "### Aufgabe 3 ###"
   ],
   "metadata": {
    "collapsed": false
   },
   "id": "759a2f3737b2700d"
  },
  {
   "cell_type": "code",
   "execution_count": 9,
   "outputs": [],
   "source": [
    "\n",
    "#a)\n",
    "# Erzeuge die ersten und zweiten Matrizen mit Zufallszahlen\n",
    "matrix1 = np.random.rand(1000, 3)\n",
    "matrix2 = np.random.rand(1000, 3)\n",
    "\n",
    "# Erstelle eine leere Matrix für die Skalarprodukte\n",
    "scalar_products = np.zeros((1000, 1000))\n"
   ],
   "metadata": {
    "collapsed": false,
    "ExecuteTime": {
     "end_time": "2023-10-18T13:51:27.918302Z",
     "start_time": "2023-10-18T13:51:27.860875Z"
    }
   },
   "id": "e63de50c9f5a9798"
  },
  {
   "cell_type": "code",
   "execution_count": 10,
   "outputs": [
    {
     "name": "stdout",
     "output_type": "stream",
     "text": [
      "520 ms ± 1.51 ms per loop (mean ± std. dev. of 7 runs, 1 loop each)\n"
     ]
    }
   ],
   "source": [
    "%%timeit\n",
    "for i, row1 in enumerate(matrix1):\n",
    "    for j, row2 in enumerate(matrix2):\n",
    "        scalar_products[i, j] = np.dot(row1, row2)\n"
   ],
   "metadata": {
    "collapsed": false,
    "ExecuteTime": {
     "end_time": "2023-10-18T13:51:32.119816Z",
     "start_time": "2023-10-18T13:51:27.870109Z"
    }
   },
   "id": "f8b4d3c4e11117e1"
  },
  {
   "cell_type": "code",
   "execution_count": 11,
   "outputs": [
    {
     "name": "stdout",
     "output_type": "stream",
     "text": [
      "3.67 ms ± 55.3 µs per loop (mean ± std. dev. of 7 runs, 100 loops each)\n"
     ]
    }
   ],
   "source": [
    "%%timeit\n",
    "scalar_products = np.einsum('ij,kj->ik', matrix1, matrix2)"
   ],
   "metadata": {
    "collapsed": false,
    "ExecuteTime": {
     "end_time": "2023-10-18T13:51:35.114871Z",
     "start_time": "2023-10-18T13:51:32.119165Z"
    }
   },
   "id": "5b28039d772bf0fd"
  },
  {
   "cell_type": "markdown",
   "source": [
    "### Unterschiede ###\n",
    "Es war so ca Faktor 100 schneller numpy zu nehmen. Und das obwohl ich noch np.dot genutzt hatte es ist also deutlich effizienter numpy zu nutzen.\n"
   ],
   "metadata": {
    "collapsed": false
   },
   "id": "792d07584c7a1609"
  },
  {
   "cell_type": "code",
   "execution_count": 12,
   "outputs": [
    {
     "name": "stdout",
     "output_type": "stream",
     "text": [
      "[[-1.59745805  1.52235699  3.86886852 -1.01143289]\n",
      " [ 2.79246307 -6.28665214 -0.60041271  4.38297002]\n",
      " [-2.32757807  3.3130615   3.69393549 -3.4868322 ]\n",
      " ...\n",
      " [ 9.3387437  -8.42191809 -0.47201205  1.84925731]\n",
      " [-0.59402621  3.81963281  2.56725809 -5.10633704]\n",
      " [-4.54845917  4.24569759  2.31212325 -0.51464951]]\n"
     ]
    }
   ],
   "source": [
    "#b\n",
    "matrizen = np.random.rand(1000, 4)\n",
    "determinant = matrizen[:,0] * matrizen[:,3] - matrizen[:,1] * matrizen[:,2]\n",
    "temp = np.copy(matrizen[:,0])\n",
    "matrizen[:,0] = matrizen[:,3]\n",
    "matrizen[:,3] = temp\n",
    "matrizen[:,1] = -matrizen[:,1]\n",
    "matrizen[:,2] = -matrizen[:,2]\n",
    "matrizen = 1/determinant[:,None] * matrizen\n",
    "print(matrizen)\n",
    "\n"
   ],
   "metadata": {
    "collapsed": false,
    "ExecuteTime": {
     "end_time": "2023-10-18T13:51:35.119513Z",
     "start_time": "2023-10-18T13:51:35.115466Z"
    }
   },
   "id": "be540984b5b245da"
  },
  {
   "cell_type": "markdown",
   "source": [
    "### Aufgabe 4 ###\n"
   ],
   "metadata": {
    "collapsed": false
   },
   "id": "7246df4953501018"
  },
  {
   "cell_type": "code",
   "execution_count": 6,
   "outputs": [
    {
     "data": {
      "text/plain": "[<matplotlib.lines.Line2D at 0x117155db0>]"
     },
     "execution_count": 6,
     "metadata": {},
     "output_type": "execute_result"
    },
    {
     "data": {
      "text/plain": "<Figure size 640x480 with 1 Axes>",
      "image/png": "[encoded data removed]"
     },
     "metadata": {},
     "output_type": "display_data"
    }
   ],
   "source": [
    "#a)\n",
    "import matplotlib.pyplot as plt\n",
    "rng = np.random.default_rng()\n",
    "x = np.linspace(0,10,20)\n",
    "y = 2 * x\n",
    "noise = rng.normal(0, 1, 20)\n",
    "y += noise\n",
    "pol = np.polynomial.Polynomial.fit(x, y, 1)\n",
    "px, py = pol.linspace()\n",
    "plt.scatter(x,y)\n",
    "plt.plot(px, py,color=\"green\")\n",
    "\n"
   ],
   "metadata": {
    "collapsed": false,
    "ExecuteTime": {
     "end_time": "2023-10-23T06:24:42.208093Z",
     "start_time": "2023-10-23T06:24:42.115103Z"
    }
   },
   "id": "8b78009da8eb777c"
  },
  {
   "cell_type": "code",
   "execution_count": 5,
   "outputs": [
    {
     "data": {
      "text/plain": "[<matplotlib.lines.Line2D at 0x1170c4a90>]"
     },
     "execution_count": 5,
     "metadata": {},
     "output_type": "execute_result"
    },
    {
     "data": {
      "text/plain": "<Figure size 640x480 with 1 Axes>",
      "image/png": "[encoded data removed]"
     },
     "metadata": {},
     "output_type": "display_data"
    }
   ],
   "source": [
    "#b)\n",
    "rng = np.random.default_rng()\n",
    "x = np.linspace(-10,10,20)\n",
    "y = x**2\n",
    "noise = rng.normal(0, 20,20)\n",
    "y += noise\n",
    "pol = np.polynomial.Polynomial.fit(x, y, 2)\n",
    "p1,p2 = pol.linspace()\n",
    "plt.scatter(x,y)\n",
    "plt.plot(p1,p2,color=\"red\")\n"
   ],
   "metadata": {
    "collapsed": false,
    "ExecuteTime": {
     "end_time": "2023-10-23T06:24:26.524358Z",
     "start_time": "2023-10-23T06:24:26.452481Z"
    }
   },
   "id": "17bcd16f3f6a6be0"
  },
  {
   "cell_type": "code",
   "execution_count": 14,
   "outputs": [],
   "source": [],
   "metadata": {
    "collapsed": false,
    "ExecuteTime": {
     "end_time": "2023-10-18T13:51:35.553344Z",
     "start_time": "2023-10-18T13:51:35.549447Z"
    }
   },
   "id": "af2bae5dd48ed6a3"
  }
 ],
 "metadata": {
  "kernelspec": {
   "display_name": "Python 3",
   "language": "python",
   "name": "python3"
  },
  "language_info": {
   "codemirror_mode": {
    "name": "ipython",
    "version": 2
   },
   "file_extension": ".py",
   "mimetype": "text/x-python",
   "name": "python",
   "nbconvert_exporter": "python",
   "pygments_lexer": "ipython2",
   "version": "2.7.6"
  }
 },
 "nbformat": 4,
 "nbformat_minor": 5
}
