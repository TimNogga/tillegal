{
 "cells": [
  {
   "cell_type": "markdown",
   "source": [
    "### Übungsblatt 1 ###\n",
    "- Tim\n",
    "- Karla\n",
    "- Marcel\n",
    "- Lennox\n",
    "$$ \\frac{1}{2}$$"
   ],
   "metadata": {
    "collapsed": false
   },
   "id": "aa9d36c90307b4d7"
  },
  {
   "cell_type": "code",
   "execution_count": 2,
   "outputs": [
    {
     "name": "stdout",
     "output_type": "stream",
     "text": [
      "Hello World\n"
     ]
    }
   ],
   "source": [
    "print(\"Hello World\") #prints hello world"
   ],
   "metadata": {
    "collapsed": false,
    "ExecuteTime": {
     "end_time": "2023-10-13T12:59:42.323964Z",
     "start_time": "2023-10-13T12:59:42.316344Z"
    }
   },
   "id": "b31b383ba4e6a24a"
  },
  {
   "cell_type": "code",
   "execution_count": 32,
   "outputs": [
    {
     "name": "stdout",
     "output_type": "stream",
     "text": [
      "d:\n",
      "[1 2 3]\n",
      "e:\n",
      "[[1]\n",
      " [2]\n",
      " [3]\n",
      " [4]]\n",
      "f:\n",
      "[[0. 0. 0.]\n",
      " [0. 0. 0.]\n",
      " [0. 0. 0.]]\n",
      "g:\n",
      "[1 0 0]\n",
      "h:\n",
      "[0 1 0 0]\n",
      "i:\n",
      "[[1 1 1 0]\n",
      " [1 0 0 0]\n",
      " [1 0 0 1]\n",
      " [0 1 0 0]]\n"
     ]
    }
   ],
   "source": [
    "import numpy as np\n",
    "# d)\n",
    "d = np.array([1,2,3])\n",
    "print(\"d:\")\n",
    "print(d)\n",
    "# e)\n",
    "e = np.array([[1],[2],[3],[4]])\n",
    "print(\"e:\")\n",
    "print(e)\n",
    "\n",
    "# f)\n",
    "print(\"f:\")\n",
    "f = np.zeros((3,3))\n",
    "print(f)\n",
    "# g)\n",
    "print(\"g:\")\n",
    "g = np.random.randint(0, 2, (4, 3))\n",
    "print(g[2])\n",
    "# h)\n",
    "print(\"h:\")\n",
    "h = np.random.randint(0, 2, (4, 4))\n",
    "print(h[:,-1])\n",
    "#i)\n",
    "print(\"i:\")\n",
    "i = np.transpose(h)\n",
    "print(i)\n",
    "\n"
   ],
   "metadata": {
    "collapsed": false,
    "ExecuteTime": {
     "end_time": "2023-10-13T15:09:25.489928Z",
     "start_time": "2023-10-13T15:09:25.488537Z"
    }
   },
   "id": "f5c3de9abf87712e"
  },
  {
   "cell_type": "code",
   "execution_count": 37,
   "outputs": [
    {
     "name": "stdout",
     "output_type": "stream",
     "text": [
      "j:\n",
      "[[0. 2. 1.]\n",
      " [1. 1. 2.]\n",
      " [1. 0. 1.]]\n",
      "now in less ugly and more efficient:\n",
      "[[0 2 1]\n",
      " [1 1 2]\n",
      " [1 0 1]]\n",
      "k:\n",
      "h_stack:\n",
      "[[0 1 1 1 0 1]\n",
      " [1 0 1 0 1 0]\n",
      " [1 0 0 0 1 1]]\n",
      "v_stack:\n",
      "[[0 1 1]\n",
      " [1 0 1]\n",
      " [1 0 0]\n",
      " [1 0 1]\n",
      " [0 1 0]\n",
      " [0 1 1]]\n",
      "l:\n",
      "(3, 3)\n"
     ]
    }
   ],
   "source": [
    "#j)\n",
    "print(\"j:\")\n",
    "j_0 = np.random.randint(0, 2, (3, 3))\n",
    "j_1 = np.random.randint(0,2,(3,3))\n",
    "new_matrix = np.empty((3,3))\n",
    "for i in range(3):\n",
    "    for j in range(3):\n",
    "        temp_sum = 0\n",
    "        for k in range(3):\n",
    "            temp_sum += j_0[i, k] * j_1[k, j]\n",
    "        new_matrix[i, j] = temp_sum\n",
    "print(new_matrix)\n",
    "\n",
    "print(\"now with numpy dot:\")\n",
    "print(np.dot(j_0, j_1)) \n",
    "#k)\n",
    "print(\"k:\")\n",
    "h_stack = np.hstack((j_0, j_1))\n",
    "v_stack = np.vstack((j_0, j_1))\n",
    "print(\"h_stack:\")\n",
    "print (h_stack)\n",
    "print(\"v_stack:\")\n",
    "print (v_stack)\n",
    "\n",
    "#l)\n",
    "print(\"l:\")\n",
    "print(j_0.shape)\n",
    "\n"
   ],
   "metadata": {
    "collapsed": false,
    "ExecuteTime": {
     "end_time": "2023-10-13T15:15:01.245192Z",
     "start_time": "2023-10-13T15:15:01.242529Z"
    }
   },
   "id": "342c599b81214d70"
  },
  {
   "cell_type": "code",
   "execution_count": 41,
   "outputs": [
    {
     "name": "stdout",
     "output_type": "stream",
     "text": [
      "m:\n",
      "original 8x7 shape:\n",
      "[[1 1 1 1 0 0 0]\n",
      " [0 1 1 1 1 1 1]\n",
      " [0 0 0 1 1 0 1]\n",
      " [0 0 1 1 0 0 0]\n",
      " [0 0 1 0 1 1 0]\n",
      " [0 1 0 1 0 0 0]\n",
      " [1 0 0 0 0 1 0]\n",
      " [0 0 1 0 1 0 0]]\n",
      "reshaped to 14x4:\n",
      "[[1 1 1 1]\n",
      " [0 0 0 0]\n",
      " [1 1 1 1]\n",
      " [1 1 0 0]\n",
      " [0 1 1 0]\n",
      " [1 0 0 1]\n",
      " [1 0 0 0]\n",
      " [0 0 1 0]\n",
      " [1 1 0 0]\n",
      " [1 0 1 0]\n",
      " [0 0 1 0]\n",
      " [0 0 0 1]\n",
      " [0 0 0 1]\n",
      " [0 1 0 0]]\n"
     ]
    }
   ],
   "source": [
    "#m)\n",
    "print(\"m:\")\n",
    "m = np.random.randint(0, 2, (8, 7))\n",
    "print(\"original 8x7 shape:\" )\n",
    "print(m)\n",
    "print(\"reshaped to 14x4:\")\n",
    "print(m.reshape(14,4))"
   ],
   "metadata": {
    "collapsed": false,
    "ExecuteTime": {
     "end_time": "2023-10-13T15:25:32.412313Z",
     "start_time": "2023-10-13T15:25:32.408674Z"
    }
   },
   "id": "ef5d8d650269b7b4"
  },
  {
   "cell_type": "code",
   "execution_count": 45,
   "outputs": [
    {
     "name": "stdout",
     "output_type": "stream",
     "text": [
      "n:\n",
      "n:\n",
      "[[1]\n",
      " [1]\n",
      " [1]]\n",
      "n tiled 10000 times:\n",
      "[[1 1 1 ... 1 1 1]\n",
      " [1 1 1 ... 1 1 1]\n",
      " [1 1 1 ... 1 1 1]]\n"
     ]
    }
   ],
   "source": [
    "#n)\n",
    "print(\"n:\")\n",
    "n = np.random.randint(0, 2, (3, 1))\n",
    "print(\"n:\")\n",
    "print(n)\n",
    "print(\"n tiled 10000 times:\")\n",
    "print(np.tile(n, (1, 10000)))\n",
    "\n",
    "#o)\n",
    "print(\"o:\")\n"
   ],
   "metadata": {
    "collapsed": false,
    "ExecuteTime": {
     "end_time": "2023-10-13T15:38:07.351295Z",
     "start_time": "2023-10-13T15:38:07.347361Z"
    }
   },
   "id": "395e91a913910730"
  },
  {
   "cell_type": "code",
   "execution_count": null,
   "outputs": [],
   "source": [],
   "metadata": {
    "collapsed": false
   },
   "id": "e59f74cb58e5426f"
  }
 ],
 "metadata": {
  "kernelspec": {
   "display_name": "Python 3",
   "language": "python",
   "name": "python3"
  },
  "language_info": {
   "codemirror_mode": {
    "name": "ipython",
    "version": 2
   },
   "file_extension": ".py",
   "mimetype": "text/x-python",
   "name": "python",
   "nbconvert_exporter": "python",
   "pygments_lexer": "ipython2",
   "version": "2.7.6"
  }
 },
 "nbformat": 4,
 "nbformat_minor": 5
}
