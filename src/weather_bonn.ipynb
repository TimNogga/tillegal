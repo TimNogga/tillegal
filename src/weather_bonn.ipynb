{
 "cells": [
  {
   "cell_type": "code",
   "execution_count": 13,
   "outputs": [],
   "source": [
    "import requests\n",
    "import json\n",
    "import matplotlib.pyplot as plt\n",
    "import numpy as np\n",
    "import pandas as pd\n",
    "from datetime import datetime"
   ],
   "metadata": {
    "collapsed": false,
    "ExecuteTime": {
     "end_time": "2023-08-01T10:42:10.362818Z",
     "start_time": "2023-08-01T10:42:10.357913Z"
    }
   },
   "id": "5fb54381f541c50b"
  },
  {
   "cell_type": "code",
   "execution_count": 19,
   "outputs": [
    {
     "data": {
      "text/plain": "<Figure size 640x480 with 1 Axes>",
      "image/png": "[encoded data removed]"
     },
     "metadata": {},
     "output_type": "display_data"
    },
    {
     "name": "stdout",
     "output_type": "stream",
     "text": [
      "light rain with a temperature of 20.03°C (feels like 19.79°C), wind W at 7.72 m/s, humidity 65%.\n"
     ]
    }
   ],
   "source": [
    "#plot graph outputting the current weather of bonn using opeanweathermap api \n",
    "import requests\n",
    "\n",
    "def get_weather_data(api_key, city):\n",
    "    base_url = \"http://api.openweathermap.org/data/2.5/weather\"\n",
    "    params = {\n",
    "        \"q\": city,\n",
    "        \"appid\": api_key,\n",
    "        \"units\": \"metric\"  # You can change units to \"imperial\" for Fahrenheit.\n",
    "    }\n",
    "    response = requests.get(base_url, params=params)\n",
    "    data = response.json()\n",
    "    return data\n",
    "\n",
    "def plot_weather_data(weather_data):\n",
    "    # Extract relevant data from the weather_data dictionary.\n",
    "    city = weather_data[\"name\"]\n",
    "    temperature = weather_data[\"main\"][\"temp\"]\n",
    "    feels_like = weather_data[\"main\"][\"feels_like\"]\n",
    "    humidity = weather_data[\"main\"][\"humidity\"]\n",
    "    wind_speed = weather_data[\"wind\"][\"speed\"]\n",
    "    wind_direction = weather_data[\"wind\"][\"deg\"]\n",
    "    weather_description = weather_data[\"weather\"][0][\"description\"]\n",
    "    weather_icon = weather_data[\"weather\"][0][\"icon\"]\n",
    "    # Convert wind direction from degrees to a string.\n",
    "    if wind_direction < 45 or wind_direction > 315:\n",
    "        wind_direction = \"N\"\n",
    "    elif 45 <= wind_direction < 135:\n",
    "        wind_direction = \"E\"\n",
    "    elif 135 <= wind_direction < 225:\n",
    "        wind_direction = \"S\"\n",
    "    else:\n",
    "        wind_direction = \"W\"\n",
    "    # Create a string summarizing the weather.\n",
    "    summary = f\"{weather_description} with a temperature of {temperature}°C (feels like {feels_like}°C), wind {wind_direction} at {wind_speed} m/s, humidity {humidity}%.\"\n",
    "    # Plot the weather icon.\n",
    "    icon_url = f\"http://openweathermap.org/img/w/{weather_icon}.png\"\n",
    "    icon_data = requests.get(icon_url).content\n",
    "    with open(\"icon.png\", \"wb\") as f:\n",
    "        f.write(icon_data)\n",
    "    icon = plt.imread(\"icon.png\")\n",
    "    plt.imshow(icon)\n",
    "    plt.axis(\"off\")\n",
    "    plt.title(f\"Current weather in {city}\")\n",
    "    plt.show()\n",
    "    # Print the summary.\n",
    "    print(summary)\n",
    "    # give prediction for the next 5 hours\n",
    "    # Extract the hourly forecast data.\n",
    "    \n",
    "    \n",
    "\n",
    "if __name__ == \"__main__\":\n",
    "    api_key = \"f4766afce71a842adab3a4955f9270c3\"  # Replace this with your actual API key.\n",
    "    city = \"Bonn\"\n",
    "    weather_data = get_weather_data(api_key, city)\n",
    "    plot_weather_data(weather_data)"
   ],
   "metadata": {
    "collapsed": false,
    "ExecuteTime": {
     "end_time": "2023-08-01T10:47:34.194430Z",
     "start_time": "2023-08-01T10:47:34.028186Z"
    }
   },
   "id": "f2d3b66409a38614"
  },
  {
   "cell_type": "code",
   "execution_count": 3,
   "outputs": [
    {
     "name": "stdout",
     "output_type": "stream",
     "text": [
      "hello world\n"
     ]
    }
   ],
   "source": [],
   "metadata": {
    "collapsed": false,
    "ExecuteTime": {
     "end_time": "2023-08-01T10:34:46.775317Z",
     "start_time": "2023-08-01T10:34:46.768207Z"
    }
   },
   "id": "aa0f8327dea50edf"
  },
  {
   "cell_type": "code",
   "execution_count": null,
   "outputs": [],
   "source": [],
   "metadata": {
    "collapsed": false
   },
   "id": "1e34ae978a0e57a5"
  }
 ],
 "metadata": {
  "kernelspec": {
   "display_name": "Python 3",
   "language": "python",
   "name": "python3"
  },
  "language_info": {
   "codemirror_mode": {
    "name": "ipython",
    "version": 2
   },
   "file_extension": ".py",
   "mimetype": "text/x-python",
   "name": "python",
   "nbconvert_exporter": "python",
   "pygments_lexer": "ipython2",
   "version": "2.7.6"
  }
 },
 "nbformat": 4,
 "nbformat_minor": 5
}
